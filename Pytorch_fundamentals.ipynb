{
 "cells": [
  {
   "cell_type": "markdown",
   "metadata": {},
   "source": [
    "## This Notebook contains fundamentals for `Tensor` and `Pytorch` with `CPU` and `GPU` usage at the bottom"
   ]
  },
  {
   "cell_type": "code",
   "execution_count": 1,
   "metadata": {
    "colab": {
     "base_uri": "https://localhost:8080/"
    },
    "id": "9PEjEwYae_qn",
    "outputId": "5ad30d8a-2cca-4504-9767-a6834d9d6295"
   },
   "outputs": [
    {
     "name": "stdout",
     "output_type": "stream",
     "text": [
      "2.0.1+cu118\n"
     ]
    }
   ],
   "source": [
    "import torch\n",
    "import pandas as pd\n",
    "import numpy as np\n",
    "import matplotlib.pyplot as plt\n",
    "print(torch.__version__)"
   ]
  },
  {
   "cell_type": "markdown",
   "metadata": {
    "id": "lfoidkoYfQJj"
   },
   "source": [
    "Pytorch tensors are created using `torch.Tensor()`\n",
    "\n",
    "`scalar` - (1)\n",
    "\n",
    "`vector` - [1, 2, 3]\n",
    "\n",
    "`MATRIX` = [[1, 2, 3],[4, 5, 6]]\n",
    "\n",
    "`TENSOR` = [ [[1, 2, 3], [4, 5, 6]],\n",
    "           [[1, 2, 3], [4, 5, 6]] ]\n",
    "\n",
    "Naming convention for `scalar and vector` are `lowecase` whereas for `MATRIX and TENSORS`, its `UPPERCASE`.\n",
    "\n",
    "\n",
    "Neural Network start with random `TENSORS` passed at the beginning which is `adjusted and updated` by the Neural Network each time looking at the data."
   ]
  },
  {
   "cell_type": "code",
   "execution_count": 2,
   "metadata": {
    "colab": {
     "base_uri": "https://localhost:8080/"
    },
    "id": "iTar5Iynf86w",
    "outputId": "a75cf947-f1de-4895-b8c7-ae499659be88"
   },
   "outputs": [
    {
     "data": {
      "text/plain": [
       "(torch.Size([244, 244, 3]), 3)"
      ]
     },
     "execution_count": 2,
     "metadata": {},
     "output_type": "execute_result"
    }
   ],
   "source": [
    " # Creating random tensors using rand()\n",
    "\n",
    " random_image = torch.rand(244, 244, 3) #height, width, color_channel\n",
    " random_image.shape, random_image.ndim"
   ]
  },
  {
   "cell_type": "code",
   "execution_count": 3,
   "metadata": {
    "colab": {
     "base_uri": "https://localhost:8080/"
    },
    "id": "SGAgRQmYoROL",
    "outputId": "155f9eba-f920-4511-efe9-efe2183fffd3"
   },
   "outputs": [
    {
     "data": {
      "text/plain": [
       "tensor([ 1,  2,  3,  4,  5,  6,  7,  8,  9, 10])"
      ]
     },
     "execution_count": 3,
     "metadata": {},
     "output_type": "execute_result"
    }
   ],
   "source": [
    "# Creating a range of tensors\n",
    "\n",
    "ten_tensors = torch.arange(1, 11, 1)\n",
    "ten_tensors\n"
   ]
  },
  {
   "cell_type": "code",
   "execution_count": 4,
   "metadata": {
    "colab": {
     "base_uri": "https://localhost:8080/"
    },
    "id": "4t7M7M8jpyPV",
    "outputId": "eb7ee2fb-3270-4b85-a47f-454bb9a9d75f"
   },
   "outputs": [
    {
     "data": {
      "text/plain": [
       "tensor([0, 0, 0, 0, 0, 0, 0, 0, 0, 0])"
      ]
     },
     "execution_count": 4,
     "metadata": {},
     "output_type": "execute_result"
    }
   ],
   "source": [
    "# Copying shape of other tensors and making same shape with '0'\n",
    "\n",
    "ten_zeroes = torch.zeros_like(ten_tensors)\n",
    "ten_zeroes"
   ]
  },
  {
   "cell_type": "markdown",
   "metadata": {
    "id": "cj2GG4Lrqi2W"
   },
   "source": [
    "### Tensor data-types\n",
    "**Note :** Tensor datatype is one of the three common issue that will cause error in PyTorch & Deep Learning.\n",
    "\n",
    "Those 3 are:\n",
    "1. Tensors not right datatype (float32/float16)\n",
    "2. Tensors not right shape\n",
    "3. Tensors not on the right device (GPU/CPU)"
   ]
  },
  {
   "cell_type": "code",
   "execution_count": 5,
   "metadata": {
    "colab": {
     "base_uri": "https://localhost:8080/"
    },
    "id": "0ZisIPyDrdoq",
    "outputId": "bb190181-bc43-49e3-aa35-7f29f3700298"
   },
   "outputs": [
    {
     "data": {
      "text/plain": [
       "tensor([3., 6., 9.])"
      ]
     },
     "execution_count": 5,
     "metadata": {},
     "output_type": "execute_result"
    }
   ],
   "source": [
    "# Float32 tensor\n",
    "\n",
    "float_32_tensor = torch.tensor([3.0, 6.0, 9.0],\n",
    "                               dtype = None, # dtype of tensor i.e (float32 or float16)\n",
    "                               device = None, # which device is tensor on\n",
    "                               requires_grad = False) # whether or not to track tensor gradients with this tensor operations\n",
    "\n",
    "float_32_tensor"
   ]
  },
  {
   "cell_type": "code",
   "execution_count": 6,
   "metadata": {
    "colab": {
     "base_uri": "https://localhost:8080/"
    },
    "id": "a1GaQxBZ-h-2",
    "outputId": "5a87da1b-53db-4f08-b3f3-9d19d7c86f3e"
   },
   "outputs": [
    {
     "data": {
      "text/plain": [
       "tensor([3., 6., 9.], dtype=torch.float16)"
      ]
     },
     "execution_count": 6,
     "metadata": {},
     "output_type": "execute_result"
    }
   ],
   "source": [
    "float_16_tensor = float_32_tensor.type(torch.float16)\n",
    "float_16_tensor"
   ]
  },
  {
   "cell_type": "code",
   "execution_count": 7,
   "metadata": {
    "colab": {
     "base_uri": "https://localhost:8080/"
    },
    "id": "0ezvhOh3-tHJ",
    "outputId": "aa46eceb-ccd3-41e0-f87f-255a78ff5b7e"
   },
   "outputs": [
    {
     "data": {
      "text/plain": [
       "tensor([ 9., 36., 81.])"
      ]
     },
     "execution_count": 7,
     "metadata": {},
     "output_type": "execute_result"
    }
   ],
   "source": [
    "(float_16_tensor * float_32_tensor)"
   ]
  },
  {
   "cell_type": "markdown",
   "metadata": {
    "id": "ZswKOfG1_ENt"
   },
   "source": [
    "### Solving tensor issue (Basics)\n",
    "\n",
    "1. Tensor not right datatype - to do get datatype from a tensor, can use `tensor.dtype`\n",
    "\n",
    "2. Tensor not right shape - to get shape from a tensor, can use `tensor.shape`\n",
    "\n",
    "3. Tensor not on the right device - to get device from a tensor, can use `tensor.device`\n"
   ]
  },
  {
   "cell_type": "code",
   "execution_count": 8,
   "metadata": {
    "colab": {
     "base_uri": "https://localhost:8080/"
    },
    "id": "PEUJ4sHSA3fA",
    "outputId": "cad052d6-c58b-45f0-95c3-a0a38d83d99d"
   },
   "outputs": [
    {
     "data": {
      "text/plain": [
       "tensor([[0.4115, 0.0761, 0.3307, 0.4234, 0.5012],\n",
       "        [0.3573, 0.2641, 0.8802, 0.2001, 0.8899],\n",
       "        [0.9665, 0.5191, 0.9036, 0.8884, 0.3983],\n",
       "        [0.2842, 0.1403, 0.9605, 0.7942, 0.3033],\n",
       "        [0.8613, 0.9432, 0.6249, 0.7590, 0.9455]])"
      ]
     },
     "execution_count": 8,
     "metadata": {},
     "output_type": "execute_result"
    }
   ],
   "source": [
    "some_tensor = torch.rand(5, 5)\n",
    "some_tensor"
   ]
  },
  {
   "cell_type": "code",
   "execution_count": 9,
   "metadata": {
    "colab": {
     "base_uri": "https://localhost:8080/"
    },
    "id": "B9iMtz-_A-QU",
    "outputId": "c7a2fadf-657a-4d9d-c55c-e7d96077fc8a"
   },
   "outputs": [
    {
     "name": "stdout",
     "output_type": "stream",
     "text": [
      "tensor([[0.4115, 0.0761, 0.3307, 0.4234, 0.5012],\n",
      "        [0.3573, 0.2641, 0.8802, 0.2001, 0.8899],\n",
      "        [0.9665, 0.5191, 0.9036, 0.8884, 0.3983],\n",
      "        [0.2842, 0.1403, 0.9605, 0.7942, 0.3033],\n",
      "        [0.8613, 0.9432, 0.6249, 0.7590, 0.9455]])\n",
      "Datatype of tensor : torch.float32\n",
      "Shape of tensor : torch.Size([5, 5])\n",
      "Device tensor is on : cpu\n"
     ]
    }
   ],
   "source": [
    "# Getting details of tensor\n",
    "\n",
    "print(some_tensor)\n",
    "print(f\"Datatype of tensor : {some_tensor.dtype}\")\n",
    "print(f\"Shape of tensor : {some_tensor.shape}\")\n",
    "print(f\"Device tensor is on : {some_tensor.device}\")"
   ]
  },
  {
   "cell_type": "markdown",
   "metadata": {
    "id": "cjuB8VZuBzSt"
   },
   "source": [
    "### Manipulating tensors\n",
    "\n",
    "Tensor operations include:\n",
    "* Addition\n",
    "* Substraction\n",
    "* Multiplication (element-wise)\n",
    "* Division\n",
    "* Matrix multiplication"
   ]
  },
  {
   "cell_type": "code",
   "execution_count": 10,
   "metadata": {
    "colab": {
     "base_uri": "https://localhost:8080/"
    },
    "id": "1ZjmPQCYBdct",
    "outputId": "d9b21a76-9d03-4137-f124-453f84e0fc54"
   },
   "outputs": [
    {
     "data": {
      "text/plain": [
       "tensor([11, 12, 13])"
      ]
     },
     "execution_count": 10,
     "metadata": {},
     "output_type": "execute_result"
    }
   ],
   "source": [
    "random_tensors = torch.tensor([1, 2, 3])\n",
    "random_tensors + 10"
   ]
  },
  {
   "cell_type": "code",
   "execution_count": 11,
   "metadata": {
    "colab": {
     "base_uri": "https://localhost:8080/"
    },
    "id": "KNDsO2HjBuex",
    "outputId": "1310e3a4-c34f-47a9-fa41-dfca112f5f23"
   },
   "outputs": [
    {
     "data": {
      "text/plain": [
       "tensor([10, 20, 30])"
      ]
     },
     "execution_count": 11,
     "metadata": {},
     "output_type": "execute_result"
    }
   ],
   "source": [
    "random_tensors * 10"
   ]
  },
  {
   "cell_type": "code",
   "execution_count": 12,
   "metadata": {
    "colab": {
     "base_uri": "https://localhost:8080/"
    },
    "id": "3kF8RE7MB1SI",
    "outputId": "c7634bb6-9fb9-4130-b994-74edcf30887a"
   },
   "outputs": [
    {
     "data": {
      "text/plain": [
       "tensor([-9, -8, -7])"
      ]
     },
     "execution_count": 12,
     "metadata": {},
     "output_type": "execute_result"
    }
   ],
   "source": [
    "random_tensors - 10"
   ]
  },
  {
   "cell_type": "code",
   "execution_count": 13,
   "metadata": {
    "colab": {
     "base_uri": "https://localhost:8080/"
    },
    "id": "tynm5fvpCCS5",
    "outputId": "af4bd57c-763a-4215-9647-e293fe906efa"
   },
   "outputs": [
    {
     "data": {
      "text/plain": [
       "tensor([10, 20, 30])"
      ]
     },
     "execution_count": 13,
     "metadata": {},
     "output_type": "execute_result"
    }
   ],
   "source": [
    "# Pytorch inbuilt functions\n",
    "\n",
    "torch.mul(random_tensors, 10)"
   ]
  },
  {
   "cell_type": "code",
   "execution_count": 14,
   "metadata": {
    "colab": {
     "base_uri": "https://localhost:8080/"
    },
    "id": "mhvtu4YLCK60",
    "outputId": "d5bb41d4-1e10-4be4-bc22-061b5997ccf8"
   },
   "outputs": [
    {
     "data": {
      "text/plain": [
       "tensor([11, 12, 13])"
      ]
     },
     "execution_count": 14,
     "metadata": {},
     "output_type": "execute_result"
    }
   ],
   "source": [
    "torch.add(random_tensors, 10)"
   ]
  },
  {
   "cell_type": "markdown",
   "metadata": {
    "id": "U8pP_fYRCSih"
   },
   "source": [
    "### Matrix multiplication\n",
    "\n",
    "Two main ways of performing multiplication in neural networks and deep learning:\n",
    "1. Element wise multiplication\n",
    "2. Matrix multiplication (dot product)"
   ]
  },
  {
   "cell_type": "code",
   "execution_count": 15,
   "metadata": {
    "colab": {
     "base_uri": "https://localhost:8080/"
    },
    "id": "kDGUBUPdHYjb",
    "outputId": "aa049235-2b95-41dd-e286-e0fafcc5a229"
   },
   "outputs": [
    {
     "name": "stdout",
     "output_type": "stream",
     "text": [
      "tensor([[ 1,  4,  9],\n",
      "        [16, 25, 36]])\n"
     ]
    }
   ],
   "source": [
    "# Element wise multiplication\n",
    "\n",
    "tensor = torch.tensor([[1, 2, 3],[4, 5, 6]])\n",
    "print(tensor * tensor)"
   ]
  },
  {
   "cell_type": "code",
   "execution_count": 16,
   "metadata": {
    "colab": {
     "base_uri": "https://localhost:8080/"
    },
    "id": "7FFDxNkpHkHp",
    "outputId": "5086549f-8975-4adb-f661-3a0233fddc82"
   },
   "outputs": [
    {
     "name": "stderr",
     "output_type": "stream",
     "text": [
      "UsageError: Line magic function `%%time` not found.\n"
     ]
    }
   ],
   "source": [
    "# Matrix multiplication\n",
    "%%time\n",
    "torch.matmul(tensor, tensor.T) # torch.mm() is same as torch.matmul()"
   ]
  },
  {
   "cell_type": "code",
   "execution_count": 17,
   "metadata": {
    "colab": {
     "base_uri": "https://localhost:8080/"
    },
    "id": "fI7Jiy5VIMKb",
    "outputId": "5f40899a-ace7-4809-efb2-d0c27a6db0ca"
   },
   "outputs": [
    {
     "name": "stderr",
     "output_type": "stream",
     "text": [
      "UsageError: Line magic function `%%time` not found.\n"
     ]
    }
   ],
   "source": [
    "# @ can be used for matrix multiplication\n",
    "%%time\n",
    "tensor @ tensor.T"
   ]
  },
  {
   "cell_type": "code",
   "execution_count": 18,
   "metadata": {
    "colab": {
     "base_uri": "https://localhost:8080/"
    },
    "id": "Qm8HNdoYJvIW",
    "outputId": "a96be1ee-0c1c-440f-8836-8d5e8a8390de"
   },
   "outputs": [
    {
     "data": {
      "text/plain": [
       "tensor([[1, 4],\n",
       "        [2, 5],\n",
       "        [3, 6]])"
      ]
     },
     "execution_count": 18,
     "metadata": {},
     "output_type": "execute_result"
    }
   ],
   "source": [
    "tensor.T"
   ]
  },
  {
   "cell_type": "markdown",
   "metadata": {
    "id": "YMlD1O8TXiGH"
   },
   "source": [
    "### Datatype mismatch error encountered"
   ]
  },
  {
   "cell_type": "code",
   "execution_count": 19,
   "metadata": {
    "colab": {
     "base_uri": "https://localhost:8080/",
     "height": 192
    },
    "id": "3hkrV3b1U8DK",
    "outputId": "afdf66f6-caa5-48c5-9a34-81fc870f4d8c"
   },
   "outputs": [
    {
     "ename": "RuntimeError",
     "evalue": "mean(): could not infer output dtype. Input dtype must be either a floating point or complex dtype. Got: Long",
     "output_type": "error",
     "traceback": [
      "\u001b[1;31m---------------------------------------------------------------------------\u001b[0m",
      "\u001b[1;31mRuntimeError\u001b[0m                              Traceback (most recent call last)",
      "Cell \u001b[1;32mIn[19], line 1\u001b[0m\n\u001b[1;32m----> 1\u001b[0m torch\u001b[38;5;241m.\u001b[39mmean(tensor)\n",
      "\u001b[1;31mRuntimeError\u001b[0m: mean(): could not infer output dtype. Input dtype must be either a floating point or complex dtype. Got: Long"
     ]
    }
   ],
   "source": [
    "torch.mean(tensor)"
   ]
  },
  {
   "cell_type": "code",
   "execution_count": null,
   "metadata": {
    "colab": {
     "base_uri": "https://localhost:8080/"
    },
    "id": "QThayKBrXTks",
    "outputId": "c39b05ff-1268-4b68-b8df-b598ec654ba0"
   },
   "outputs": [],
   "source": [
    "torch.mean(tensor.type(torch.float32))"
   ]
  },
  {
   "cell_type": "markdown",
   "metadata": {
    "id": "uOvdJ4vaX5Yw"
   },
   "source": [
    "### Reshaping, Stacking, squeezing and unsqueezing tensors\n",
    "\n",
    "* Reshaping - reshapes an input tensor to a defined shape\n",
    "\n",
    "* View - Return a view of an input tensor of certain shape but keep the same memory as original tensor\n",
    "\n",
    "* Stacking - combine multiple tensors on top of each other (vstack) or side by side (hstack)\n",
    "\n",
    "* Squeeze - removes all `1` dimensions from a tensor\n",
    "\n",
    "* Unsqueeze - add a `1` dimension to a target tensor\n",
    "\n",
    "* Permute - Return a view of the input with dimensions permuted (swapped) in a certain way\n",
    "\n",
    "\n",
    "\n"
   ]
  },
  {
   "cell_type": "code",
   "execution_count": null,
   "metadata": {
    "colab": {
     "base_uri": "https://localhost:8080/"
    },
    "id": "c01OewISZ5pk",
    "outputId": "e9e67733-0f84-440a-9e0a-66b0378ccad0"
   },
   "outputs": [],
   "source": [
    "import torch\n",
    "\n",
    "x = torch.arange( 1., 21.)\n",
    "x"
   ]
  },
  {
   "cell_type": "code",
   "execution_count": null,
   "metadata": {
    "colab": {
     "base_uri": "https://localhost:8080/"
    },
    "id": "BxPRmPbpaCkk",
    "outputId": "66746f47-3a90-4e4d-bc4b-9f4ed1fed668"
   },
   "outputs": [],
   "source": [
    "# Adding extra dimension\n",
    "\n",
    "x_reshaped = x.reshape(4, 5)\n",
    "x_reshaped"
   ]
  },
  {
   "cell_type": "code",
   "execution_count": 20,
   "metadata": {
    "colab": {
     "base_uri": "https://localhost:8080/"
    },
    "id": "QREouJboaPZA",
    "outputId": "02675f9a-2ed7-417f-f789-789336f15381"
   },
   "outputs": [
    {
     "ename": "NameError",
     "evalue": "name 'x' is not defined",
     "output_type": "error",
     "traceback": [
      "\u001b[1;31m---------------------------------------------------------------------------\u001b[0m",
      "\u001b[1;31mNameError\u001b[0m                                 Traceback (most recent call last)",
      "Cell \u001b[1;32mIn[20], line 3\u001b[0m\n\u001b[0;32m      1\u001b[0m \u001b[38;5;66;03m# Change the view\u001b[39;00m\n\u001b[1;32m----> 3\u001b[0m x_view \u001b[38;5;241m=\u001b[39m x\u001b[38;5;241m.\u001b[39mview(\u001b[38;5;241m20\u001b[39m, \u001b[38;5;241m1\u001b[39m)\n\u001b[0;32m      4\u001b[0m x_view\n",
      "\u001b[1;31mNameError\u001b[0m: name 'x' is not defined"
     ]
    }
   ],
   "source": [
    "# Change the view\n",
    "\n",
    "x_view = x.view(20, 1)\n",
    "x_view"
   ]
  },
  {
   "cell_type": "markdown",
   "metadata": {
    "id": "l_tw4PZubvZx"
   },
   "source": [
    "changing `x.view()` changes x because (view of a tensor shares the same memory as the original input)"
   ]
  },
  {
   "cell_type": "code",
   "execution_count": 21,
   "metadata": {
    "colab": {
     "base_uri": "https://localhost:8080/"
    },
    "id": "Han6cOuxbthV",
    "outputId": "b568803b-bdc3-4450-ae66-0afe582423b8"
   },
   "outputs": [
    {
     "ename": "NameError",
     "evalue": "name 'x_view' is not defined",
     "output_type": "error",
     "traceback": [
      "\u001b[1;31m---------------------------------------------------------------------------\u001b[0m",
      "\u001b[1;31mNameError\u001b[0m                                 Traceback (most recent call last)",
      "Cell \u001b[1;32mIn[21], line 1\u001b[0m\n\u001b[1;32m----> 1\u001b[0m x_view[:, \u001b[38;5;241m0\u001b[39m:][\u001b[38;5;241m0\u001b[39m] \u001b[38;5;241m=\u001b[39m \u001b[38;5;241m123\u001b[39m\n\u001b[0;32m      2\u001b[0m x_view\n",
      "\u001b[1;31mNameError\u001b[0m: name 'x_view' is not defined"
     ]
    }
   ],
   "source": [
    "x_view[:, 0:][0] = 123\n",
    "x_view"
   ]
  },
  {
   "cell_type": "code",
   "execution_count": 22,
   "metadata": {
    "colab": {
     "base_uri": "https://localhost:8080/"
    },
    "id": "I8-mO2-Uczgi",
    "outputId": "5e7cc257-1d34-483f-8d4e-b65800990712"
   },
   "outputs": [
    {
     "ename": "NameError",
     "evalue": "name 'x' is not defined",
     "output_type": "error",
     "traceback": [
      "\u001b[1;31m---------------------------------------------------------------------------\u001b[0m",
      "\u001b[1;31mNameError\u001b[0m                                 Traceback (most recent call last)",
      "Cell \u001b[1;32mIn[22], line 3\u001b[0m\n\u001b[0;32m      1\u001b[0m \u001b[38;5;66;03m# Stacking tensors on top of each other\u001b[39;00m\n\u001b[1;32m----> 3\u001b[0m x_stacked \u001b[38;5;241m=\u001b[39m torch\u001b[38;5;241m.\u001b[39mstack([x, x], dim \u001b[38;5;241m=\u001b[39m \u001b[38;5;241m0\u001b[39m)\n\u001b[0;32m      4\u001b[0m x_stacked\n",
      "\u001b[1;31mNameError\u001b[0m: name 'x' is not defined"
     ]
    }
   ],
   "source": [
    "# Stacking tensors on top of each other\n",
    "\n",
    "x_stacked = torch.stack([x, x], dim = 0)\n",
    "x_stacked"
   ]
  },
  {
   "cell_type": "code",
   "execution_count": 23,
   "metadata": {
    "colab": {
     "base_uri": "https://localhost:8080/"
    },
    "id": "C8E_iqfLwL0D",
    "outputId": "285af2f6-9408-4e6a-cda5-a304e10cd6ac"
   },
   "outputs": [
    {
     "ename": "NameError",
     "evalue": "name 'x_view' is not defined",
     "output_type": "error",
     "traceback": [
      "\u001b[1;31m---------------------------------------------------------------------------\u001b[0m",
      "\u001b[1;31mNameError\u001b[0m                                 Traceback (most recent call last)",
      "Cell \u001b[1;32mIn[23], line 4\u001b[0m\n\u001b[0;32m      1\u001b[0m \u001b[38;5;66;03m# Squeeze removes 1 dimension from tensor\u001b[39;00m\n\u001b[0;32m      2\u001b[0m \u001b[38;5;66;03m# Unsqueeze does opposite\u001b[39;00m\n\u001b[1;32m----> 4\u001b[0m x_squeezed \u001b[38;5;241m=\u001b[39m x_view\u001b[38;5;241m.\u001b[39msqueeze()\n\u001b[0;32m      5\u001b[0m x_squeezed\n",
      "\u001b[1;31mNameError\u001b[0m: name 'x_view' is not defined"
     ]
    }
   ],
   "source": [
    "# Squeeze removes 1 dimension from tensor\n",
    "# Unsqueeze does opposite\n",
    "\n",
    "x_squeezed = x_view.squeeze()\n",
    "x_squeezed"
   ]
  },
  {
   "cell_type": "code",
   "execution_count": 24,
   "metadata": {
    "colab": {
     "base_uri": "https://localhost:8080/"
    },
    "id": "EgkvgRN0wkNc",
    "outputId": "1f84ad73-7091-4848-9e9d-857323e0c55b"
   },
   "outputs": [
    {
     "ename": "NameError",
     "evalue": "name 'x_squeezed' is not defined",
     "output_type": "error",
     "traceback": [
      "\u001b[1;31m---------------------------------------------------------------------------\u001b[0m",
      "\u001b[1;31mNameError\u001b[0m                                 Traceback (most recent call last)",
      "Cell \u001b[1;32mIn[24], line 1\u001b[0m\n\u001b[1;32m----> 1\u001b[0m x_unsqueezed \u001b[38;5;241m=\u001b[39m torch\u001b[38;5;241m.\u001b[39munsqueeze(x_squeezed, dim \u001b[38;5;241m=\u001b[39m \u001b[38;5;241m1\u001b[39m)\n\u001b[0;32m      2\u001b[0m x_unsqueezed\n",
      "\u001b[1;31mNameError\u001b[0m: name 'x_squeezed' is not defined"
     ]
    }
   ],
   "source": [
    "x_unsqueezed = torch.unsqueeze(x_squeezed, dim = 1)\n",
    "x_unsqueezed"
   ]
  },
  {
   "cell_type": "code",
   "execution_count": 25,
   "metadata": {
    "colab": {
     "base_uri": "https://localhost:8080/"
    },
    "id": "4O0uKLtg0DNe",
    "outputId": "f8a4b1b6-7095-41a4-acfe-bd0a3e2bb57e"
   },
   "outputs": [
    {
     "data": {
      "text/plain": [
       "torch.Size([224, 224, 3])"
      ]
     },
     "execution_count": 25,
     "metadata": {},
     "output_type": "execute_result"
    }
   ],
   "source": [
    "# Permute - rearranges the dimensions of a target dimension in a specified order\n",
    "\n",
    "x_original = torch.rand(size = (224, 224, 3))\n",
    "x_original.size()\n"
   ]
  },
  {
   "cell_type": "code",
   "execution_count": 26,
   "metadata": {
    "colab": {
     "base_uri": "https://localhost:8080/"
    },
    "id": "QYGhh8x207u8",
    "outputId": "26ae6a7b-abfc-4963-9bd6-0c5134338386"
   },
   "outputs": [
    {
     "data": {
      "text/plain": [
       "torch.Size([3, 224, 224])"
      ]
     },
     "execution_count": 26,
     "metadata": {},
     "output_type": "execute_result"
    }
   ],
   "source": [
    "# Lets switch the dimension of above image tensors(color channel at first)\n",
    "\n",
    "x_permuted = x_original.permute(2, 0, 1)\n",
    "x_permuted.size()"
   ]
  },
  {
   "cell_type": "code",
   "execution_count": 27,
   "metadata": {
    "id": "pX5GLD8U1gzo"
   },
   "outputs": [
    {
     "data": {
      "text/plain": [
       "tensor([[[0.5026, 0.7786, 0.7666,  ..., 0.8700, 0.7194, 0.4978],\n",
       "         [0.2347, 0.9349, 0.8869,  ..., 0.9523, 0.0197, 0.9701],\n",
       "         [0.6737, 0.4413, 0.2013,  ..., 0.4978, 0.7296, 0.7330],\n",
       "         ...,\n",
       "         [0.8120, 0.0955, 0.1799,  ..., 0.0674, 0.4318, 0.9547],\n",
       "         [0.8261, 0.5608, 0.2504,  ..., 0.2146, 0.1920, 0.5991],\n",
       "         [0.2871, 0.2163, 0.7350,  ..., 0.0646, 0.8716, 0.2264]],\n",
       "\n",
       "        [[0.7747, 0.6490, 0.2056,  ..., 0.0141, 0.6215, 0.5394],\n",
       "         [0.4480, 0.2772, 0.3224,  ..., 0.9078, 0.6271, 0.6745],\n",
       "         [0.5389, 0.9071, 0.1857,  ..., 0.3824, 0.7075, 0.5544],\n",
       "         ...,\n",
       "         [0.0031, 0.8531, 0.0079,  ..., 0.4148, 0.2971, 0.2421],\n",
       "         [0.6321, 0.1236, 0.4196,  ..., 0.0983, 0.3878, 0.8915],\n",
       "         [0.3759, 0.6114, 0.1857,  ..., 0.1755, 0.2561, 0.1133]],\n",
       "\n",
       "        [[0.7543, 0.9996, 0.8877,  ..., 0.2733, 0.1999, 0.3146],\n",
       "         [0.7466, 0.9264, 0.9835,  ..., 0.5032, 0.1138, 0.5132],\n",
       "         [0.9858, 0.3918, 0.4193,  ..., 0.6236, 0.3447, 0.4917],\n",
       "         ...,\n",
       "         [0.2820, 0.3845, 0.6989,  ..., 0.8228, 0.6846, 0.4150],\n",
       "         [0.1944, 0.5620, 0.3874,  ..., 0.8512, 0.3785, 0.6136],\n",
       "         [0.5632, 0.3733, 0.6127,  ..., 0.4581, 0.6645, 0.8251]]])"
      ]
     },
     "execution_count": 27,
     "metadata": {},
     "output_type": "execute_result"
    }
   ],
   "source": [
    "x_permuted"
   ]
  },
  {
   "cell_type": "code",
   "execution_count": 28,
   "metadata": {
    "id": "l-jK5_Fk2Ykz"
   },
   "outputs": [
    {
     "data": {
      "text/plain": [
       "tensor([[[1.0000, 0.7747, 0.7543],\n",
       "         [0.7786, 0.6490, 0.9996],\n",
       "         [0.7666, 0.2056, 0.8877],\n",
       "         ...,\n",
       "         [0.8700, 0.0141, 0.2733],\n",
       "         [0.7194, 0.6215, 0.1999],\n",
       "         [0.4978, 0.5394, 0.3146]],\n",
       "\n",
       "        [[0.2347, 0.4480, 0.7466],\n",
       "         [0.9349, 0.2772, 0.9264],\n",
       "         [0.8869, 0.3224, 0.9835],\n",
       "         ...,\n",
       "         [0.9523, 0.9078, 0.5032],\n",
       "         [0.0197, 0.6271, 0.1138],\n",
       "         [0.9701, 0.6745, 0.5132]],\n",
       "\n",
       "        [[0.6737, 0.5389, 0.9858],\n",
       "         [0.4413, 0.9071, 0.3918],\n",
       "         [0.2013, 0.1857, 0.4193],\n",
       "         ...,\n",
       "         [0.4978, 0.3824, 0.6236],\n",
       "         [0.7296, 0.7075, 0.3447],\n",
       "         [0.7330, 0.5544, 0.4917]],\n",
       "\n",
       "        ...,\n",
       "\n",
       "        [[0.8120, 0.0031, 0.2820],\n",
       "         [0.0955, 0.8531, 0.3845],\n",
       "         [0.1799, 0.0079, 0.6989],\n",
       "         ...,\n",
       "         [0.0674, 0.4148, 0.8228],\n",
       "         [0.4318, 0.2971, 0.6846],\n",
       "         [0.9547, 0.2421, 0.4150]],\n",
       "\n",
       "        [[0.8261, 0.6321, 0.1944],\n",
       "         [0.5608, 0.1236, 0.5620],\n",
       "         [0.2504, 0.4196, 0.3874],\n",
       "         ...,\n",
       "         [0.2146, 0.0983, 0.8512],\n",
       "         [0.1920, 0.3878, 0.3785],\n",
       "         [0.5991, 0.8915, 0.6136]],\n",
       "\n",
       "        [[0.2871, 0.3759, 0.5632],\n",
       "         [0.2163, 0.6114, 0.3733],\n",
       "         [0.7350, 0.1857, 0.6127],\n",
       "         ...,\n",
       "         [0.0646, 0.1755, 0.4581],\n",
       "         [0.8716, 0.2561, 0.6645],\n",
       "         [0.2264, 0.1133, 0.8251]]])"
      ]
     },
     "execution_count": 28,
     "metadata": {},
     "output_type": "execute_result"
    }
   ],
   "source": [
    "x_permuted[0, 0, 0] = 1\n",
    "x_original"
   ]
  },
  {
   "cell_type": "code",
   "execution_count": 29,
   "metadata": {
    "colab": {
     "base_uri": "https://localhost:8080/"
    },
    "id": "5Apdbldm2gC6",
    "outputId": "6f6fe1c3-f40f-4db1-e12b-4d83945a13a8"
   },
   "outputs": [
    {
     "data": {
      "text/plain": [
       "tensor([[[[0.7549, 0.8628],\n",
       "          [0.6440, 0.7589],\n",
       "          [0.8100, 0.2042]],\n",
       "\n",
       "         [[0.5792, 0.2178],\n",
       "          [0.6632, 0.1413],\n",
       "          [0.7230, 0.5499]]],\n",
       "\n",
       "\n",
       "        [[[0.1536, 0.3956],\n",
       "          [0.4100, 0.5160],\n",
       "          [0.4417, 0.0305]],\n",
       "\n",
       "         [[0.2399, 0.0131],\n",
       "          [0.9648, 0.2430],\n",
       "          [0.3655, 0.2216]]]])"
      ]
     },
     "execution_count": 29,
     "metadata": {},
     "output_type": "execute_result"
    }
   ],
   "source": [
    "# Indexing / Slicing\n",
    "\n",
    "mat = torch.rand(2, 2, 3, 2)\n",
    "mat"
   ]
  },
  {
   "cell_type": "code",
   "execution_count": 30,
   "metadata": {
    "colab": {
     "base_uri": "https://localhost:8080/"
    },
    "id": "a5mpWaHpDwdm",
    "outputId": "8bdd8516-0d4f-4b2f-b41f-dd31dbd0aebd"
   },
   "outputs": [
    {
     "data": {
      "text/plain": [
       "tensor([[[0.7549, 0.8628],\n",
       "         [0.6440, 0.7589],\n",
       "         [0.8100, 0.2042]],\n",
       "\n",
       "        [[0.5792, 0.2178],\n",
       "         [0.6632, 0.1413],\n",
       "         [0.7230, 0.5499]]])"
      ]
     },
     "execution_count": 30,
     "metadata": {},
     "output_type": "execute_result"
    }
   ],
   "source": [
    "mat[0, :, :]"
   ]
  },
  {
   "cell_type": "markdown",
   "metadata": {
    "id": "z37eij4FD4tU"
   },
   "source": [
    "### Reproducibility (trying to take random out of random)\n",
    "\n",
    "`neural network`start with random numbers -> tensor operations -> update random numbers to try and make them of the data -> again -> again -> again\n",
    "\n",
    "use `randomseed`"
   ]
  },
  {
   "cell_type": "markdown",
   "metadata": {},
   "source": [
    "### Putting tensors (and models) on the GPU\n"
   ]
  },
  {
   "cell_type": "code",
   "execution_count": 75,
   "metadata": {},
   "outputs": [
    {
     "data": {
      "text/plain": [
       "'cuda'"
      ]
     },
     "execution_count": 75,
     "metadata": {},
     "output_type": "execute_result"
    }
   ],
   "source": [
    "device = \"cuda\" if torch.cuda.is_available() else \"cpu\"\n",
    "device"
   ]
  },
  {
   "cell_type": "code",
   "execution_count": 81,
   "metadata": {},
   "outputs": [
    {
     "data": {
      "text/plain": [
       "(tensor([1, 2, 3]), device(type='cpu'))"
      ]
     },
     "execution_count": 81,
     "metadata": {},
     "output_type": "execute_result"
    }
   ],
   "source": [
    "tensor_on_cpu = torch.tensor([1, 2, 3], device = \"cpu\") # cpu is default\n",
    "device1 = tensor.device\n",
    "tensor, device1"
   ]
  },
  {
   "cell_type": "code",
   "execution_count": 82,
   "metadata": {},
   "outputs": [
    {
     "data": {
      "text/plain": [
       "(tensor([1, 2, 3], device='cuda:0'), device(type='cuda', index=0))"
      ]
     },
     "execution_count": 82,
     "metadata": {},
     "output_type": "execute_result"
    }
   ],
   "source": [
    "# moving tensor to GPU (if available)\n",
    "tensor_on_gpu = tensor_on_cpu.to(device)\n",
    "tensor_on_gpu, tensor_to_gpu.device"
   ]
  },
  {
   "cell_type": "code",
   "execution_count": 83,
   "metadata": {},
   "outputs": [],
   "source": [
    "# !nvidia-smi"
   ]
  },
  {
   "cell_type": "markdown",
   "metadata": {},
   "source": [
    "### Numpy doesnot work on GPU"
   ]
  },
  {
   "cell_type": "code",
   "execution_count": 91,
   "metadata": {},
   "outputs": [
    {
     "ename": "TypeError",
     "evalue": "can't convert cuda:0 device type tensor to numpy. Use Tensor.cpu() to copy the tensor to host memory first.",
     "output_type": "error",
     "traceback": [
      "\u001b[1;31m---------------------------------------------------------------------------\u001b[0m",
      "\u001b[1;31mTypeError\u001b[0m                                 Traceback (most recent call last)",
      "Cell \u001b[1;32mIn[91], line 1\u001b[0m\n\u001b[1;32m----> 1\u001b[0m tensor_on_gpu\u001b[38;5;241m.\u001b[39mnumpy()\n",
      "\u001b[1;31mTypeError\u001b[0m: can't convert cuda:0 device type tensor to numpy. Use Tensor.cpu() to copy the tensor to host memory first."
     ]
    }
   ],
   "source": [
    "tensor_on_gpu.numpy()\n"
   ]
  },
  {
   "cell_type": "code",
   "execution_count": 92,
   "metadata": {},
   "outputs": [
    {
     "data": {
      "text/plain": [
       "array([1, 2, 3], dtype=int64)"
      ]
     },
     "execution_count": 92,
     "metadata": {},
     "output_type": "execute_result"
    }
   ],
   "source": [
    "# Moving tensor back to cpu\n",
    "tensor_on_gpu.to('cpu').numpy()\n"
   ]
  },
  {
   "cell_type": "code",
   "execution_count": null,
   "metadata": {},
   "outputs": [],
   "source": []
  }
 ],
 "metadata": {
  "colab": {
   "provenance": []
  },
  "kernelspec": {
   "display_name": "Python 3 (ipykernel)",
   "language": "python",
   "name": "python3"
  },
  "language_info": {
   "codemirror_mode": {
    "name": "ipython",
    "version": 3
   },
   "file_extension": ".py",
   "mimetype": "text/x-python",
   "name": "python",
   "nbconvert_exporter": "python",
   "pygments_lexer": "ipython3",
   "version": "3.11.4"
  }
 },
 "nbformat": 4,
 "nbformat_minor": 1
}

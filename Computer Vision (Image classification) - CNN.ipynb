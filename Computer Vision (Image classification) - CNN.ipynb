{
 "cells": [
  {
   "cell_type": "markdown",
   "id": "b50101e7",
   "metadata": {},
   "source": [
    "### Computer vision libraries in PyTorch\n",
    "\n",
    "* [torchvision](https://pytorch.org/vision/stable/index.html) - base domain library for PyTorch compyter vision\n",
    "* `torchvision.datasets` - get datasets and dataloading functins for computer vision\n",
    "* `torchvision.models` - get pretrained computer vision models\n",
    "* `torchvision.transforms` - function for manipulating vision data (images)\n",
    "* `torch.utils.data.Dataset` - Base dataset class for PyTorch\n",
    "* `torch.utils.data.DataLoader` - Creates a Python iterable over a dataset"
   ]
  },
  {
   "cell_type": "code",
   "execution_count": 1,
   "id": "09349c17",
   "metadata": {},
   "outputs": [
    {
     "name": "stdout",
     "output_type": "stream",
     "text": [
      "2.0.1+cu118\n",
      "0.15.2+cu118\n"
     ]
    }
   ],
   "source": [
    "import torch\n",
    "from torch import nn\n",
    "\n",
    "import torchvision\n",
    "from torchvision import datasets\n",
    "from torchvision import transforms\n",
    "from torchvision.transforms import ToTensor\n",
    "\n",
    "import matplotlib.pyplot as plt\n",
    "\n",
    "print(torch.__version__)\n",
    "print(torchvision.__version__)"
   ]
  },
  {
   "cell_type": "markdown",
   "id": "6ab30fe0",
   "metadata": {},
   "source": [
    "### Getting a dataset \n",
    "\n",
    "The dataset we'll be using is FashionMNIST from torchvision.datasets -\n",
    "https://pytorch.org/vision/stable/generated/torchvision.datasets.FashionMNIST.html#torchvision.datasets.FashionMNIST"
   ]
  },
  {
   "cell_type": "code",
   "execution_count": 2,
   "id": "21807d5d",
   "metadata": {},
   "outputs": [],
   "source": [
    "# Setup training data\n",
    "\n",
    "from torchvision import datasets\n",
    "train_data = datasets.FashionMNIST(root = \"data\", # where to download data to?\n",
    "                                  train = True, # do we want the training dataset?\n",
    "                                  download = True, # do we want to download?\n",
    "                                  transform = torchvision.transforms.ToTensor(), # how do we want to transform the data?\n",
    "                                  target_transform = None # how do we want to transform the labels/targets?\n",
    "                                  )\n",
    "\n",
    "test_data = datasets.FashionMNIST(root = \"data\",\n",
    "                                  train = False,\n",
    "                                  download = True,\n",
    "                                  transform = ToTensor(),\n",
    "                                  target_transform = None\n",
    "                                 )"
   ]
  },
  {
   "cell_type": "code",
   "execution_count": 3,
   "id": "a5b801fb",
   "metadata": {},
   "outputs": [
    {
     "data": {
      "text/plain": [
       "(60000, 10000)"
      ]
     },
     "execution_count": 3,
     "metadata": {},
     "output_type": "execute_result"
    }
   ],
   "source": [
    "len(train_data), len(test_data)"
   ]
  },
  {
   "cell_type": "code",
   "execution_count": 4,
   "id": "ad327575",
   "metadata": {},
   "outputs": [],
   "source": [
    "images = []\n",
    "labels = []\n",
    "for image,label in train_data:\n",
    "    images.append(image)\n",
    "    labels.append(label)"
   ]
  },
  {
   "cell_type": "code",
   "execution_count": 5,
   "id": "b1c9b2da",
   "metadata": {},
   "outputs": [
    {
     "data": {
      "text/plain": [
       "tensor([9, 0, 0,  ..., 3, 0, 5])"
      ]
     },
     "execution_count": 5,
     "metadata": {},
     "output_type": "execute_result"
    }
   ],
   "source": [
    "train_data.targets"
   ]
  },
  {
   "cell_type": "code",
   "execution_count": 6,
   "id": "d3259188",
   "metadata": {},
   "outputs": [
    {
     "data": {
      "text/plain": [
       "['T-shirt/top',\n",
       " 'Trouser',\n",
       " 'Pullover',\n",
       " 'Dress',\n",
       " 'Coat',\n",
       " 'Sandal',\n",
       " 'Shirt',\n",
       " 'Sneaker',\n",
       " 'Bag',\n",
       " 'Ankle boot']"
      ]
     },
     "execution_count": 6,
     "metadata": {},
     "output_type": "execute_result"
    }
   ],
   "source": [
    "class_name = train_data.classes\n",
    "class_name"
   ]
  },
  {
   "cell_type": "markdown",
   "id": "1fea37ac",
   "metadata": {},
   "source": [
    "### Visualizing image"
   ]
  },
  {
   "cell_type": "code",
   "execution_count": 7,
   "id": "f88a4035",
   "metadata": {},
   "outputs": [
    {
     "data": {
      "text/plain": [
       "Text(0.5, 1.0, '5')"
      ]
     },
     "execution_count": 7,
     "metadata": {},
     "output_type": "execute_result"
    },
    {
     "data": {
      "image/png": "[encoded data removed]",
      "text/plain": [
       "<Figure size 640x480 with 1 Axes>"
      ]
     },
     "metadata": {},
     "output_type": "display_data"
    }
   ],
   "source": [
    "plt.imshow(images[0].squeeze())\n",
    "plt.title(label)"
   ]
  },
  {
   "cell_type": "code",
   "execution_count": 8,
   "id": "388d6fc2",
   "metadata": {},
   "outputs": [
    {
     "data": {
      "image/png": "[encoded data removed]",
      "text/plain": [
       "<Figure size 640x480 with 1 Axes>"
      ]
     },
     "metadata": {},
     "output_type": "display_data"
    }
   ],
   "source": [
    "plt.imshow(images[0].squeeze(), cmap = \"gray\")\n",
    "plt.title(class_name[labels[0]])\n",
    "plt.axis(False);"
   ]
  },
  {
   "cell_type": "code",
   "execution_count": 9,
   "id": "0d5de4ac",
   "metadata": {},
   "outputs": [
    {
     "data": {
      "image/png": "[encoded data removed]",
      "text/plain": [
       "<Figure size 900x900 with 16 Axes>"
      ]
     },
     "metadata": {},
     "output_type": "display_data"
    }
   ],
   "source": [
    "## Plot more images\n",
    "\n",
    "# torch.manual_seed(42)\n",
    "\n",
    "fig = plt.figure(figsize = (9, 9))\n",
    "rows, cols = 4, 4\n",
    "for i in range(1, rows*cols + 1):\n",
    "    random_index = torch.randint(0, len(train_data), size = [1]).item()\n",
    "    img, label = train_data[random_index]\n",
    "    fig.add_subplot(rows, cols, i)\n",
    "    plt.imshow(img.squeeze(), cmap = \"gray\")\n",
    "    plt.title(class_name[label])\n",
    "    plt.axis(False);"
   ]
  },
  {
   "cell_type": "markdown",
   "id": "dbac4686",
   "metadata": {},
   "source": [
    "## Preparing DataLoader\n",
    "\n",
    "Right now, we have our data in the form of PyTorch Datasets\n",
    "**DataLoader** turns our dataset into a Python iterable\n",
    "\n",
    "we want to divide our data into batches when training for efficient computing(in low memory) and avoid 60000 images in one hit.\n",
    "**Batches** means the amount of image (32 images = 32 batch size)\n",
    "\n",
    "It gives neural network more chances to update its gradients per epoch."
   ]
  },
  {
   "cell_type": "code",
   "execution_count": 10,
   "id": "2e5668be",
   "metadata": {},
   "outputs": [
    {
     "data": {
      "text/plain": [
       "(<torch.utils.data.dataloader.DataLoader at 0x20682e73910>,\n",
       " <torch.utils.data.dataloader.DataLoader at 0x206847f2ad0>)"
      ]
     },
     "execution_count": 10,
     "metadata": {},
     "output_type": "execute_result"
    }
   ],
   "source": [
    "from torch.utils.data import DataLoader\n",
    "\n",
    "# Setup the batch size hyperparameter\n",
    "BATCH_SIZE = 32\n",
    "\n",
    "# Turn datasets into iterables (batches)\n",
    "train_dataloader = DataLoader(dataset = train_data,\n",
    "                             batch_size = BATCH_SIZE,\n",
    "                             shuffle = True)\n",
    "\n",
    "test_dataloader = DataLoader(dataset = test_data,\n",
    "                            batch_size = BATCH_SIZE,\n",
    "                            shuffle = False)\n",
    "\n",
    "train_dataloader, test_dataloader"
   ]
  },
  {
   "cell_type": "code",
   "execution_count": 11,
   "id": "633bd726",
   "metadata": {},
   "outputs": [
    {
     "name": "stdout",
     "output_type": "stream",
     "text": [
      "DataLoaders ; (<torch.utils.data.dataloader.DataLoader object at 0x0000020682E73910>, <torch.utils.data.dataloader.DataLoader object at 0x00000206847F2AD0>)\n",
      "Length of train dataloader : 1875 Batches of 32\n",
      "Length of test dataloader : 313 Batches of 32\n"
     ]
    }
   ],
   "source": [
    "print(f\"DataLoaders ; {train_dataloader, test_dataloader}\")\n",
    "print(f\"Length of train dataloader : {len(train_dataloader)} Batches of {BATCH_SIZE}\")\n",
    "print(f\"Length of test dataloader : {len(test_dataloader)} Batches of {BATCH_SIZE}\")"
   ]
  },
  {
   "cell_type": "code",
   "execution_count": 12,
   "id": "fa7ccbd8",
   "metadata": {},
   "outputs": [
    {
     "data": {
      "text/plain": [
       "(torch.Size([32, 1, 28, 28]), torch.Size([32]))"
      ]
     },
     "execution_count": 12,
     "metadata": {},
     "output_type": "execute_result"
    }
   ],
   "source": [
    "# Checking out what's insider the training dataloader\n",
    "train_features_batch, train_labels_batch =  next(iter(train_dataloader))\n",
    "train_features_batch.shape, train_labels_batch.shape"
   ]
  },
  {
   "cell_type": "code",
   "execution_count": 13,
   "id": "b2c6a321",
   "metadata": {},
   "outputs": [
    {
     "name": "stdout",
     "output_type": "stream",
     "text": [
      "Image size : torch.Size([1, 28, 28])\n",
      "Label : 4, label size : torch.Size([])\n"
     ]
    },
    {
     "data": {
      "image/png": "[encoded data removed]",
      "text/plain": [
       "<Figure size 640x480 with 1 Axes>"
      ]
     },
     "metadata": {},
     "output_type": "display_data"
    }
   ],
   "source": [
    "# torch.manual_seed(42)\n",
    "random_index = torch.randint(0, len(train_features_batch), size = [1]).item()\n",
    "img, label = train_features_batch[random_index], train_labels_batch[random_index]\n",
    "plt.imshow(img.squeeze(), cmap = \"gray\")\n",
    "plt.title(class_name[label])\n",
    "plt.axis(False)\n",
    "print(f\"Image size : {img.shape}\")\n",
    "print(f\"Label : {label}, label size : {label.shape}\")\n"
   ]
  },
  {
   "cell_type": "markdown",
   "id": "cafe0ed7",
   "metadata": {},
   "source": [
    "## Modeling\n",
    "\n",
    "Best is if we start with a baseline model and add complexity as required.\n",
    "\n",
    "If something can be done in a simple way, it should be done in simple way"
   ]
  },
  {
   "cell_type": "code",
   "execution_count": 14,
   "id": "35c89a56",
   "metadata": {},
   "outputs": [
    {
     "data": {
      "text/plain": [
       "'cuda'"
      ]
     },
     "execution_count": 14,
     "metadata": {},
     "output_type": "execute_result"
    }
   ],
   "source": [
    "device = 'cuda' if torch.cuda.is_available() else 'cpu'\n",
    "device"
   ]
  },
  {
   "cell_type": "code",
   "execution_count": 15,
   "id": "fc0923dc",
   "metadata": {},
   "outputs": [
    {
     "data": {
      "text/plain": [
       "torch.Size([1, 28, 28])"
      ]
     },
     "execution_count": 15,
     "metadata": {},
     "output_type": "execute_result"
    }
   ],
   "source": [
    "# Creating a flatten layer\n",
    "flatten_model = nn.Flatten()\n",
    "\n",
    "# Getting a simple sample\n",
    "x = train_features_batch[0]\n",
    "x.shape"
   ]
  },
  {
   "cell_type": "code",
   "execution_count": 16,
   "id": "3acc1f3e",
   "metadata": {},
   "outputs": [
    {
     "data": {
      "text/plain": [
       "torch.Size([1, 784])"
      ]
     },
     "execution_count": 16,
     "metadata": {},
     "output_type": "execute_result"
    }
   ],
   "source": [
    "#Example\n",
    "\n",
    "# Flatten the sample\n",
    "output = flatten_model(x)\n",
    "\n",
    "output.shape\n",
    "\n",
    "# As seen, nn.Flatten() takes the data with multidimension and combines it all into a vector space(flat data).\n",
    "# Example - Tesla's 8 cameras record all of the data around the surrounding and flattens it into 3d vector space that allows 360 view in the screen"
   ]
  },
  {
   "cell_type": "code",
   "execution_count": 17,
   "id": "62ba81a5",
   "metadata": {
    "scrolled": true
   },
   "outputs": [
    {
     "data": {
      "text/plain": [
       "tensor([0.0000, 0.0000, 0.0000, 0.0000, 0.0000, 0.0000, 0.0000, 0.0000, 0.0000,\n",
       "        0.0000, 0.0000, 0.0000, 0.0000, 0.0000, 0.0000, 0.0000, 0.0000, 0.0000,\n",
       "        0.0000, 0.0000, 0.0000, 0.0000, 0.0000, 0.0000, 0.0000, 0.0000, 0.0000,\n",
       "        0.0000, 0.0000, 0.0000, 0.0000, 0.0000, 0.0000, 0.0000, 0.0000, 0.0000,\n",
       "        0.0000, 0.0000, 0.0000, 0.0000, 0.0000, 0.0000, 0.0000, 0.0000, 0.0000,\n",
       "        0.0000, 0.0000, 0.0000, 0.0000, 0.0000, 0.0000, 0.0000, 0.0000, 0.0000,\n",
       "        0.0000, 0.0000, 0.0000, 0.0000, 0.0000, 0.0000, 0.0000, 0.0000, 0.0000,\n",
       "        0.0000, 0.0039, 0.0000, 0.0000, 0.1373, 0.4549, 0.4549, 0.4392, 0.4431,\n",
       "        0.4078, 0.1490, 0.0000, 0.0000, 0.0000, 0.0039, 0.0078, 0.0000, 0.0000,\n",
       "        0.0000, 0.0000, 0.0000, 0.0000, 0.0000, 0.0000, 0.0000, 0.0000, 0.0000,\n",
       "        0.0000, 0.0078, 0.0000, 0.1647, 0.5961, 0.7059, 0.7255, 0.6745, 0.6627,\n",
       "        0.6824, 0.7373, 0.6941, 0.5569, 0.0314, 0.0000, 0.0157, 0.0000, 0.0000,\n",
       "        0.0000, 0.0000, 0.0000, 0.0000, 0.0000, 0.0000, 0.0000, 0.0000, 0.0000,\n",
       "        0.0078, 0.0118, 0.0000, 0.0000, 0.7647, 0.2471, 0.0000, 0.0000, 0.0000,\n",
       "        0.0000, 0.0000, 0.0000, 0.0000, 0.6588, 0.6000, 0.0000, 0.0196, 0.0078,\n",
       "        0.0235, 0.0000, 0.0000, 0.0000, 0.0000, 0.0000, 0.0000, 0.0078, 0.0235,\n",
       "        0.0353, 0.0000, 0.0000, 0.0000, 0.2902, 0.6039, 0.0000, 0.0000, 0.0000,\n",
       "        0.0000, 0.0000, 0.0000, 0.0000, 0.0000, 0.1451, 0.5059, 0.0000, 0.0000,\n",
       "        0.0000, 0.0000, 0.0000, 0.0235, 0.0000, 0.0000, 0.0000, 0.0000, 0.0000,\n",
       "        0.0000, 0.0000, 0.0000, 0.0392, 0.0157, 0.1451, 0.6549, 0.0000, 0.0000,\n",
       "        0.0000, 0.0000, 0.0000, 0.0000, 0.0000, 0.0000, 0.3412, 0.5059, 0.0000,\n",
       "        0.0000, 0.0000, 0.1686, 0.0000, 0.0000, 0.0000, 0.0000, 0.0078, 0.0000,\n",
       "        0.0000, 0.3922, 0.4941, 0.5569, 0.5137, 0.5843, 0.6941, 0.6275, 0.5882,\n",
       "        0.6392, 0.6314, 0.6431, 0.6549, 0.6549, 0.6667, 0.5529, 0.6118, 0.7608,\n",
       "        0.5725, 0.4078, 0.7216, 0.7961, 0.4196, 0.1412, 0.0000, 0.0000, 0.0000,\n",
       "        0.0000, 0.5922, 0.8196, 0.7216, 0.6157, 0.5294, 0.5490, 0.7333, 0.6980,\n",
       "        0.3059, 0.3451, 0.3686, 0.3333, 0.3529, 0.3725, 0.3490, 0.3961, 0.6235,\n",
       "        0.8078, 0.7490, 0.6392, 0.7098, 0.7804, 0.7529, 0.8196, 0.2039, 0.0000,\n",
       "        0.0000, 0.0980, 0.7686, 0.7059, 0.7373, 0.6941, 0.6392, 0.5412, 0.5451,\n",
       "        0.6235, 0.4863, 0.4824, 0.4392, 0.5176, 0.5725, 0.5647, 0.4902, 0.5882,\n",
       "        0.6667, 0.6667, 0.6118, 0.5647, 0.6196, 0.7529, 0.7961, 0.8118, 0.4157,\n",
       "        0.0000, 0.0000, 0.2275, 0.7608, 0.7373, 0.7490, 0.7490, 0.6275, 0.6510,\n",
       "        0.6471, 0.6745, 0.7373, 0.7529, 0.7451, 0.7608, 0.7529, 0.7569, 0.7020,\n",
       "        0.6549, 0.5804, 0.6549, 0.6353, 0.6157, 0.6118, 0.5922, 0.7451, 0.7804,\n",
       "        0.5843, 0.0000, 0.0000, 0.4314, 0.7137, 0.7059, 0.5098, 0.6235, 0.7843,\n",
       "        0.7804, 0.7569, 0.8196, 0.8078, 0.7961, 0.8118, 0.7882, 0.7647, 0.7686,\n",
       "        0.8039, 0.7804, 0.6980, 0.7216, 0.7333, 0.7765, 0.8157, 0.7647, 0.7098,\n",
       "        0.6667, 0.6314, 0.0000, 0.0000, 0.5922, 0.7098, 0.5647, 0.5608, 0.5961,\n",
       "        0.6824, 0.7059, 0.7686, 0.7725, 0.7686, 0.7843, 0.8000, 0.8078, 0.8157,\n",
       "        0.7961, 0.8275, 0.8157, 0.7843, 0.8157, 0.8039, 0.7804, 0.7569, 0.7922,\n",
       "        0.7804, 0.5647, 0.6902, 0.1529, 0.0000, 0.7137, 0.6824, 0.4431, 0.6353,\n",
       "        0.7059, 0.7137, 0.7176, 0.7608, 0.8000, 0.8314, 0.8510, 0.8667, 0.8745,\n",
       "        0.8863, 0.8667, 0.8627, 0.8627, 0.8392, 0.8314, 0.8157, 0.8118, 0.7804,\n",
       "        0.7333, 0.8196, 0.5882, 0.5725, 0.0157, 0.0000, 0.6471, 0.6706, 0.4588,\n",
       "        0.6078, 0.7020, 0.7647, 0.7647, 0.7647, 0.8118, 0.8235, 0.8314, 0.8471,\n",
       "        0.8431, 0.8431, 0.8314, 0.8275, 0.8353, 0.8275, 0.8196, 0.8118, 0.8118,\n",
       "        0.8275, 0.8078, 0.7725, 0.7569, 0.6627, 0.0000, 0.0000, 0.5804, 0.7333,\n",
       "        0.5216, 0.6078, 0.6784, 0.7569, 0.7608, 0.7569, 0.7961, 0.8118, 0.8235,\n",
       "        0.8353, 0.8392, 0.8471, 0.8353, 0.8196, 0.8235, 0.8314, 0.8275, 0.8157,\n",
       "        0.8196, 0.7843, 0.7529, 0.7373, 0.5216, 0.5961, 0.0000, 0.0000, 0.4588,\n",
       "        0.7137, 0.4353, 0.6392, 0.7137, 0.7569, 0.7725, 0.7882, 0.8118, 0.8235,\n",
       "        0.8275, 0.8431, 0.8471, 0.8627, 0.8627, 0.8471, 0.8510, 0.8471, 0.8392,\n",
       "        0.8314, 0.8392, 0.7882, 0.7569, 0.8667, 0.6706, 0.5255, 0.0000, 0.0000,\n",
       "        0.4353, 0.7255, 0.4353, 0.6314, 0.7647, 0.7843, 0.7569, 0.7882, 0.8275,\n",
       "        0.8353, 0.8392, 0.8510, 0.8353, 0.8549, 0.8627, 0.8549, 0.8510, 0.8510,\n",
       "        0.8431, 0.8353, 0.8275, 0.8431, 0.7843, 0.8235, 0.6706, 0.5333, 0.0000,\n",
       "        0.0000, 0.4588, 0.7216, 0.4824, 0.6275, 0.7804, 0.7961, 0.7725, 0.8000,\n",
       "        0.8235, 0.8353, 0.8353, 0.8431, 0.8549, 0.8588, 0.8627, 0.8667, 0.8627,\n",
       "        0.8471, 0.8510, 0.8431, 0.8314, 0.8353, 0.8235, 0.8431, 0.7098, 0.6392,\n",
       "        0.0000, 0.0000, 0.4941, 0.7725, 0.5176, 0.6706, 0.7647, 0.7725, 0.7804,\n",
       "        0.8157, 0.8314, 0.8392, 0.8431, 0.8510, 0.8549, 0.8588, 0.8627, 0.8667,\n",
       "        0.8588, 0.8431, 0.8471, 0.8431, 0.8353, 0.8314, 0.8157, 0.8275, 0.7412,\n",
       "        0.7216, 0.0000, 0.0000, 0.5098, 0.8039, 0.5569, 0.7216, 0.7922, 0.8078,\n",
       "        0.8118, 0.8196, 0.8431, 0.8510, 0.8549, 0.8627, 0.8549, 0.8549, 0.8627,\n",
       "        0.8667, 0.8588, 0.8431, 0.8510, 0.8510, 0.8431, 0.8510, 0.8314, 0.8275,\n",
       "        0.7686, 0.7725, 0.0000, 0.0000, 0.3843, 0.8039, 0.6039, 0.7686, 0.7804,\n",
       "        0.7961, 0.8235, 0.8235, 0.8471, 0.8588, 0.8588, 0.8784, 0.8588, 0.8588,\n",
       "        0.8667, 0.8667, 0.8588, 0.8392, 0.8510, 0.8549, 0.8510, 0.8275, 0.8118,\n",
       "        0.8235, 0.7961, 0.7961, 0.0000, 0.0000, 0.5137, 0.7725, 0.6510, 0.7804,\n",
       "        0.7922, 0.7961, 0.8235, 0.8510, 0.8431, 0.8667, 0.8745, 0.8627, 0.8471,\n",
       "        0.8549, 0.8667, 0.8745, 0.8706, 0.8510, 0.8588, 0.8588, 0.8588, 0.8510,\n",
       "        0.8471, 0.8549, 0.8235, 0.6980, 0.0000, 0.3843, 0.8902, 0.8000, 0.7882,\n",
       "        0.8392, 0.8784, 0.8941, 0.9020, 0.9176, 0.9098, 0.9216, 0.9216, 0.8941,\n",
       "        0.8353, 0.8235, 0.8275, 0.8235, 0.8275, 0.8196, 0.8235, 0.8196, 0.8196,\n",
       "        0.8275, 0.8392, 0.8157, 0.9098, 0.6902, 0.0000, 0.2000, 0.7765, 0.8000,\n",
       "        0.8039, 0.7765, 0.7922, 0.8078, 0.7961, 0.8392, 0.8471, 0.8471, 0.8157,\n",
       "        0.7804, 1.0000, 0.9098, 0.8941, 0.8863, 0.8745, 0.8667, 0.8706, 0.8706,\n",
       "        0.8706, 0.8784, 0.8706, 0.8471, 0.8157, 0.3725, 0.0000, 0.0471, 0.6706,\n",
       "        0.7529, 0.7961, 0.9137, 0.9098, 0.8745, 0.8196, 0.8196, 0.9216, 0.9490,\n",
       "        0.9961, 0.7451, 0.2039, 0.2196, 0.2235, 0.2196, 0.2039, 0.1804, 0.1843,\n",
       "        0.1843, 0.1882, 0.1843, 0.1137, 0.0627, 0.0000, 0.0000, 0.0000, 0.0000,\n",
       "        0.0000, 0.0000, 0.1098, 0.2275, 0.2549, 0.3176, 0.3647, 0.4549, 0.5137,\n",
       "        0.5647, 0.5216, 0.2627, 0.0000, 0.0000, 0.0000, 0.0000, 0.0000, 0.0000,\n",
       "        0.0000, 0.0000, 0.0000, 0.0000, 0.0000, 0.0000, 0.0000, 0.0078, 0.0000,\n",
       "        0.0000, 0.0000, 0.0000, 0.0000, 0.0000, 0.0000, 0.0000, 0.0000, 0.0000,\n",
       "        0.0000, 0.0000, 0.0000, 0.0000, 0.0000, 0.0000, 0.0000, 0.0000, 0.0000,\n",
       "        0.0000, 0.0000, 0.0000, 0.0000, 0.0000, 0.0000, 0.0000, 0.0000, 0.0000,\n",
       "        0.0000])"
      ]
     },
     "execution_count": 17,
     "metadata": {},
     "output_type": "execute_result"
    }
   ],
   "source": [
    "output.squeeze()"
   ]
  },
  {
   "cell_type": "markdown",
   "id": "59454dff",
   "metadata": {},
   "source": [
    "## Only linear layers with nn.flatten()"
   ]
  },
  {
   "cell_type": "code",
   "execution_count": 18,
   "id": "223fcc8e",
   "metadata": {},
   "outputs": [],
   "source": [
    "from torch import nn\n",
    "\n",
    "class FashionMNISTModelv1(nn.Module):\n",
    "    def __init__(self,\n",
    "                input_shape : int,\n",
    "                hidden_units : int,\n",
    "                output_shape : int):\n",
    "        super().__init__()\n",
    "        \n",
    "        self.layer_stack = nn.Sequential(\n",
    "            nn.Flatten(),\n",
    "            nn.Linear(in_features = input_shape,\n",
    "                     out_features = hidden_units),\n",
    "            nn.Linear(in_features = hidden_units,\n",
    "                     out_features = output_shape)\n",
    "        )\n",
    "        \n",
    "    def forward(self, x):\n",
    "        return self.layer_stack(x)"
   ]
  },
  {
   "cell_type": "code",
   "execution_count": 19,
   "id": "513ec33f",
   "metadata": {},
   "outputs": [
    {
     "data": {
      "text/plain": [
       "FashionMNISTModelv1(\n",
       "  (layer_stack): Sequential(\n",
       "    (0): Flatten(start_dim=1, end_dim=-1)\n",
       "    (1): Linear(in_features=784, out_features=10, bias=True)\n",
       "    (2): Linear(in_features=10, out_features=10, bias=True)\n",
       "  )\n",
       ")"
      ]
     },
     "execution_count": 19,
     "metadata": {},
     "output_type": "execute_result"
    }
   ],
   "source": [
    "torch.manual_seed(42)\n",
    "\n",
    "model0 = FashionMNISTModelv1(\n",
    "    input_shape = 784, # input shape is [1, 28, 28]. Flatten is used so the input shape becomes 784. 28*28*1 can be used as well\n",
    "    hidden_units = 10,\n",
    "    output_shape = len(class_name)\n",
    ")\n",
    "\n",
    "model0.to(device)"
   ]
  },
  {
   "cell_type": "code",
   "execution_count": 20,
   "id": "14015238",
   "metadata": {},
   "outputs": [
    {
     "data": {
      "text/plain": [
       "tensor([[-0.0315,  0.3171,  0.0531, -0.2525,  0.5959,  0.2112,  0.3233,  0.2694,\n",
       "         -0.1004,  0.0157]], device='cuda:0', grad_fn=<AddmmBackward0>)"
      ]
     },
     "execution_count": 20,
     "metadata": {},
     "output_type": "execute_result"
    }
   ],
   "source": [
    "dummy_x = torch.rand([1, 28, 28])\n",
    "model0(dummy_x.to(device))"
   ]
  },
  {
   "cell_type": "markdown",
   "id": "b6525ab7",
   "metadata": {},
   "source": [
    "### Setting Loss, Optimizer and evaluation metrics"
   ]
  },
  {
   "cell_type": "code",
   "execution_count": 21,
   "id": "7c016e5c",
   "metadata": {},
   "outputs": [
    {
     "name": "stdout",
     "output_type": "stream",
     "text": [
      "helper_functions.py already exists, skipping download...\n"
     ]
    }
   ],
   "source": [
    "import requests\n",
    "from pathlib import Path\n",
    "\n",
    "# Download helper functions from Learn PyTorch repo\n",
    "if Path(\"helper_functions.py\").is_file():\n",
    "    print(\"helper_functions.py already exists, skipping download...\")\n",
    "else:\n",
    "    print(\"Downloading helper_functions.py\")\n",
    "    request = request.get(\"https://raw.githubusercontent.com/aayush2058/python_files/master/helper_functions.py\")\n",
    "    with open(\"helper_functions.py\", 'wb') as file:\n",
    "        f.write(request.content)\n",
    "        "
   ]
  },
  {
   "cell_type": "code",
   "execution_count": 22,
   "id": "07d9de78",
   "metadata": {},
   "outputs": [],
   "source": [
    "from helper_functions import accuracy_fn"
   ]
  },
  {
   "cell_type": "code",
   "execution_count": 23,
   "id": "ae193831",
   "metadata": {},
   "outputs": [],
   "source": [
    "loss_fn = nn.CrossEntropyLoss()\n",
    "\n",
    "optimizer = torch.optim.SGD(params = model0.parameters(),\n",
    "                           lr = 0.01)"
   ]
  },
  {
   "cell_type": "code",
   "execution_count": 24,
   "id": "a10613cc",
   "metadata": {},
   "outputs": [],
   "source": [
    "from timeit import default_timer as timer \n",
    "def print_train_time(start : float,\n",
    "                     end : float,\n",
    "                     device : torch.device = None):\n",
    "    \"\"\"\n",
    "    Prints difference between start and end time\n",
    "    \"\"\"\n",
    "    total_time = end - start\n",
    "    print(f\"Train time on {device} : {total_time : .3f} seconds\")\n",
    "    return total_time\n",
    "    "
   ]
  },
  {
   "cell_type": "code",
   "execution_count": 25,
   "id": "411425ff",
   "metadata": {},
   "outputs": [
    {
     "name": "stdout",
     "output_type": "stream",
     "text": [
      "Train time on cpu :  0.000 seconds\n"
     ]
    },
    {
     "data": {
      "text/plain": [
       "2.7999980375170708e-05"
      ]
     },
     "execution_count": 25,
     "metadata": {},
     "output_type": "execute_result"
    }
   ],
   "source": [
    "start_time = timer()\n",
    "#some code...\n",
    "end_time = timer()\n",
    "print_train_time(start = start_time, end = end_time, device = 'cpu')"
   ]
  },
  {
   "cell_type": "markdown",
   "id": "651b38f4",
   "metadata": {},
   "source": [
    "### Loops\n",
    "1. Loop through the epochs\n",
    "2. Loop through training batches, perform training steps, calculate the train loss *per batch*\n",
    "3. Loop through testing batches, perform testing steps, calculate the test loss per batch\n",
    "4. Print out what's happening\n",
    "5. Time it all (for fun)"
   ]
  },
  {
   "cell_type": "code",
   "execution_count": 26,
   "id": "f042846b",
   "metadata": {},
   "outputs": [
    {
     "data": {
      "application/vnd.jupyter.widget-view+json": {
       "model_id": "15352926746a451cac06493536499795",
       "version_major": 2,
       "version_minor": 0
      },
      "text/plain": [
       "  0%|          | 0/3 [00:00<?, ?it/s]"
      ]
     },
     "metadata": {},
     "output_type": "display_data"
    },
    {
     "name": "stdout",
     "output_type": "stream",
     "text": [
      "Epoch : 0\n",
      "-----------\n",
      "Looked at 0/60000 samples.\n",
      "Looked at 16000/60000 samples.\n",
      "Looked at 32000/60000 samples.\n",
      "Looked at 48000/60000 samples.\n",
      "\n",
      "Train loss : 0.9096 | Test loss :  0.6290 | Test accuracy : 78.63418530351437\n",
      "Epoch : 1\n",
      "-----------\n",
      "Looked at 0/60000 samples.\n",
      "Looked at 16000/60000 samples.\n",
      "Looked at 32000/60000 samples.\n",
      "Looked at 48000/60000 samples.\n",
      "\n",
      "Train loss : 0.5573 | Test loss :  0.5441 | Test accuracy : 81.13019169329074\n",
      "Epoch : 2\n",
      "-----------\n",
      "Looked at 0/60000 samples.\n",
      "Looked at 16000/60000 samples.\n",
      "Looked at 32000/60000 samples.\n",
      "Looked at 48000/60000 samples.\n",
      "\n",
      "Train loss : 0.5027 | Test loss :  0.5137 | Test accuracy : 81.9988019169329\n",
      "Train time on cuda:0 :  29.692 seconds\n"
     ]
    }
   ],
   "source": [
    "# Import tqdm for prograss bar\n",
    "from tqdm.notebook import tqdm\n",
    "# from tqdm.auto import tqdm\n",
    "\n",
    "# Setting timer and seed\n",
    "torch.manual_seed(42)\n",
    "train_time_start_on_cpu = timer()\n",
    "\n",
    "# Set the number of epochs (keeping it small at the beginning)\n",
    "epochs = 3\n",
    "\n",
    "# Creating training and testing loops\n",
    "for epoch in tqdm(range(epochs)):\n",
    "    print(f\"Epoch : {epoch}\\n-----------\")\n",
    "    \n",
    "    ## Training\n",
    "    train_loss = 0\n",
    "    # Add a loop through training batches\n",
    "    for batch, (X, y) in enumerate(train_dataloader):\n",
    "        X = X.to(device)\n",
    "        y = y.to(device)\n",
    "        \n",
    "        model0.train()\n",
    "\n",
    "        # forward pass\n",
    "        train_preds = model0(X)  \n",
    "\n",
    "        #Calculate loss (per batch)\n",
    "        loss = loss_fn(train_preds, y)\n",
    "        train_loss += loss # accumulates the loss separaterly per loop\n",
    "\n",
    "        # Optimizer zero grad\n",
    "        optimizer.zero_grad()\n",
    "\n",
    "        # Loss backward\n",
    "        loss.backward()\n",
    "\n",
    "        optimizer.step()\n",
    "\n",
    "        if batch % 500 == 0:\n",
    "            print(f\"Looked at {batch * len(X)}/{len(train_dataloader.dataset)} samples.\")\n",
    "\n",
    "    # Divide total train loss by length of train dataloader\n",
    "    train_loss /= len(train_dataloader)\n",
    "\n",
    "\n",
    "                \n",
    "#----------------------------- Testing----------------------------\n",
    "                  \n",
    "    test_loss, test_acc = 0, 0\n",
    "    model0.eval()\n",
    "    with torch.inference_mode():\n",
    "        for X_test, y_test in test_dataloader:\n",
    "            X_test = X_test.to(device)\n",
    "            y_test = y_test.to(device)\n",
    "            \n",
    "            \n",
    "            # forward pass\n",
    "            test_preds = model0(X_test)\n",
    "\n",
    "            # Calculate loss (accumulatively)\n",
    "            test_loss += loss_fn(test_preds, y_test)\n",
    "\n",
    "            # Calculate accuracy\n",
    "            test_acc += accuracy_fn(y_true = y_test, y_pred = test_preds.argmax(dim = 1))\n",
    "\n",
    "        # Calculate the test loss average per batch\n",
    "        test_loss /= len(test_dataloader)\n",
    "\n",
    "        #Calculate the test acc average per batch \n",
    "        test_acc /= len(test_dataloader)\n",
    "    \n",
    "    # Print what's happening\n",
    "    print(f\"\\nTrain loss : {train_loss:.4f} | Test loss : {test_loss: .4f} | Test accuracy : {test_acc}\")\n",
    "\n",
    "# Calculate the training time\n",
    "train_time_end_on_cpu = timer()\n",
    "total_train_time_model_0 = print_train_time(start = train_time_start_on_cpu,\n",
    "                                           end = train_time_end_on_cpu,\n",
    "                                           device = str(next(model0.parameters()).device)\n",
    "                                           )"
   ]
  },
  {
   "cell_type": "code",
   "execution_count": 27,
   "id": "e04ebc79",
   "metadata": {},
   "outputs": [
    {
     "data": {
      "text/plain": [
       "'cuda:0'"
      ]
     },
     "execution_count": 27,
     "metadata": {},
     "output_type": "execute_result"
    }
   ],
   "source": [
    "str(next(model0.parameters()).device)"
   ]
  },
  {
   "cell_type": "markdown",
   "id": "157d9b84",
   "metadata": {},
   "source": [
    "### Make predictions and get model results"
   ]
  },
  {
   "cell_type": "code",
   "execution_count": 41,
   "id": "263454bb",
   "metadata": {},
   "outputs": [],
   "source": [
    "torch.manual_seed(42)\n",
    "def eval_model(model : torch.nn.Module,\n",
    "             data_loader : torch.utils.data.DataLoader,\n",
    "             loss_fn : torch.nn.Module,\n",
    "             accuracy_fn,\n",
    "              device = device):\n",
    "    \"\"\"\n",
    "    Returns a dictionary containing the results of model predicting on data loader\n",
    "    \"\"\"\n",
    "    loss, acc = 0, 0\n",
    "    model.eval()\n",
    "    with torch.inference_mode():\n",
    "        for X, y in tqdm(data_loader):\n",
    "            X = X.to(device)\n",
    "            y = y.to(device)\n",
    "            # Make predictions\n",
    "            y_pred = model(X)\n",
    "            \n",
    "            # Accuracy the loss and acc values per batch\n",
    "            loss += loss_fn(y_pred, y)\n",
    "            acc += accuracy_fn(y_true = y,\n",
    "                              y_pred = y_pred.argmax(dim = 1))\n",
    "             \n",
    "        # Scale loss and acc to find average loss/acc per batch\n",
    "        loss /= len(data_loader)\n",
    "        acc /= len(data_loader)\n",
    "        \n",
    "    return {\"model_name\" : model.__class__.__name__ , # This only works when model was created with a class\n",
    "           \"model_loss\" : loss.item(),\n",
    "           \"model_acc\" : acc}\n",
    "\n"
   ]
  },
  {
   "cell_type": "code",
   "execution_count": 29,
   "id": "8c3cceb3",
   "metadata": {},
   "outputs": [
    {
     "data": {
      "application/vnd.jupyter.widget-view+json": {
       "model_id": "9573852044b243e79bab7dc0604b68f5",
       "version_major": 2,
       "version_minor": 0
      },
      "text/plain": [
       "  0%|          | 0/313 [00:00<?, ?it/s]"
      ]
     },
     "metadata": {},
     "output_type": "display_data"
    },
    {
     "data": {
      "text/plain": [
       "{'model_name': 'FashionMNISTModelv1',\n",
       " 'model_loss': 0.5136751532554626,\n",
       " 'model_acc': 81.9988019169329}"
      ]
     },
     "execution_count": 29,
     "metadata": {},
     "output_type": "execute_result"
    }
   ],
   "source": [
    "# Calculate model result on test dataset\n",
    "\n",
    "model0_results = eval_model(model = model0,\n",
    "                          data_loader = test_dataloader,\n",
    "                          loss_fn = loss_fn,\n",
    "                          accuracy_fn = accuracy_fn)\n",
    "\n",
    "model0_results"
   ]
  },
  {
   "cell_type": "markdown",
   "id": "cff5d69f",
   "metadata": {},
   "source": [
    "## Non-linear layers with ReLU() and Flatten()"
   ]
  },
  {
   "cell_type": "code",
   "execution_count": 30,
   "id": "b29e2860",
   "metadata": {},
   "outputs": [],
   "source": [
    "class FashionMNISTModelV2(nn.Module):\n",
    "    def __init__(self,\n",
    "                input_shape : int,\n",
    "                hidden_units : int,\n",
    "                output_shape : int):\n",
    "        super(). __init__()\n",
    "        \n",
    "        self.layer_stack = nn.Sequential(\n",
    "            nn.Flatten(),\n",
    "            nn.Linear(in_features = input_shape,\n",
    "                     out_features = hidden_units),\n",
    "            nn.ReLU(),\n",
    "            nn.Linear(in_features = hidden_units,\n",
    "                     out_features =  hidden_units),\n",
    "            nn.ReLU(),\n",
    "            nn.Linear(in_features= hidden_units,\n",
    "                     out_features = output_shape),\n",
    "            nn.ReLU()\n",
    "            )\n",
    "    def forward(self, x):\n",
    "            return self.layer_stack(x)\n",
    "        "
   ]
  },
  {
   "cell_type": "code",
   "execution_count": 31,
   "id": "aad995c9",
   "metadata": {},
   "outputs": [
    {
     "data": {
      "text/plain": [
       "torch.Size([1, 28, 28])"
      ]
     },
     "execution_count": 31,
     "metadata": {},
     "output_type": "execute_result"
    }
   ],
   "source": [
    "X[0].shape"
   ]
  },
  {
   "cell_type": "code",
   "execution_count": 32,
   "id": "f14f5140",
   "metadata": {},
   "outputs": [
    {
     "data": {
      "text/plain": [
       "FashionMNISTModelV2(\n",
       "  (layer_stack): Sequential(\n",
       "    (0): Flatten(start_dim=1, end_dim=-1)\n",
       "    (1): Linear(in_features=784, out_features=10, bias=True)\n",
       "    (2): ReLU()\n",
       "    (3): Linear(in_features=10, out_features=10, bias=True)\n",
       "    (4): ReLU()\n",
       "    (5): Linear(in_features=10, out_features=10, bias=True)\n",
       "    (6): ReLU()\n",
       "  )\n",
       ")"
      ]
     },
     "execution_count": 32,
     "metadata": {},
     "output_type": "execute_result"
    }
   ],
   "source": [
    "model1 = FashionMNISTModelV2(input_shape = (1*28*28),\n",
    "                            hidden_units = 10,\n",
    "                            output_shape = len(class_name))\n",
    "model1.to(device)"
   ]
  },
  {
   "cell_type": "code",
   "execution_count": 33,
   "id": "584bfbbc",
   "metadata": {},
   "outputs": [],
   "source": [
    "loss_fn = nn.CrossEntropyLoss()\n",
    "optimizer = torch.optim.SGD(model1.parameters(),\n",
    "                           lr = 0.1)\n",
    "from helper_functions import accuracy_fn\n",
    "from tqdm.notebook import tqdm"
   ]
  },
  {
   "cell_type": "markdown",
   "id": "1f080669",
   "metadata": {},
   "source": [
    "## Functioning training and evaluation/ testing loops\n",
    "\n",
    "Let's create a function for:\n",
    "* training loop - `train_loop()`\n",
    "* testing loop - `test_loop()`"
   ]
  },
  {
   "cell_type": "code",
   "execution_count": 34,
   "id": "d6ac6573",
   "metadata": {},
   "outputs": [],
   "source": [
    " def train_step(model : torch.nn.Module,\n",
    "               data_loader : torch.utils.data.DataLoader,\n",
    "               loss_fn : torch.nn.Module,\n",
    "               optimizer : torch.optim.Optimizer,\n",
    "               accuracy_fn,\n",
    "               device : torch.device = device):\n",
    "    '''\n",
    "    performs trainig with model trying to learn on a data_loader.\n",
    "    '''    \n",
    "    \n",
    "    ## Training\n",
    "    train_loss, train_acc = 0, 0\n",
    "    \n",
    "    # Put model into training mode \n",
    "    model.train()\n",
    "    \n",
    "    # Add a loop through training batches\n",
    "    for batch, (X, y) in enumerate(data_loader):\n",
    "        X = X.to(device)\n",
    "        y = y.to(device)\n",
    "        \n",
    "        # forward pass\n",
    "        train_preds = model(X)  \n",
    "\n",
    "        #Calculate loss (per batch)\n",
    "        loss = loss_fn(train_preds, y)\n",
    "        train_loss += loss # accumulates the loss separaterly per loop\n",
    "        train_acc += accuracy_fn(y_true = y,\n",
    "                                y_pred = train_preds.argmax(dim = 1))\n",
    "        # argmax() is used because raw predictions are logits\n",
    "        # dim = 1 is used to set where to apply argmax\n",
    "\n",
    "        # Optimizer zero grad\n",
    "        optimizer.zero_grad()\n",
    "\n",
    "        # Loss backward\n",
    "        loss.backward()\n",
    "\n",
    "        optimizer.step()\n",
    "\n",
    "        \n",
    "    # Divide total train loss and accuracy by length of train dataloader\n",
    "    train_loss /= len(data_loader)\n",
    "    train_acc /= len(data_loader)\n",
    "    print(f\"Train_loss: {train_loss:.4f} | Train_acc:{train_acc:.2f}\")\n"
   ]
  },
  {
   "cell_type": "code",
   "execution_count": 35,
   "id": "ff0eb9c5",
   "metadata": {},
   "outputs": [],
   "source": [
    "def test_step(model : torch.nn.Module,\n",
    "              data_loader : torch.utils.data.DataLoader,\n",
    "              loss_fn : torch.nn.Module,\n",
    "              accuracy_fn,\n",
    "              device : torch.device = device):\n",
    "    \n",
    "    test_loss, test_acc = 0, 0\n",
    "\n",
    "    model.eval()\n",
    "    with torch.inference_mode():\n",
    "        for X_test, y_test in data_loader:\n",
    "            X_test = X_test.to(device)\n",
    "            y_test = y_test.to(device)\n",
    "\n",
    "\n",
    "            # forward pass\n",
    "            test_preds = model(X_test) \n",
    "\n",
    "            # Calculate loss (accumulatively)\n",
    "            test_loss += loss_fn(test_preds, y_test)\n",
    "\n",
    "            # Calculate accuracy\n",
    "            test_acc += accuracy_fn(y_true = y_test, y_pred = test_preds.argmax(dim = 1))\n",
    "\n",
    "        # Calculate the test loss average per batch\n",
    "        test_loss /= len(data_loader)\n",
    "\n",
    "        #Calculate the test acc average per batch \n",
    "        test_acc /= len(data_loader)\n",
    "\n",
    "        # Print what's happening\n",
    "        print(f\"Test loss : {test_loss: .4f} | Test accuracy : {test_acc:.2f}\\n\")"
   ]
  },
  {
   "cell_type": "code",
   "execution_count": 36,
   "id": "32e59605",
   "metadata": {},
   "outputs": [],
   "source": [
    "def print_train_time(start : float,\n",
    "                     end : float,\n",
    "                     device : torch.device = None):\n",
    "    \"\"\"\n",
    "    Prints difference between start and end time\n",
    "    \"\"\"\n",
    "    total_time = end - start\n",
    "    print(f\"Train time on {device} : {total_time : .3f} seconds\")\n",
    "    return total_time"
   ]
  },
  {
   "cell_type": "code",
   "execution_count": 37,
   "id": "0ac8c065",
   "metadata": {},
   "outputs": [
    {
     "data": {
      "application/vnd.jupyter.widget-view+json": {
       "model_id": "9c57ea08823549b59fcd2f0c642f7a31",
       "version_major": 2,
       "version_minor": 0
      },
      "text/plain": [
       "  0%|          | 0/3 [00:00<?, ?it/s]"
      ]
     },
     "metadata": {},
     "output_type": "display_data"
    },
    {
     "name": "stdout",
     "output_type": "stream",
     "text": [
      "Epoch: 0\n",
      "------\n",
      "Train_loss: 0.9260 | Train_acc:65.85\n",
      "Test loss :  0.5815 | Test accuracy : 79.35\n",
      "\n",
      "Epoch: 1\n",
      "------\n",
      "Train_loss: 0.5060 | Train_acc:82.01\n",
      "Test loss :  0.5429 | Test accuracy : 80.62\n",
      "\n",
      "Epoch: 2\n",
      "------\n",
      "Train_loss: 0.4607 | Train_acc:83.53\n",
      "Test loss :  0.5327 | Test accuracy : 82.13\n",
      "\n",
      "Train time on cuda :  33.905 seconds\n"
     ]
    }
   ],
   "source": [
    "torch.manual_seed(42)\n",
    "\n",
    "# Measure time\n",
    "from timeit import default_timer as timer\n",
    "train_time_start_on_gpu = timer()\n",
    "\n",
    "# Set epochs\n",
    "epochs = 3\n",
    "\n",
    "# Create a optimization and evaluation loop using train_step() and test_step()\n",
    "for epoch in tqdm(range(epochs)):\n",
    "    print(f\"Epoch: {epoch}\\n------\")\n",
    "    train_step(model = model1,\n",
    "              data_loader = train_dataloader,\n",
    "              loss_fn = loss_fn,\n",
    "              accuracy_fn = accuracy_fn,\n",
    "              optimizer = optimizer,\n",
    "              device = device)\n",
    "    test_step(model = model1,\n",
    "             data_loader = test_dataloader,\n",
    "             loss_fn = loss_fn,\n",
    "             accuracy_fn = accuracy_fn,\n",
    "             device = device) # test doesnot need optimizer as we are evaluating not improving\n",
    "    \n",
    "train_time_end_on_gpu = timer()\n",
    "total_train_time_for_model = print_train_time(start = train_time_start_on_gpu,\n",
    "                                            end = train_time_end_on_gpu,\n",
    "                                            device = device)"
   ]
  },
  {
   "cell_type": "markdown",
   "id": "f9a76e1b",
   "metadata": {},
   "source": [
    "## CPU can be faster sometimes\n",
    "\n",
    "* By default, data is stored in CPU. When GPU is used, data needs to be passed first from CPU which can take time accordingly. But, Processing and computing is faster on GPU"
   ]
  },
  {
   "cell_type": "code",
   "execution_count": 46,
   "id": "e8c48b6a",
   "metadata": {},
   "outputs": [
    {
     "data": {
      "application/vnd.jupyter.widget-view+json": {
       "model_id": "9f6bfd0f63da468b9ef13f4ac22dd152",
       "version_major": 2,
       "version_minor": 0
      },
      "text/plain": [
       "  0%|          | 0/313 [00:00<?, ?it/s]"
      ]
     },
     "metadata": {},
     "output_type": "display_data"
    },
    {
     "data": {
      "text/plain": [
       "{'model_name': 'FashionMNISTModelV2',\n",
       " 'model_loss': 0.5326744914054871,\n",
       " 'model_acc': 82.12859424920129}"
      ]
     },
     "execution_count": 46,
     "metadata": {},
     "output_type": "execute_result"
    }
   ],
   "source": [
    "model1_results = eval_model(model = model1,\n",
    "                           data_loader = test_dataloader,\n",
    "                           loss_fn = loss_fn,\n",
    "                           accuracy_fn = accuracy_fn,\n",
    "                           device = device)\n",
    "\n",
    "model1_results"
   ]
  },
  {
   "cell_type": "code",
   "execution_count": 50,
   "id": "43a65e07",
   "metadata": {},
   "outputs": [
    {
     "data": {
      "text/plain": [
       "{'model_name': 'FashionMNISTModelv1',\n",
       " 'model_loss': 0.5136751532554626,\n",
       " 'model_acc': 81.9988019169329}"
      ]
     },
     "execution_count": 50,
     "metadata": {},
     "output_type": "execute_result"
    }
   ],
   "source": [
    "model0_results"
   ]
  },
  {
   "cell_type": "markdown",
   "id": "3ebfbcc9",
   "metadata": {},
   "source": [
    "# Convolutional Neural Network"
   ]
  },
  {
   "cell_type": "code",
   "execution_count": 160,
   "id": "dc463626",
   "metadata": {},
   "outputs": [],
   "source": [
    "class FashionMNISTV3(nn.Module):\n",
    "    \"\"\"\n",
    "    Model architecture that replicates the TinyVCG\n",
    "    model from CNN explainer website.\n",
    "    \"\"\"\n",
    "    def __init__(self, input_shape : int, hidden_units : int, output_shape : int):\n",
    "        super().__init__()\n",
    "        self.conv_block_1 = nn.Sequential(\n",
    "            nn.Conv2d(in_channels = input_shape,\n",
    "                     out_channels = hidden_units,\n",
    "                     kernel_size = 3,\n",
    "                     stride = 1,\n",
    "                     padding = 1), # these are the hyperparameters for 2d data\n",
    "            nn.ReLU(),\n",
    "            nn.Conv2d(in_channels = hidden_units,\n",
    "                     out_channels = hidden_units,\n",
    "                     kernel_size = 3,\n",
    "                     stride = 1,\n",
    "                     padding = 1),\n",
    "            nn.ReLU(),\n",
    "            nn.MaxPool2d(kernel_size = 2)\n",
    "        )\n",
    "        \n",
    "        self.conv_block_2 = nn.Sequential(\n",
    "            nn.Conv2d(in_channels = hidden_units,\n",
    "                     out_channels = hidden_units,\n",
    "                     kernel_size = 3,\n",
    "                     stride = 1,\n",
    "                     padding = 1),\n",
    "            nn.ReLU(),\n",
    "            nn.Conv2d(in_channels = hidden_units,\n",
    "                     out_channels = hidden_units,\n",
    "                     kernel_size = 3,\n",
    "                     stride = 1,\n",
    "                     padding = 1),\n",
    "            nn.ReLU(),\n",
    "            nn.MaxPool2d(kernel_size = 2)\n",
    "         )\n",
    "        self.classifier = nn.Sequential(\n",
    "             nn.Flatten(),\n",
    "             nn.Linear(in_features = hidden_units*7*7,\n",
    "                      out_features = output_shape)\n",
    "         )\n",
    "            \n",
    "    def forward(self, x):\n",
    "        x = self.conv_block_1(x)\n",
    "        print(x.shape)\n",
    "        x = self.conv_block_2(x)\n",
    "        print(x.shape)\n",
    "        x = self.classifier(x)\n",
    "        print(x.shape)\n",
    "        return x"
   ]
  },
  {
   "cell_type": "code",
   "execution_count": 161,
   "id": "d6de5224",
   "metadata": {
    "scrolled": true
   },
   "outputs": [],
   "source": [
    "torch.manual_seed(42)\n",
    "\n",
    "conv_model = FashionMNISTV3(input_shape = 1, # only one colour channel in our image\n",
    "                            hidden_units = 5,\n",
    "                            output_shape = len(class_name))\n",
    "# conv_model.to(device)"
   ]
  },
  {
   "cell_type": "code",
   "execution_count": 162,
   "id": "08a13260",
   "metadata": {},
   "outputs": [
    {
     "data": {
      "text/plain": [
       "torch.Size([1, 28, 28])"
      ]
     },
     "execution_count": 162,
     "metadata": {},
     "output_type": "execute_result"
    }
   ],
   "source": [
    "image.shape"
   ]
  },
  {
   "cell_type": "code",
   "execution_count": 163,
   "id": "0916f06a",
   "metadata": {},
   "outputs": [
    {
     "data": {
      "text/plain": [
       "<matplotlib.image.AxesImage at 0x207a60b6ed0>"
      ]
     },
     "execution_count": 163,
     "metadata": {},
     "output_type": "execute_result"
    },
    {
     "data": {
      "image/png": "[encoded data removed]",
      "text/plain": [
       "<Figure size 640x480 with 1 Axes>"
      ]
     },
     "metadata": {},
     "output_type": "display_data"
    }
   ],
   "source": [
    "plt.imshow(image.squeeze(), cmap = 'gray')"
   ]
  },
  {
   "cell_type": "code",
   "execution_count": 164,
   "id": "393af034",
   "metadata": {},
   "outputs": [
    {
     "name": "stdout",
     "output_type": "stream",
     "text": [
      "torch.Size([1, 5, 14, 14])\n",
      "torch.Size([1, 5, 7, 7])\n",
      "torch.Size([1, 10])\n"
     ]
    },
    {
     "data": {
      "text/plain": [
       "tensor([[-0.0997, -0.0005, -0.0518,  0.1228, -0.0197,  0.0370, -0.0103, -0.1073,\n",
       "          0.1377, -0.0212]], grad_fn=<AddmmBackward0>)"
      ]
     },
     "execution_count": 164,
     "metadata": {},
     "output_type": "execute_result"
    }
   ],
   "source": [
    "# Pass image through image\n",
    "conv_model(image.unsqueeze(0))\n"
   ]
  },
  {
   "cell_type": "markdown",
   "id": "f17cec31",
   "metadata": {},
   "source": [
    "# Stepping through nn.Conv2d()"
   ]
  },
  {
   "cell_type": "code",
   "execution_count": 68,
   "id": "f725bdd6",
   "metadata": {
    "scrolled": false
   },
   "outputs": [
    {
     "name": "stdout",
     "output_type": "stream",
     "text": [
      "image batch shape: torch.Size([32, 3, 64, 64])\n",
      "Single image shape: torch.Size([3, 64, 64])\n",
      "Test image: \n",
      " tensor([[[ 1.9269,  1.4873,  0.9007,  ...,  1.8446, -1.1845,  1.3835],\n",
      "         [ 1.4451,  0.8564,  2.2181,  ...,  0.3399,  0.7200,  0.4114],\n",
      "         [ 1.9312,  1.0119, -1.4364,  ..., -0.5558,  0.7043,  0.7099],\n",
      "         ...,\n",
      "         [-0.5610, -0.4830,  0.4770,  ..., -0.2713, -0.9537, -0.6737],\n",
      "         [ 0.3076, -0.1277,  0.0366,  ..., -2.0060,  0.2824, -0.8111],\n",
      "         [-1.5486,  0.0485, -0.7712,  ..., -0.1403,  0.9416, -0.0118]],\n",
      "\n",
      "        [[-0.5197,  1.8524,  1.8365,  ...,  0.8935, -1.5114, -0.8515],\n",
      "         [ 2.0818,  1.0677, -1.4277,  ...,  1.6612, -2.6223, -0.4319],\n",
      "         [-0.1010, -0.4388, -1.9775,  ...,  0.2106,  0.2536, -0.7318],\n",
      "         ...,\n",
      "         [ 0.2779,  0.7342, -0.3736,  ..., -0.4601,  0.1815,  0.1850],\n",
      "         [ 0.7205, -0.2833,  0.0937,  ..., -0.1002, -2.3609,  2.2465],\n",
      "         [-1.3242, -0.1973,  0.2920,  ...,  0.5409,  0.6940,  1.8563]],\n",
      "\n",
      "        [[-0.7978,  1.0261,  1.1465,  ...,  1.2134,  0.9354, -0.0780],\n",
      "         [-1.4647, -1.9571,  0.1017,  ..., -1.9986, -0.7409,  0.7011],\n",
      "         [-1.3938,  0.8466, -1.7191,  ..., -1.1867,  0.1320,  0.3407],\n",
      "         ...,\n",
      "         [ 0.8206, -0.3745,  1.2499,  ..., -0.0676,  0.0385,  0.6335],\n",
      "         [-0.5589, -0.3393,  0.2347,  ...,  2.1181,  2.4569,  1.3083],\n",
      "         [-0.4092,  1.5199,  0.2401,  ..., -0.2558,  0.7870,  0.9924]]])\n"
     ]
    }
   ],
   "source": [
    "torch.manual_seed(42)\n",
    "\n",
    "#Create a batch of image\n",
    "images = torch.randn(size = (32, 3, 64, 64))\n",
    "test_image = images[0]\n",
    "\n",
    "print(f\"image batch shape: {images.shape}\")\n",
    "print(f\"Single image shape: {test_image.shape}\")\n",
    "print(f\"Test image: \\n {test_image}\")"
   ]
  },
  {
   "cell_type": "code",
   "execution_count": 88,
   "id": "3750175e",
   "metadata": {},
   "outputs": [
    {
     "data": {
      "text/plain": [
       "torch.Size([10, 62, 62])"
      ]
     },
     "execution_count": 88,
     "metadata": {},
     "output_type": "execute_result"
    }
   ],
   "source": [
    "# Create a single 2d layer\n",
    "conv_layer = nn.Conv2d(in_channels = 3,\n",
    "                     out_channels = 10,\n",
    "                     kernel_size = 3,\n",
    "                     stride = 1,\n",
    "                     padding = 0)\n",
    "\n",
    "# Pass the data through the convolutional layer\n",
    "conv_output = conv_layer(test_image)\n",
    "conv_output.shape"
   ]
  },
  {
   "cell_type": "code",
   "execution_count": 89,
   "id": "acd12c72",
   "metadata": {},
   "outputs": [
    {
     "data": {
      "text/plain": [
       "torch.Size([1, 3, 64, 64])"
      ]
     },
     "execution_count": 89,
     "metadata": {},
     "output_type": "execute_result"
    }
   ],
   "source": [
    "test_image.unsqueeze(0).shape"
   ]
  },
  {
   "cell_type": "markdown",
   "id": "9aa65835",
   "metadata": {},
   "source": [
    "# Stepping through nn.MaxPool2d()"
   ]
  },
  {
   "cell_type": "code",
   "execution_count": 90,
   "id": "8b9ba725",
   "metadata": {},
   "outputs": [
    {
     "data": {
      "text/plain": [
       "torch.Size([3, 64, 64])"
      ]
     },
     "execution_count": 90,
     "metadata": {},
     "output_type": "execute_result"
    }
   ],
   "source": [
    " test_image.shape"
   ]
  },
  {
   "cell_type": "code",
   "execution_count": 91,
   "id": "22cd9d8f",
   "metadata": {},
   "outputs": [
    {
     "name": "stdout",
     "output_type": "stream",
     "text": [
      "Test image original shape: torch.Size([3, 64, 64])\n",
      "Test image with unsqueezed dimension: torch.Size([1, 3, 64, 64])\n",
      "Shape after going through conv_layer(): torch.Size([1, 10, 62, 62])\n",
      "Shape after going through conv and maxpool layer: torch.Size([1, 10, 31, 31])\n"
     ]
    }
   ],
   "source": [
    "# Print out original image shape without unsqueezed dimension\n",
    "print(f\"Test image original shape: {test_image.shape}\")\n",
    "print(f\"Test image with unsqueezed dimension: {test_image.unsqueeze(0).shape}\")\n",
    "\n",
    "# Create a sample nn.MaxPool2d layer\n",
    "max_pool_layer = nn.MaxPool2d(kernel_size = 2)\n",
    "\n",
    "# Pass data through just the conv layer\n",
    "test_image_through_conv = conv_layer(test_image.unsqueeze(dim = 0))\n",
    "print(f\"Shape after going through conv_layer(): {test_image_through_conv.shape}\")\n",
    "\n",
    "# Pass data through the max pool layer\n",
    "test_image_through_conv_and_max_pool = max_pool_layer(test_image_through_conv)\n",
    "print(f\"Shape after going through conv and maxpool layer: {test_image_through_conv_and_max_pool.shape}\")\n"
   ]
  },
  {
   "cell_type": "code",
   "execution_count": 100,
   "id": "2eb61a05",
   "metadata": {},
   "outputs": [
    {
     "name": "stdout",
     "output_type": "stream",
     "text": [
      "original tensor : \n",
      "tensor([[[[0.3367, 0.1288],\n",
      "          [0.2345, 0.2303]]]])\n",
      "original tensor shape : torch.Size([1, 1, 2, 2])\n",
      "\n",
      "max_pool_tensor : tensor([[[[0.3367]]]])\n",
      "max_pool_tensor shape : torch.Size([1, 1, 1, 1])\n"
     ]
    }
   ],
   "source": [
    "torch.manual_seed(42)\n",
    "\n",
    "# Create a random tensor with a similar numner of dimensions to out image\n",
    "random_tensor = torch.randn(size = (1, 1, 2, 2))\n",
    "random_tensor\n",
    "\n",
    "# Create a max_pool_layer\n",
    "max_pool_layer = nn.MaxPool2d(kernel_size = 2)\n",
    "\n",
    "# Pass the random tensor through the max pool layer\n",
    "max_pool_tensor = max_pool_layer(random_tensor)\n",
    "print(f\"original tensor : \\n{random_tensor}\")\n",
    "print(f\"original tensor shape : {random_tensor.shape}\\n\")\n",
    "print(f\"max_pool_tensor : {max_pool_tensor}\")\n",
    "print(f\"max_pool_tensor shape : {max_pool_tensor.shape}\")"
   ]
  },
  {
   "cell_type": "markdown",
   "id": "ff67ca5b",
   "metadata": {},
   "source": [
    "## Train Test"
   ]
  },
  {
   "cell_type": "code",
   "execution_count": 166,
   "id": "3d68d878",
   "metadata": {},
   "outputs": [],
   "source": [
    "# Setup loss function/ eval metrics/optimizer\n",
    "from helper_functions import accuracy_fn\n",
    "\n",
    "loss_fn = nn.CrossEntropyLoss()\n",
    "optimizer = torch.optim.SGD(params = conv_model.parameters(),\n",
    "                           lr = 0.1)\n"
   ]
  },
  {
   "cell_type": "code",
   "execution_count": 165,
   "id": "bb4ef5dd",
   "metadata": {},
   "outputs": [
    {
     "data": {
      "text/plain": [
       "OrderedDict([('conv_block_1.0.weight',\n",
       "              tensor([[[[ 0.2548,  0.2767, -0.0781],\n",
       "                        [ 0.3062, -0.0730,  0.0673],\n",
       "                        [-0.1623,  0.1958,  0.2938]]],\n",
       "              \n",
       "              \n",
       "                      [[[-0.2445,  0.2897,  0.0624],\n",
       "                        [ 0.2463,  0.0451,  0.1607],\n",
       "                        [-0.0471,  0.2570,  0.0493]]],\n",
       "              \n",
       "              \n",
       "                      [[[-0.1556,  0.0850, -0.1536],\n",
       "                        [-0.0391, -0.1354,  0.2211],\n",
       "                        [-0.2631, -0.1537, -0.0941]]],\n",
       "              \n",
       "              \n",
       "                      [[[-0.2004,  0.0315, -0.3292],\n",
       "                        [ 0.3010, -0.2832,  0.2573],\n",
       "                        [ 0.0555, -0.1082,  0.2060]]],\n",
       "              \n",
       "              \n",
       "                      [[[ 0.0520,  0.2693,  0.0364],\n",
       "                        [-0.1051,  0.0896, -0.0904],\n",
       "                        [ 0.1403,  0.2976,  0.1927]]]])),\n",
       "             ('conv_block_1.0.bias',\n",
       "              tensor([-0.1457,  0.1924,  0.0596,  0.1693, -0.2032])),\n",
       "             ('conv_block_1.2.weight',\n",
       "              tensor([[[[-0.1476, -0.0576, -0.1143],\n",
       "                        [ 0.1223,  0.0429,  0.0617],\n",
       "                        [ 0.0471, -0.0026,  0.1167]],\n",
       "              \n",
       "                       [[-0.1059,  0.0094, -0.1017],\n",
       "                        [ 0.0460, -0.0513,  0.0457],\n",
       "                        [-0.0311,  0.1236, -0.0884]],\n",
       "              \n",
       "                       [[-0.0889, -0.0889,  0.1341],\n",
       "                        [ 0.0497,  0.1434, -0.1230],\n",
       "                        [-0.1479, -0.1166, -0.1003]],\n",
       "              \n",
       "                       [[ 0.0604,  0.0534,  0.1239],\n",
       "                        [-0.0770, -0.1016,  0.0791],\n",
       "                        [-0.0603,  0.0905, -0.0354]],\n",
       "              \n",
       "                       [[ 0.0853, -0.1158, -0.0752],\n",
       "                        [ 0.0454,  0.0315, -0.0380],\n",
       "                        [ 0.0889,  0.1013, -0.1081]]],\n",
       "              \n",
       "              \n",
       "                      [[[-0.0796,  0.1365, -0.0503],\n",
       "                        [-0.0528, -0.1442, -0.0854],\n",
       "                        [ 0.0372, -0.0197, -0.1082]],\n",
       "              \n",
       "                       [[ 0.0035, -0.1018, -0.1265],\n",
       "                        [-0.0821, -0.1305, -0.0949],\n",
       "                        [ 0.1490,  0.0282,  0.0459]],\n",
       "              \n",
       "                       [[-0.1390, -0.0979, -0.0496],\n",
       "                        [ 0.0233, -0.1312, -0.0642],\n",
       "                        [-0.0892,  0.0004, -0.0555]],\n",
       "              \n",
       "                       [[-0.0103, -0.1010, -0.1023],\n",
       "                        [-0.0870, -0.0510, -0.1177],\n",
       "                        [ 0.1250, -0.0296,  0.1283]],\n",
       "              \n",
       "                       [[ 0.0464, -0.1262,  0.1032],\n",
       "                        [-0.0410, -0.0571, -0.1237],\n",
       "                        [-0.1482,  0.0427, -0.0326]]],\n",
       "              \n",
       "              \n",
       "                      [[[ 0.0580, -0.1223,  0.1107],\n",
       "                        [-0.1094, -0.0257,  0.0311],\n",
       "                        [ 0.0770,  0.1203,  0.1358]],\n",
       "              \n",
       "                       [[-0.1182,  0.0375, -0.0641],\n",
       "                        [-0.0163, -0.1116,  0.1358],\n",
       "                        [-0.1094,  0.0797,  0.0524]],\n",
       "              \n",
       "                       [[ 0.0484, -0.0806,  0.1355],\n",
       "                        [ 0.0328,  0.0192, -0.1314],\n",
       "                        [ 0.0626, -0.0224, -0.0683]],\n",
       "              \n",
       "                       [[ 0.1280,  0.0332, -0.0825],\n",
       "                        [-0.0755, -0.0071,  0.0832],\n",
       "                        [-0.0381, -0.0851, -0.0510]],\n",
       "              \n",
       "                       [[-0.1114,  0.0532,  0.1154],\n",
       "                        [-0.1403,  0.0346,  0.0770],\n",
       "                        [ 0.0270, -0.0531,  0.0778]]],\n",
       "              \n",
       "              \n",
       "                      [[[ 0.0783,  0.0557, -0.0262],\n",
       "                        [-0.0395,  0.0159, -0.0263],\n",
       "                        [-0.0444,  0.0953,  0.1281]],\n",
       "              \n",
       "                       [[-0.0148, -0.0334,  0.0022],\n",
       "                        [-0.0089,  0.0358,  0.0418],\n",
       "                        [-0.1354, -0.0550,  0.1255]],\n",
       "              \n",
       "                       [[ 0.0581, -0.0074, -0.0899],\n",
       "                        [-0.0912, -0.1335, -0.0486],\n",
       "                        [ 0.0503,  0.0951,  0.0688]],\n",
       "              \n",
       "                       [[-0.1318, -0.0896, -0.0235],\n",
       "                        [ 0.1442,  0.0216, -0.0386],\n",
       "                        [ 0.0617, -0.0568, -0.0965]],\n",
       "              \n",
       "                       [[ 0.1088, -0.0678, -0.0299],\n",
       "                        [-0.1483,  0.0998,  0.1129],\n",
       "                        [ 0.0543, -0.1039, -0.1471]]],\n",
       "              \n",
       "              \n",
       "                      [[[-0.1211,  0.1112,  0.0716],\n",
       "                        [ 0.1254,  0.0781,  0.0377],\n",
       "                        [-0.0015, -0.1134, -0.1277]],\n",
       "              \n",
       "                       [[-0.1394,  0.0610, -0.0732],\n",
       "                        [-0.0300, -0.0858, -0.0272],\n",
       "                        [-0.1049, -0.0974,  0.0494]],\n",
       "              \n",
       "                       [[-0.0443,  0.0920, -0.0478],\n",
       "                        [-0.1094, -0.0263, -0.0723],\n",
       "                        [-0.0456, -0.1419,  0.0834]],\n",
       "              \n",
       "                       [[-0.1038,  0.0749,  0.0676],\n",
       "                        [ 0.1065, -0.1143,  0.1072],\n",
       "                        [-0.0705,  0.0553,  0.1400]],\n",
       "              \n",
       "                       [[-0.0210, -0.0012, -0.0343],\n",
       "                        [-0.1245,  0.0715, -0.1480],\n",
       "                        [ 0.0925,  0.1115,  0.1410]]]])),\n",
       "             ('conv_block_1.2.bias',\n",
       "              tensor([-0.0352, -0.1225,  0.0335,  0.0824, -0.1484])),\n",
       "             ('conv_block_2.0.weight',\n",
       "              tensor([[[[-0.0338, -0.0894, -0.0130],\n",
       "                        [-0.0734, -0.0609, -0.0473],\n",
       "                        [-0.1417,  0.1223,  0.1250]],\n",
       "              \n",
       "                       [[-0.0234, -0.0170, -0.0608],\n",
       "                        [-0.1346, -0.1451,  0.0554],\n",
       "                        [-0.0818, -0.0958, -0.0116]],\n",
       "              \n",
       "                       [[-0.0496, -0.0482,  0.0048],\n",
       "                        [-0.0316, -0.0513, -0.0714],\n",
       "                        [-0.1213,  0.1250, -0.0597]],\n",
       "              \n",
       "                       [[ 0.0395, -0.0517,  0.0121],\n",
       "                        [ 0.1390,  0.0687, -0.1292],\n",
       "                        [ 0.0592,  0.1415,  0.0392]],\n",
       "              \n",
       "                       [[ 0.0999,  0.1470, -0.0228],\n",
       "                        [ 0.0309, -0.1036, -0.0307],\n",
       "                        [ 0.1104,  0.0764, -0.0943]]],\n",
       "              \n",
       "              \n",
       "                      [[[-0.1195, -0.1019, -0.1471],\n",
       "                        [-0.1150, -0.0369,  0.1006],\n",
       "                        [ 0.0250, -0.1134, -0.1196]],\n",
       "              \n",
       "                       [[ 0.0742, -0.1109, -0.0184],\n",
       "                        [ 0.0715, -0.0690, -0.0163],\n",
       "                        [-0.0130, -0.0353, -0.0756]],\n",
       "              \n",
       "                       [[-0.1329, -0.1205, -0.0798],\n",
       "                        [ 0.1440, -0.0720, -0.1001],\n",
       "                        [ 0.0361,  0.0411,  0.0817]],\n",
       "              \n",
       "                       [[ 0.1133,  0.0830, -0.1478],\n",
       "                        [ 0.0132,  0.0903, -0.0138],\n",
       "                        [-0.0878,  0.1421, -0.0558]],\n",
       "              \n",
       "                       [[-0.0849, -0.1344,  0.0067],\n",
       "                        [ 0.0661,  0.0330,  0.0295],\n",
       "                        [-0.1131, -0.1392,  0.0026]]],\n",
       "              \n",
       "              \n",
       "                      [[[ 0.1359,  0.0860, -0.0868],\n",
       "                        [-0.0194, -0.1099, -0.0719],\n",
       "                        [ 0.0270,  0.0812,  0.1235]],\n",
       "              \n",
       "                       [[-0.1369,  0.0997, -0.1051],\n",
       "                        [ 0.0558,  0.1262,  0.0021],\n",
       "                        [ 0.1356, -0.1270, -0.0569]],\n",
       "              \n",
       "                       [[ 0.0869, -0.0325, -0.0305],\n",
       "                        [-0.0621,  0.1028,  0.0731],\n",
       "                        [ 0.0478, -0.0838, -0.1210]],\n",
       "              \n",
       "                       [[ 0.0161,  0.0442, -0.0688],\n",
       "                        [-0.0417,  0.1007,  0.0119],\n",
       "                        [ 0.0067, -0.0367, -0.1350]],\n",
       "              \n",
       "                       [[-0.1402, -0.0713, -0.0758],\n",
       "                        [ 0.0464, -0.0434, -0.0583],\n",
       "                        [ 0.1421,  0.0519,  0.1063]]],\n",
       "              \n",
       "              \n",
       "                      [[[-0.0722, -0.0609,  0.0548],\n",
       "                        [-0.0993, -0.0974, -0.0072],\n",
       "                        [-0.0545, -0.1118,  0.0884]],\n",
       "              \n",
       "                       [[ 0.1199,  0.0242, -0.0260],\n",
       "                        [-0.1381, -0.0543,  0.0380],\n",
       "                        [ 0.0703, -0.0188, -0.0589]],\n",
       "              \n",
       "                       [[ 0.0831, -0.1187,  0.0942],\n",
       "                        [-0.0578,  0.0023, -0.0295],\n",
       "                        [ 0.0181, -0.0450,  0.1084]],\n",
       "              \n",
       "                       [[-0.0039,  0.1164,  0.1433],\n",
       "                        [-0.0726, -0.1087,  0.1196],\n",
       "                        [ 0.1168, -0.1138, -0.0115]],\n",
       "              \n",
       "                       [[-0.1470, -0.1220,  0.0288],\n",
       "                        [ 0.0397,  0.0316, -0.0406],\n",
       "                        [ 0.1375,  0.0213, -0.0880]]],\n",
       "              \n",
       "              \n",
       "                      [[[-0.0084,  0.0358,  0.0522],\n",
       "                        [-0.1054,  0.0559, -0.0762],\n",
       "                        [-0.1239, -0.0814,  0.1438]],\n",
       "              \n",
       "                       [[ 0.1274,  0.1335,  0.0875],\n",
       "                        [ 0.1126, -0.0200, -0.0820],\n",
       "                        [ 0.0745, -0.0772, -0.1006]],\n",
       "              \n",
       "                       [[-0.0476,  0.0313,  0.0767],\n",
       "                        [-0.0579, -0.0877,  0.0201],\n",
       "                        [-0.0879, -0.0971,  0.0777]],\n",
       "              \n",
       "                       [[-0.0250,  0.1362,  0.1450],\n",
       "                        [ 0.0446,  0.0513,  0.0343],\n",
       "                        [ 0.0023, -0.0108,  0.0020]],\n",
       "              \n",
       "                       [[ 0.0557,  0.1386, -0.0386],\n",
       "                        [-0.0630, -0.0361, -0.0720],\n",
       "                        [ 0.0253,  0.1113,  0.1166]]]])),\n",
       "             ('conv_block_2.0.bias',\n",
       "              tensor([ 0.0684, -0.1097, -0.0800, -0.0328, -0.0275])),\n",
       "             ('conv_block_2.2.weight',\n",
       "              tensor([[[[ 0.0123, -0.1368,  0.0464],\n",
       "                        [-0.1137, -0.0943, -0.1239],\n",
       "                        [ 0.1299, -0.1412,  0.1125]],\n",
       "              \n",
       "                       [[-0.0050, -0.0173,  0.0932],\n",
       "                        [-0.0138,  0.0935,  0.1078],\n",
       "                        [-0.1294,  0.0574,  0.0281]],\n",
       "              \n",
       "                       [[ 0.0321,  0.0218,  0.0408],\n",
       "                        [-0.0717, -0.0191,  0.1416],\n",
       "                        [ 0.1002, -0.0056, -0.1402]],\n",
       "              \n",
       "                       [[ 0.0065, -0.1015,  0.1212],\n",
       "                        [-0.0905, -0.0108, -0.0331],\n",
       "                        [ 0.0265,  0.1403,  0.0142]],\n",
       "              \n",
       "                       [[ 0.0863,  0.1157,  0.1203],\n",
       "                        [-0.0515, -0.0333,  0.0718],\n",
       "                        [-0.0407,  0.0698, -0.0326]]],\n",
       "              \n",
       "              \n",
       "                      [[[-0.1011,  0.0607,  0.0229],\n",
       "                        [ 0.0665,  0.1481,  0.1018],\n",
       "                        [ 0.1413,  0.0080, -0.1282]],\n",
       "              \n",
       "                       [[-0.1046, -0.0926, -0.1314],\n",
       "                        [-0.0747, -0.1372, -0.1375],\n",
       "                        [-0.0891, -0.1470, -0.0915]],\n",
       "              \n",
       "                       [[ 0.0568,  0.1243, -0.0443],\n",
       "                        [-0.0434,  0.0796, -0.0735],\n",
       "                        [-0.0705,  0.0918, -0.1299]],\n",
       "              \n",
       "                       [[ 0.0182,  0.1317,  0.0256],\n",
       "                        [ 0.0405, -0.0868, -0.0021],\n",
       "                        [ 0.0082,  0.0366,  0.0579]],\n",
       "              \n",
       "                       [[ 0.1295, -0.1138,  0.0045],\n",
       "                        [-0.0745, -0.1179, -0.0119],\n",
       "                        [-0.1312,  0.1040,  0.0173]]],\n",
       "              \n",
       "              \n",
       "                      [[[-0.0803,  0.0779, -0.1411],\n",
       "                        [-0.0577, -0.0290, -0.1267],\n",
       "                        [-0.0948, -0.0243,  0.1131]],\n",
       "              \n",
       "                       [[ 0.1440,  0.0948, -0.0890],\n",
       "                        [-0.0975,  0.1301,  0.0527],\n",
       "                        [ 0.0040,  0.0202, -0.1198]],\n",
       "              \n",
       "                       [[-0.0498,  0.1435, -0.0368],\n",
       "                        [-0.0075, -0.1238, -0.0834],\n",
       "                        [-0.0030, -0.0926, -0.0185]],\n",
       "              \n",
       "                       [[ 0.0607, -0.1458,  0.0443],\n",
       "                        [-0.0986, -0.0728,  0.0572],\n",
       "                        [ 0.1185, -0.0407, -0.0612]],\n",
       "              \n",
       "                       [[-0.1348, -0.0769, -0.1305],\n",
       "                        [-0.0341,  0.0304, -0.1397],\n",
       "                        [ 0.1302,  0.0935, -0.1459]]],\n",
       "              \n",
       "              \n",
       "                      [[[-0.0712,  0.0486, -0.0306],\n",
       "                        [-0.0162, -0.0673,  0.1197],\n",
       "                        [-0.0833,  0.1236,  0.0096]],\n",
       "              \n",
       "                       [[ 0.0300,  0.1163, -0.0246],\n",
       "                        [-0.0849, -0.0241,  0.1209],\n",
       "                        [-0.1106,  0.0338, -0.1465]],\n",
       "              \n",
       "                       [[ 0.0782,  0.0551,  0.0063],\n",
       "                        [ 0.0640,  0.0002,  0.0825],\n",
       "                        [-0.1180, -0.0219,  0.0661]],\n",
       "              \n",
       "                       [[ 0.1484,  0.0759, -0.1084],\n",
       "                        [ 0.1147, -0.0332, -0.0318],\n",
       "                        [-0.1355, -0.0235,  0.1054]],\n",
       "              \n",
       "                       [[ 0.0208, -0.0868,  0.0459],\n",
       "                        [-0.0478,  0.1361, -0.1294],\n",
       "                        [-0.0471, -0.1439, -0.0587]]],\n",
       "              \n",
       "              \n",
       "                      [[[ 0.0470,  0.1435,  0.0250],\n",
       "                        [ 0.1461,  0.0292,  0.0861],\n",
       "                        [ 0.1195,  0.1246, -0.0834]],\n",
       "              \n",
       "                       [[ 0.1371,  0.0903, -0.0697],\n",
       "                        [-0.0711, -0.1250,  0.0374],\n",
       "                        [-0.1208,  0.0630,  0.0471]],\n",
       "              \n",
       "                       [[-0.1295,  0.0406, -0.0121],\n",
       "                        [ 0.0681,  0.0855, -0.1482],\n",
       "                        [ 0.1367,  0.1250,  0.0593]],\n",
       "              \n",
       "                       [[-0.1362, -0.0533, -0.0432],\n",
       "                        [-0.0383,  0.0841,  0.0542],\n",
       "                        [ 0.1181, -0.0558,  0.0502]],\n",
       "              \n",
       "                       [[ 0.0530, -0.1241, -0.1446],\n",
       "                        [-0.0774,  0.1020, -0.1403],\n",
       "                        [-0.1298,  0.0835,  0.0804]]]])),\n",
       "             ('conv_block_2.2.bias',\n",
       "              tensor([ 0.1226, -0.1125, -0.1091,  0.0765,  0.1296])),\n",
       "             ('classifier.1.weight',\n",
       "              tensor([[ 0.0382,  0.0100,  0.0211,  ...,  0.0324,  0.0548, -0.0627],\n",
       "                      [-0.0079, -0.0436,  0.0119,  ...,  0.0619,  0.0174, -0.0401],\n",
       "                      [ 0.0311,  0.0109,  0.0174,  ..., -0.0044,  0.0439, -0.0576],\n",
       "                      ...,\n",
       "                      [-0.0347,  0.0509,  0.0460,  ..., -0.0332, -0.0296, -0.0530],\n",
       "                      [ 0.0588,  0.0106, -0.0459,  ..., -0.0584,  0.0552,  0.0511],\n",
       "                      [ 0.0040, -0.0051,  0.0497,  ..., -0.0097, -0.0088, -0.0217]])),\n",
       "             ('classifier.1.bias',\n",
       "              tensor([-0.0553,  0.0402, -0.0402,  0.0372, -0.0215,  0.0400,  0.0548, -0.0391,\n",
       "                       0.0528,  0.0016]))])"
      ]
     },
     "execution_count": 165,
     "metadata": {},
     "output_type": "execute_result"
    }
   ],
   "source": [
    "conv_model.state_dict()"
   ]
  },
  {
   "cell_type": "code",
   "execution_count": null,
   "id": "83e9f28f",
   "metadata": {},
   "outputs": [],
   "source": []
  }
 ],
 "metadata": {
  "celltoolbar": "Raw Cell Format",
  "kernelspec": {
   "display_name": "Python 3 (ipykernel)",
   "language": "python",
   "name": "python3"
  },
  "language_info": {
   "codemirror_mode": {
    "name": "ipython",
    "version": 3
   },
   "file_extension": ".py",
   "mimetype": "text/x-python",
   "name": "python",
   "nbconvert_exporter": "python",
   "pygments_lexer": "ipython3",
   "version": "3.11.4"
  }
 },
 "nbformat": 4,
 "nbformat_minor": 5
}

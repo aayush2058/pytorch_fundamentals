{
 "cells": [
  {
   "cell_type": "markdown",
   "metadata": {},
   "source": [
    "## This Notebook contains fundamentals for `Tensor` and `Pytorch` with `CPU` and `GPU` usage at the bottom\n",
    "\n",
    "**Note** : I have installed and setup `cuda` on my local hardware. You can run this on google colab if you donot have GPU availability support with python on your local machine. Else, error might be thrown."
   ]
  },
  {
   "cell_type": "code",
   "execution_count": 115,
   "metadata": {
    "colab": {
     "base_uri": "https://localhost:8080/"
    },
    "id": "9PEjEwYae_qn",
    "outputId": "5ad30d8a-2cca-4504-9767-a6834d9d6295"
   },
   "outputs": [
    {
     "name": "stdout",
     "output_type": "stream",
     "text": [
      "2.0.1+cu118\n"
     ]
    }
   ],
   "source": [
    "import torch\n",
    "import pandas as pd\n",
    "import numpy as np\n",
    "import matplotlib.pyplot as plt\n",
    "print(torch.__version__)"
   ]
  },
  {
   "cell_type": "markdown",
   "metadata": {
    "id": "lfoidkoYfQJj"
   },
   "source": [
    "Pytorch tensors are created using `torch.Tensor()`\n",
    "\n",
    "`scalar` - (1)\n",
    "\n",
    "`vector` - [1, 2, 3]\n",
    "\n",
    "`MATRIX` = [[1, 2, 3],[4, 5, 6]]\n",
    "\n",
    "`TENSOR` = [ [[1, 2, 3], [4, 5, 6]],\n",
    "           [[1, 2, 3], [4, 5, 6]] ]\n",
    "\n",
    "Naming convention for `scalar and vector` are `lowecase` whereas for `MATRIX and TENSORS`, its `UPPERCASE`.\n",
    "\n",
    "\n",
    "Neural Network start with random `TENSORS` passed at the beginning which is `adjusted and updated` by the Neural Network each time looking at the data."
   ]
  },
  {
   "cell_type": "code",
   "execution_count": 116,
   "metadata": {
    "colab": {
     "base_uri": "https://localhost:8080/"
    },
    "id": "iTar5Iynf86w",
    "outputId": "a75cf947-f1de-4895-b8c7-ae499659be88"
   },
   "outputs": [
    {
     "data": {
      "text/plain": [
       "(torch.Size([244, 244, 3]), 3)"
      ]
     },
     "execution_count": 116,
     "metadata": {},
     "output_type": "execute_result"
    }
   ],
   "source": [
    " # Creating random tensors using rand()\n",
    "\n",
    " random_image = torch.rand(244, 244, 3) #height, width, color_channel\n",
    " random_image.shape, random_image.ndim"
   ]
  },
  {
   "cell_type": "code",
   "execution_count": 117,
   "metadata": {
    "colab": {
     "base_uri": "https://localhost:8080/"
    },
    "id": "SGAgRQmYoROL",
    "outputId": "155f9eba-f920-4511-efe9-efe2183fffd3"
   },
   "outputs": [
    {
     "data": {
      "text/plain": [
       "tensor([ 1,  2,  3,  4,  5,  6,  7,  8,  9, 10])"
      ]
     },
     "execution_count": 117,
     "metadata": {},
     "output_type": "execute_result"
    }
   ],
   "source": [
    "# Creating a range of tensors\n",
    "\n",
    "ten_tensors = torch.arange(1, 11, 1)\n",
    "ten_tensors\n"
   ]
  },
  {
   "cell_type": "code",
   "execution_count": 118,
   "metadata": {
    "colab": {
     "base_uri": "https://localhost:8080/"
    },
    "id": "4t7M7M8jpyPV",
    "outputId": "eb7ee2fb-3270-4b85-a47f-454bb9a9d75f"
   },
   "outputs": [
    {
     "data": {
      "text/plain": [
       "tensor([0, 0, 0, 0, 0, 0, 0, 0, 0, 0])"
      ]
     },
     "execution_count": 118,
     "metadata": {},
     "output_type": "execute_result"
    }
   ],
   "source": [
    "# Copying shape of other tensors and making same shape with '0'\n",
    "\n",
    "ten_zeroes = torch.zeros_like(ten_tensors)\n",
    "ten_zeroes"
   ]
  },
  {
   "cell_type": "markdown",
   "metadata": {
    "id": "cj2GG4Lrqi2W"
   },
   "source": [
    "### Tensor data-types\n",
    "**Note :** Tensor datatype is one of the three common issue that will cause error in PyTorch & Deep Learning.\n",
    "\n",
    "Those 3 are:\n",
    "1. Tensors not right datatype (float32/float16)\n",
    "2. Tensors not right shape\n",
    "3. Tensors not on the right device (GPU/CPU)"
   ]
  },
  {
   "cell_type": "code",
   "execution_count": 119,
   "metadata": {
    "colab": {
     "base_uri": "https://localhost:8080/"
    },
    "id": "0ZisIPyDrdoq",
    "outputId": "bb190181-bc43-49e3-aa35-7f29f3700298"
   },
   "outputs": [
    {
     "data": {
      "text/plain": [
       "tensor([3., 6., 9.])"
      ]
     },
     "execution_count": 119,
     "metadata": {},
     "output_type": "execute_result"
    }
   ],
   "source": [
    "# Float32 tensor\n",
    "\n",
    "float_32_tensor = torch.tensor([3.0, 6.0, 9.0],\n",
    "                               dtype = None, # dtype of tensor i.e (float32 or float16)\n",
    "                               device = None, # which device is tensor on\n",
    "                               requires_grad = False) # whether or not to track tensor gradients with this tensor operations\n",
    "\n",
    "float_32_tensor"
   ]
  },
  {
   "cell_type": "code",
   "execution_count": 120,
   "metadata": {
    "colab": {
     "base_uri": "https://localhost:8080/"
    },
    "id": "a1GaQxBZ-h-2",
    "outputId": "5a87da1b-53db-4f08-b3f3-9d19d7c86f3e"
   },
   "outputs": [
    {
     "data": {
      "text/plain": [
       "tensor([3., 6., 9.], dtype=torch.float16)"
      ]
     },
     "execution_count": 120,
     "metadata": {},
     "output_type": "execute_result"
    }
   ],
   "source": [
    "float_16_tensor = float_32_tensor.type(torch.float16)\n",
    "float_16_tensor"
   ]
  },
  {
   "cell_type": "code",
   "execution_count": 121,
   "metadata": {
    "colab": {
     "base_uri": "https://localhost:8080/"
    },
    "id": "0ezvhOh3-tHJ",
    "outputId": "aa46eceb-ccd3-41e0-f87f-255a78ff5b7e"
   },
   "outputs": [
    {
     "data": {
      "text/plain": [
       "tensor([ 9., 36., 81.])"
      ]
     },
     "execution_count": 121,
     "metadata": {},
     "output_type": "execute_result"
    }
   ],
   "source": [
    "(float_16_tensor * float_32_tensor)"
   ]
  },
  {
   "cell_type": "markdown",
   "metadata": {
    "id": "ZswKOfG1_ENt"
   },
   "source": [
    "### Solving tensor issue (Basics)\n",
    "\n",
    "1. Tensor not right datatype - to do get datatype from a tensor, can use `tensor.dtype`\n",
    "\n",
    "2. Tensor not right shape - to get shape from a tensor, can use `tensor.shape`\n",
    "\n",
    "3. Tensor not on the right device - to get device from a tensor, can use `tensor.device`\n"
   ]
  },
  {
   "cell_type": "code",
   "execution_count": 122,
   "metadata": {
    "colab": {
     "base_uri": "https://localhost:8080/"
    },
    "id": "PEUJ4sHSA3fA",
    "outputId": "cad052d6-c58b-45f0-95c3-a0a38d83d99d"
   },
   "outputs": [
    {
     "data": {
      "text/plain": [
       "tensor([[0.8006, 0.0750, 0.6011, 0.1838, 0.3278],\n",
       "        [0.1842, 0.3922, 0.2608, 0.6431, 0.8455],\n",
       "        [0.3549, 0.7987, 0.0195, 0.3426, 0.1999],\n",
       "        [0.0783, 0.4362, 0.5973, 0.8781, 0.7217],\n",
       "        [0.7007, 0.0852, 0.5051, 0.3764, 0.9566]])"
      ]
     },
     "execution_count": 122,
     "metadata": {},
     "output_type": "execute_result"
    }
   ],
   "source": [
    "some_tensor = torch.rand(5, 5)\n",
    "some_tensor"
   ]
  },
  {
   "cell_type": "code",
   "execution_count": 123,
   "metadata": {
    "colab": {
     "base_uri": "https://localhost:8080/"
    },
    "id": "B9iMtz-_A-QU",
    "outputId": "c7a2fadf-657a-4d9d-c55c-e7d96077fc8a"
   },
   "outputs": [
    {
     "name": "stdout",
     "output_type": "stream",
     "text": [
      "tensor([[0.8006, 0.0750, 0.6011, 0.1838, 0.3278],\n",
      "        [0.1842, 0.3922, 0.2608, 0.6431, 0.8455],\n",
      "        [0.3549, 0.7987, 0.0195, 0.3426, 0.1999],\n",
      "        [0.0783, 0.4362, 0.5973, 0.8781, 0.7217],\n",
      "        [0.7007, 0.0852, 0.5051, 0.3764, 0.9566]])\n",
      "Datatype of tensor : torch.float32\n",
      "Shape of tensor : torch.Size([5, 5])\n",
      "Device tensor is on : cpu\n"
     ]
    }
   ],
   "source": [
    "# Getting details of tensor\n",
    "\n",
    "print(some_tensor)\n",
    "print(f\"Datatype of tensor : {some_tensor.dtype}\")\n",
    "print(f\"Shape of tensor : {some_tensor.shape}\")\n",
    "print(f\"Device tensor is on : {some_tensor.device}\")"
   ]
  },
  {
   "cell_type": "markdown",
   "metadata": {
    "id": "cjuB8VZuBzSt"
   },
   "source": [
    "### Manipulating tensors\n",
    "\n",
    "Tensor operations include:\n",
    "* Addition\n",
    "* Substraction\n",
    "* Multiplication (element-wise)\n",
    "* Division\n",
    "* Matrix multiplication"
   ]
  },
  {
   "cell_type": "code",
   "execution_count": 124,
   "metadata": {
    "colab": {
     "base_uri": "https://localhost:8080/"
    },
    "id": "1ZjmPQCYBdct",
    "outputId": "d9b21a76-9d03-4137-f124-453f84e0fc54"
   },
   "outputs": [
    {
     "data": {
      "text/plain": [
       "tensor([11, 12, 13])"
      ]
     },
     "execution_count": 124,
     "metadata": {},
     "output_type": "execute_result"
    }
   ],
   "source": [
    "random_tensors = torch.tensor([1, 2, 3])\n",
    "random_tensors + 10"
   ]
  },
  {
   "cell_type": "code",
   "execution_count": 125,
   "metadata": {
    "colab": {
     "base_uri": "https://localhost:8080/"
    },
    "id": "KNDsO2HjBuex",
    "outputId": "1310e3a4-c34f-47a9-fa41-dfca112f5f23"
   },
   "outputs": [
    {
     "data": {
      "text/plain": [
       "tensor([10, 20, 30])"
      ]
     },
     "execution_count": 125,
     "metadata": {},
     "output_type": "execute_result"
    }
   ],
   "source": [
    "random_tensors * 10"
   ]
  },
  {
   "cell_type": "code",
   "execution_count": 126,
   "metadata": {
    "colab": {
     "base_uri": "https://localhost:8080/"
    },
    "id": "3kF8RE7MB1SI",
    "outputId": "c7634bb6-9fb9-4130-b994-74edcf30887a"
   },
   "outputs": [
    {
     "data": {
      "text/plain": [
       "tensor([-9, -8, -7])"
      ]
     },
     "execution_count": 126,
     "metadata": {},
     "output_type": "execute_result"
    }
   ],
   "source": [
    "random_tensors - 10"
   ]
  },
  {
   "cell_type": "code",
   "execution_count": 127,
   "metadata": {
    "colab": {
     "base_uri": "https://localhost:8080/"
    },
    "id": "tynm5fvpCCS5",
    "outputId": "af4bd57c-763a-4215-9647-e293fe906efa"
   },
   "outputs": [
    {
     "data": {
      "text/plain": [
       "tensor([10, 20, 30])"
      ]
     },
     "execution_count": 127,
     "metadata": {},
     "output_type": "execute_result"
    }
   ],
   "source": [
    "# Pytorch inbuilt functions\n",
    "\n",
    "torch.mul(random_tensors, 10)"
   ]
  },
  {
   "cell_type": "code",
   "execution_count": 128,
   "metadata": {
    "colab": {
     "base_uri": "https://localhost:8080/"
    },
    "id": "mhvtu4YLCK60",
    "outputId": "d5bb41d4-1e10-4be4-bc22-061b5997ccf8"
   },
   "outputs": [
    {
     "data": {
      "text/plain": [
       "tensor([11, 12, 13])"
      ]
     },
     "execution_count": 128,
     "metadata": {},
     "output_type": "execute_result"
    }
   ],
   "source": [
    "torch.add(random_tensors, 10)"
   ]
  },
  {
   "cell_type": "markdown",
   "metadata": {
    "id": "U8pP_fYRCSih"
   },
   "source": [
    "### Matrix multiplication\n",
    "\n",
    "Two main ways of performing multiplication in neural networks and deep learning:\n",
    "1. Element wise multiplication\n",
    "2. Matrix multiplication (dot product)"
   ]
  },
  {
   "cell_type": "code",
   "execution_count": 129,
   "metadata": {
    "colab": {
     "base_uri": "https://localhost:8080/"
    },
    "id": "kDGUBUPdHYjb",
    "outputId": "aa049235-2b95-41dd-e286-e0fafcc5a229"
   },
   "outputs": [
    {
     "name": "stdout",
     "output_type": "stream",
     "text": [
      "tensor([[ 1,  4,  9],\n",
      "        [16, 25, 36]])\n"
     ]
    }
   ],
   "source": [
    "# Element wise multiplication\n",
    "\n",
    "tensor = torch.tensor([[1, 2, 3],[4, 5, 6]])\n",
    "print(tensor * tensor)"
   ]
  },
  {
   "cell_type": "code",
   "execution_count": 130,
   "metadata": {
    "colab": {
     "base_uri": "https://localhost:8080/"
    },
    "id": "7FFDxNkpHkHp",
    "outputId": "5086549f-8975-4adb-f661-3a0233fddc82"
   },
   "outputs": [
    {
     "name": "stdout",
     "output_type": "stream",
     "text": [
      "CPU times: total: 0 ns\n",
      "Wall time: 0 ns\n"
     ]
    },
    {
     "data": {
      "text/plain": [
       "tensor([[14, 32],\n",
       "        [32, 77]])"
      ]
     },
     "execution_count": 130,
     "metadata": {},
     "output_type": "execute_result"
    }
   ],
   "source": [
    "%%time\n",
    "\n",
    "# Matrix multiplication\n",
    "torch.matmul(tensor, tensor.T) # torch.mm() is same as torch.matmul()"
   ]
  },
  {
   "cell_type": "code",
   "execution_count": 131,
   "metadata": {
    "colab": {
     "base_uri": "https://localhost:8080/"
    },
    "id": "fI7Jiy5VIMKb",
    "outputId": "5f40899a-ace7-4809-efb2-d0c27a6db0ca"
   },
   "outputs": [
    {
     "name": "stdout",
     "output_type": "stream",
     "text": [
      "CPU times: total: 0 ns\n",
      "Wall time: 0 ns\n"
     ]
    },
    {
     "data": {
      "text/plain": [
       "tensor([[14, 32],\n",
       "        [32, 77]])"
      ]
     },
     "execution_count": 131,
     "metadata": {},
     "output_type": "execute_result"
    }
   ],
   "source": [
    "%%time\n",
    "\n",
    "# @ can be used for matrix multiplication\n",
    "tensor @ tensor.T"
   ]
  },
  {
   "cell_type": "code",
   "execution_count": 132,
   "metadata": {
    "colab": {
     "base_uri": "https://localhost:8080/"
    },
    "id": "Qm8HNdoYJvIW",
    "outputId": "a96be1ee-0c1c-440f-8836-8d5e8a8390de"
   },
   "outputs": [
    {
     "data": {
      "text/plain": [
       "tensor([[1, 4],\n",
       "        [2, 5],\n",
       "        [3, 6]])"
      ]
     },
     "execution_count": 132,
     "metadata": {},
     "output_type": "execute_result"
    }
   ],
   "source": [
    "tensor.T"
   ]
  },
  {
   "cell_type": "markdown",
   "metadata": {
    "id": "YMlD1O8TXiGH"
   },
   "source": [
    "### Datatype mismatch error encountered"
   ]
  },
  {
   "cell_type": "code",
   "execution_count": 133,
   "metadata": {
    "colab": {
     "base_uri": "https://localhost:8080/",
     "height": 192
    },
    "id": "3hkrV3b1U8DK",
    "outputId": "afdf66f6-caa5-48c5-9a34-81fc870f4d8c"
   },
   "outputs": [
    {
     "ename": "RuntimeError",
     "evalue": "mean(): could not infer output dtype. Input dtype must be either a floating point or complex dtype. Got: Long",
     "output_type": "error",
     "traceback": [
      "\u001b[1;31m---------------------------------------------------------------------------\u001b[0m",
      "\u001b[1;31mRuntimeError\u001b[0m                              Traceback (most recent call last)",
      "Cell \u001b[1;32mIn[133], line 2\u001b[0m\n\u001b[0;32m      1\u001b[0m \u001b[38;5;66;03m# Default datatype of a tensor is int64 which causes below error\u001b[39;00m\n\u001b[1;32m----> 2\u001b[0m torch\u001b[38;5;241m.\u001b[39mmean(tensor)\n",
      "\u001b[1;31mRuntimeError\u001b[0m: mean(): could not infer output dtype. Input dtype must be either a floating point or complex dtype. Got: Long"
     ]
    }
   ],
   "source": [
    "# Default datatype of a tensor is int64 which causes below error\n",
    "torch.mean(tensor)"
   ]
  },
  {
   "cell_type": "code",
   "execution_count": 134,
   "metadata": {
    "colab": {
     "base_uri": "https://localhost:8080/"
    },
    "id": "QThayKBrXTks",
    "outputId": "c39b05ff-1268-4b68-b8df-b598ec654ba0"
   },
   "outputs": [
    {
     "data": {
      "text/plain": [
       "tensor(3.5000)"
      ]
     },
     "execution_count": 134,
     "metadata": {},
     "output_type": "execute_result"
    }
   ],
   "source": [
    "# So, fulfiling the requirement of mean()\n",
    "torch.mean(tensor.type(torch.float32))"
   ]
  },
  {
   "cell_type": "markdown",
   "metadata": {
    "id": "uOvdJ4vaX5Yw"
   },
   "source": [
    "### Reshaping, Stacking, squeezing and unsqueezing tensors\n",
    "\n",
    "* Reshaping - reshapes an input tensor to a defined shape\n",
    "\n",
    "* View - Return a view of an input tensor of certain shape but keep the same memory as original tensor\n",
    "\n",
    "* Stacking - combine multiple tensors on top of each other (vstack) or side by side (hstack)\n",
    "\n",
    "* Squeeze - removes all `1` dimensions from a tensor\n",
    "\n",
    "* Unsqueeze - add a `1` dimension to a target tensor\n",
    "\n",
    "* Permute - Return a view of the input with dimensions permuted (swapped) in a certain way\n",
    "\n",
    "\n",
    "\n"
   ]
  },
  {
   "cell_type": "code",
   "execution_count": 135,
   "metadata": {
    "colab": {
     "base_uri": "https://localhost:8080/"
    },
    "id": "c01OewISZ5pk",
    "outputId": "e9e67733-0f84-440a-9e0a-66b0378ccad0"
   },
   "outputs": [
    {
     "data": {
      "text/plain": [
       "tensor([ 1.,  2.,  3.,  4.,  5.,  6.,  7.,  8.,  9., 10., 11., 12., 13., 14.,\n",
       "        15., 16., 17., 18., 19., 20.])"
      ]
     },
     "execution_count": 135,
     "metadata": {},
     "output_type": "execute_result"
    }
   ],
   "source": [
    "import torch\n",
    "\n",
    "x = torch.arange( 1., 21.)\n",
    "x"
   ]
  },
  {
   "cell_type": "code",
   "execution_count": 136,
   "metadata": {
    "colab": {
     "base_uri": "https://localhost:8080/"
    },
    "id": "BxPRmPbpaCkk",
    "outputId": "66746f47-3a90-4e4d-bc4b-9f4ed1fed668"
   },
   "outputs": [
    {
     "data": {
      "text/plain": [
       "tensor([[ 1.,  2.,  3.,  4.,  5.],\n",
       "        [ 6.,  7.,  8.,  9., 10.],\n",
       "        [11., 12., 13., 14., 15.],\n",
       "        [16., 17., 18., 19., 20.]])"
      ]
     },
     "execution_count": 136,
     "metadata": {},
     "output_type": "execute_result"
    }
   ],
   "source": [
    "# Adding extra dimension\n",
    "\n",
    "x_reshaped = x.reshape(4, 5)\n",
    "x_reshaped"
   ]
  },
  {
   "cell_type": "code",
   "execution_count": 137,
   "metadata": {
    "colab": {
     "base_uri": "https://localhost:8080/"
    },
    "id": "QREouJboaPZA",
    "outputId": "02675f9a-2ed7-417f-f789-789336f15381"
   },
   "outputs": [
    {
     "data": {
      "text/plain": [
       "tensor([[ 1.],\n",
       "        [ 2.],\n",
       "        [ 3.],\n",
       "        [ 4.],\n",
       "        [ 5.],\n",
       "        [ 6.],\n",
       "        [ 7.],\n",
       "        [ 8.],\n",
       "        [ 9.],\n",
       "        [10.],\n",
       "        [11.],\n",
       "        [12.],\n",
       "        [13.],\n",
       "        [14.],\n",
       "        [15.],\n",
       "        [16.],\n",
       "        [17.],\n",
       "        [18.],\n",
       "        [19.],\n",
       "        [20.]])"
      ]
     },
     "execution_count": 137,
     "metadata": {},
     "output_type": "execute_result"
    }
   ],
   "source": [
    "# Change the view\n",
    "\n",
    "x_view = x.view(20, 1)\n",
    "x_view"
   ]
  },
  {
   "cell_type": "markdown",
   "metadata": {
    "id": "l_tw4PZubvZx"
   },
   "source": [
    "changing `x.view()` changes x because (view of a tensor shares the same memory as the original input)"
   ]
  },
  {
   "cell_type": "code",
   "execution_count": 138,
   "metadata": {
    "colab": {
     "base_uri": "https://localhost:8080/"
    },
    "id": "Han6cOuxbthV",
    "outputId": "b568803b-bdc3-4450-ae66-0afe582423b8"
   },
   "outputs": [
    {
     "data": {
      "text/plain": [
       "tensor([[123.],\n",
       "        [  2.],\n",
       "        [  3.],\n",
       "        [  4.],\n",
       "        [  5.],\n",
       "        [  6.],\n",
       "        [  7.],\n",
       "        [  8.],\n",
       "        [  9.],\n",
       "        [ 10.],\n",
       "        [ 11.],\n",
       "        [ 12.],\n",
       "        [ 13.],\n",
       "        [ 14.],\n",
       "        [ 15.],\n",
       "        [ 16.],\n",
       "        [ 17.],\n",
       "        [ 18.],\n",
       "        [ 19.],\n",
       "        [ 20.]])"
      ]
     },
     "execution_count": 138,
     "metadata": {},
     "output_type": "execute_result"
    }
   ],
   "source": [
    "x_view[:, 0:][0] = 123\n",
    "x_view"
   ]
  },
  {
   "cell_type": "code",
   "execution_count": 139,
   "metadata": {
    "colab": {
     "base_uri": "https://localhost:8080/"
    },
    "id": "I8-mO2-Uczgi",
    "outputId": "5e7cc257-1d34-483f-8d4e-b65800990712"
   },
   "outputs": [
    {
     "data": {
      "text/plain": [
       "tensor([[123.,   2.,   3.,   4.,   5.,   6.,   7.,   8.,   9.,  10.,  11.,  12.,\n",
       "          13.,  14.,  15.,  16.,  17.,  18.,  19.,  20.],\n",
       "        [123.,   2.,   3.,   4.,   5.,   6.,   7.,   8.,   9.,  10.,  11.,  12.,\n",
       "          13.,  14.,  15.,  16.,  17.,  18.,  19.,  20.]])"
      ]
     },
     "execution_count": 139,
     "metadata": {},
     "output_type": "execute_result"
    }
   ],
   "source": [
    "# Stacking tensors on top of each other\n",
    "\n",
    "x_stacked = torch.stack([x, x], dim = 0)\n",
    "x_stacked"
   ]
  },
  {
   "cell_type": "code",
   "execution_count": 140,
   "metadata": {
    "colab": {
     "base_uri": "https://localhost:8080/"
    },
    "id": "C8E_iqfLwL0D",
    "outputId": "285af2f6-9408-4e6a-cda5-a304e10cd6ac"
   },
   "outputs": [
    {
     "data": {
      "text/plain": [
       "tensor([123.,   2.,   3.,   4.,   5.,   6.,   7.,   8.,   9.,  10.,  11.,  12.,\n",
       "         13.,  14.,  15.,  16.,  17.,  18.,  19.,  20.])"
      ]
     },
     "execution_count": 140,
     "metadata": {},
     "output_type": "execute_result"
    }
   ],
   "source": [
    "# Squeeze removes 1 dimension from tensor\n",
    "# Unsqueeze does opposite\n",
    "\n",
    "x_squeezed = x_view.squeeze()\n",
    "x_squeezed"
   ]
  },
  {
   "cell_type": "code",
   "execution_count": 141,
   "metadata": {
    "colab": {
     "base_uri": "https://localhost:8080/"
    },
    "id": "EgkvgRN0wkNc",
    "outputId": "1f84ad73-7091-4848-9e9d-857323e0c55b"
   },
   "outputs": [
    {
     "data": {
      "text/plain": [
       "tensor([[123.],\n",
       "        [  2.],\n",
       "        [  3.],\n",
       "        [  4.],\n",
       "        [  5.],\n",
       "        [  6.],\n",
       "        [  7.],\n",
       "        [  8.],\n",
       "        [  9.],\n",
       "        [ 10.],\n",
       "        [ 11.],\n",
       "        [ 12.],\n",
       "        [ 13.],\n",
       "        [ 14.],\n",
       "        [ 15.],\n",
       "        [ 16.],\n",
       "        [ 17.],\n",
       "        [ 18.],\n",
       "        [ 19.],\n",
       "        [ 20.]])"
      ]
     },
     "execution_count": 141,
     "metadata": {},
     "output_type": "execute_result"
    }
   ],
   "source": [
    "x_unsqueezed = torch.unsqueeze(x_squeezed, dim = 1)\n",
    "x_unsqueezed"
   ]
  },
  {
   "cell_type": "code",
   "execution_count": 142,
   "metadata": {
    "colab": {
     "base_uri": "https://localhost:8080/"
    },
    "id": "4O0uKLtg0DNe",
    "outputId": "f8a4b1b6-7095-41a4-acfe-bd0a3e2bb57e"
   },
   "outputs": [
    {
     "data": {
      "text/plain": [
       "torch.Size([224, 224, 3])"
      ]
     },
     "execution_count": 142,
     "metadata": {},
     "output_type": "execute_result"
    }
   ],
   "source": [
    "# Permute - rearranges the dimensions of a target dimension in a specified order\n",
    "\n",
    "x_original = torch.rand(size = (224, 224, 3))\n",
    "x_original.size()\n"
   ]
  },
  {
   "cell_type": "code",
   "execution_count": 143,
   "metadata": {
    "colab": {
     "base_uri": "https://localhost:8080/"
    },
    "id": "QYGhh8x207u8",
    "outputId": "26ae6a7b-abfc-4963-9bd6-0c5134338386"
   },
   "outputs": [
    {
     "data": {
      "text/plain": [
       "torch.Size([3, 224, 224])"
      ]
     },
     "execution_count": 143,
     "metadata": {},
     "output_type": "execute_result"
    }
   ],
   "source": [
    "# Lets switch the dimension of above image tensors(color channel at first)\n",
    "\n",
    "x_permuted = x_original.permute(2, 0, 1)\n",
    "x_permuted.size()"
   ]
  },
  {
   "cell_type": "code",
   "execution_count": 144,
   "metadata": {
    "id": "pX5GLD8U1gzo"
   },
   "outputs": [
    {
     "data": {
      "text/plain": [
       "tensor([[[3.7828e-01, 3.4360e-01, 9.7381e-02,  ..., 5.8872e-01,\n",
       "          8.5363e-01, 8.5264e-02],\n",
       "         [1.7739e-01, 2.6131e-01, 1.9997e-01,  ..., 9.9854e-02,\n",
       "          5.7894e-01, 8.3744e-01],\n",
       "         [3.7173e-01, 4.8278e-01, 7.6549e-01,  ..., 1.6582e-01,\n",
       "          8.9461e-01, 3.7256e-01],\n",
       "         ...,\n",
       "         [2.0061e-01, 7.9517e-01, 1.3275e-01,  ..., 1.2605e-01,\n",
       "          3.2957e-01, 7.1832e-01],\n",
       "         [6.3677e-01, 2.1118e-04, 8.6567e-01,  ..., 4.2293e-01,\n",
       "          3.4234e-01, 8.0179e-01],\n",
       "         [1.7212e-01, 8.7170e-01, 9.9916e-01,  ..., 3.3417e-02,\n",
       "          3.4141e-01, 4.1164e-01]],\n",
       "\n",
       "        [[7.5868e-01, 9.0743e-01, 8.0542e-01,  ..., 3.7141e-01,\n",
       "          8.8768e-01, 6.7670e-01],\n",
       "         [8.4311e-01, 8.2269e-01, 1.9314e-01,  ..., 5.4581e-01,\n",
       "          1.7295e-01, 1.7357e-01],\n",
       "         [8.4506e-01, 3.9117e-02, 3.0340e-01,  ..., 6.1376e-01,\n",
       "          2.8429e-01, 8.9664e-02],\n",
       "         ...,\n",
       "         [6.6957e-01, 3.1242e-01, 5.2565e-01,  ..., 5.1099e-01,\n",
       "          7.3708e-01, 7.1092e-01],\n",
       "         [4.4999e-01, 7.9904e-01, 7.3355e-01,  ..., 7.5523e-01,\n",
       "          8.1422e-02, 3.5302e-01],\n",
       "         [5.7851e-01, 6.4903e-01, 4.7776e-01,  ..., 9.5829e-01,\n",
       "          2.6755e-01, 4.0378e-01]],\n",
       "\n",
       "        [[1.1114e-01, 1.5564e-01, 4.9125e-01,  ..., 5.5843e-01,\n",
       "          4.7859e-01, 9.2201e-01],\n",
       "         [2.4707e-01, 5.4558e-01, 6.0002e-01,  ..., 6.9702e-01,\n",
       "          4.0425e-01, 8.1314e-01],\n",
       "         [5.9468e-01, 9.4892e-01, 2.4206e-01,  ..., 4.1365e-01,\n",
       "          1.6293e-01, 9.8926e-01],\n",
       "         ...,\n",
       "         [1.6838e-02, 9.2861e-01, 4.1969e-01,  ..., 5.5310e-01,\n",
       "          4.5658e-01, 9.1635e-01],\n",
       "         [7.8898e-01, 5.0299e-01, 3.4556e-01,  ..., 7.6906e-01,\n",
       "          8.8119e-01, 6.8290e-01],\n",
       "         [9.5350e-01, 3.5110e-01, 1.7889e-02,  ..., 3.6751e-01,\n",
       "          4.7203e-01, 1.6318e-01]]])"
      ]
     },
     "execution_count": 144,
     "metadata": {},
     "output_type": "execute_result"
    }
   ],
   "source": [
    "x_permuted"
   ]
  },
  {
   "cell_type": "code",
   "execution_count": 145,
   "metadata": {
    "id": "l-jK5_Fk2Ykz"
   },
   "outputs": [
    {
     "data": {
      "text/plain": [
       "tensor([[[1.0000e+00, 7.5868e-01, 1.1114e-01],\n",
       "         [3.4360e-01, 9.0743e-01, 1.5564e-01],\n",
       "         [9.7381e-02, 8.0542e-01, 4.9125e-01],\n",
       "         ...,\n",
       "         [5.8872e-01, 3.7141e-01, 5.5843e-01],\n",
       "         [8.5363e-01, 8.8768e-01, 4.7859e-01],\n",
       "         [8.5264e-02, 6.7670e-01, 9.2201e-01]],\n",
       "\n",
       "        [[1.7739e-01, 8.4311e-01, 2.4707e-01],\n",
       "         [2.6131e-01, 8.2269e-01, 5.4558e-01],\n",
       "         [1.9997e-01, 1.9314e-01, 6.0002e-01],\n",
       "         ...,\n",
       "         [9.9854e-02, 5.4581e-01, 6.9702e-01],\n",
       "         [5.7894e-01, 1.7295e-01, 4.0425e-01],\n",
       "         [8.3744e-01, 1.7357e-01, 8.1314e-01]],\n",
       "\n",
       "        [[3.7173e-01, 8.4506e-01, 5.9468e-01],\n",
       "         [4.8278e-01, 3.9117e-02, 9.4892e-01],\n",
       "         [7.6549e-01, 3.0340e-01, 2.4206e-01],\n",
       "         ...,\n",
       "         [1.6582e-01, 6.1376e-01, 4.1365e-01],\n",
       "         [8.9461e-01, 2.8429e-01, 1.6293e-01],\n",
       "         [3.7256e-01, 8.9664e-02, 9.8926e-01]],\n",
       "\n",
       "        ...,\n",
       "\n",
       "        [[2.0061e-01, 6.6957e-01, 1.6838e-02],\n",
       "         [7.9517e-01, 3.1242e-01, 9.2861e-01],\n",
       "         [1.3275e-01, 5.2565e-01, 4.1969e-01],\n",
       "         ...,\n",
       "         [1.2605e-01, 5.1099e-01, 5.5310e-01],\n",
       "         [3.2957e-01, 7.3708e-01, 4.5658e-01],\n",
       "         [7.1832e-01, 7.1092e-01, 9.1635e-01]],\n",
       "\n",
       "        [[6.3677e-01, 4.4999e-01, 7.8898e-01],\n",
       "         [2.1118e-04, 7.9904e-01, 5.0299e-01],\n",
       "         [8.6567e-01, 7.3355e-01, 3.4556e-01],\n",
       "         ...,\n",
       "         [4.2293e-01, 7.5523e-01, 7.6906e-01],\n",
       "         [3.4234e-01, 8.1422e-02, 8.8119e-01],\n",
       "         [8.0179e-01, 3.5302e-01, 6.8290e-01]],\n",
       "\n",
       "        [[1.7212e-01, 5.7851e-01, 9.5350e-01],\n",
       "         [8.7170e-01, 6.4903e-01, 3.5110e-01],\n",
       "         [9.9916e-01, 4.7776e-01, 1.7889e-02],\n",
       "         ...,\n",
       "         [3.3417e-02, 9.5829e-01, 3.6751e-01],\n",
       "         [3.4141e-01, 2.6755e-01, 4.7203e-01],\n",
       "         [4.1164e-01, 4.0378e-01, 1.6318e-01]]])"
      ]
     },
     "execution_count": 145,
     "metadata": {},
     "output_type": "execute_result"
    }
   ],
   "source": [
    "x_permuted[0, 0, 0] = 1\n",
    "x_original"
   ]
  },
  {
   "cell_type": "code",
   "execution_count": 146,
   "metadata": {
    "colab": {
     "base_uri": "https://localhost:8080/"
    },
    "id": "5Apdbldm2gC6",
    "outputId": "6f6fe1c3-f40f-4db1-e12b-4d83945a13a8"
   },
   "outputs": [
    {
     "data": {
      "text/plain": [
       "tensor([[[[0.4339, 0.9958],\n",
       "          [0.0043, 0.5647],\n",
       "          [0.5969, 0.9205]],\n",
       "\n",
       "         [[0.7638, 0.3454],\n",
       "          [0.7837, 0.2460],\n",
       "          [0.6713, 0.7268]]],\n",
       "\n",
       "\n",
       "        [[[0.9297, 0.2856],\n",
       "          [0.9050, 0.6583],\n",
       "          [0.6611, 0.3769]],\n",
       "\n",
       "         [[0.4459, 0.8423],\n",
       "          [0.2854, 0.2232],\n",
       "          [0.7262, 0.7220]]]])"
      ]
     },
     "execution_count": 146,
     "metadata": {},
     "output_type": "execute_result"
    }
   ],
   "source": [
    "# Indexing / Slicing\n",
    "\n",
    "mat = torch.rand(2, 2, 3, 2)\n",
    "mat"
   ]
  },
  {
   "cell_type": "code",
   "execution_count": 147,
   "metadata": {
    "colab": {
     "base_uri": "https://localhost:8080/"
    },
    "id": "a5mpWaHpDwdm",
    "outputId": "8bdd8516-0d4f-4b2f-b41f-dd31dbd0aebd"
   },
   "outputs": [
    {
     "data": {
      "text/plain": [
       "tensor([[[0.4339, 0.9958],\n",
       "         [0.0043, 0.5647],\n",
       "         [0.5969, 0.9205]],\n",
       "\n",
       "        [[0.7638, 0.3454],\n",
       "         [0.7837, 0.2460],\n",
       "         [0.6713, 0.7268]]])"
      ]
     },
     "execution_count": 147,
     "metadata": {},
     "output_type": "execute_result"
    }
   ],
   "source": [
    "mat[0, :, :]"
   ]
  },
  {
   "cell_type": "markdown",
   "metadata": {
    "id": "z37eij4FD4tU"
   },
   "source": [
    "### Reproducibility (trying to take random out of random)\n",
    "\n",
    "`neural network`start with random numbers -> tensor operations -> update random numbers to try and make them of the data -> again -> again -> again\n",
    "\n",
    "use `randomseed`"
   ]
  },
  {
   "cell_type": "markdown",
   "metadata": {},
   "source": [
    "### Putting tensors (and models) on the GPU\n"
   ]
  },
  {
   "cell_type": "code",
   "execution_count": 148,
   "metadata": {},
   "outputs": [
    {
     "data": {
      "text/plain": [
       "'cuda'"
      ]
     },
     "execution_count": 148,
     "metadata": {},
     "output_type": "execute_result"
    }
   ],
   "source": [
    "device = \"cuda\" if torch.cuda.is_available() else \"cpu\"\n",
    "device"
   ]
  },
  {
   "cell_type": "code",
   "execution_count": 149,
   "metadata": {},
   "outputs": [
    {
     "data": {
      "text/plain": [
       "(tensor([[1, 2, 3],\n",
       "         [4, 5, 6]]),\n",
       " device(type='cpu'))"
      ]
     },
     "execution_count": 149,
     "metadata": {},
     "output_type": "execute_result"
    }
   ],
   "source": [
    "tensor_on_cpu = torch.tensor([1, 2, 3], device = \"cpu\") # cpu is default\n",
    "device1 = tensor.device\n",
    "tensor, device1"
   ]
  },
  {
   "cell_type": "code",
   "execution_count": 150,
   "metadata": {},
   "outputs": [
    {
     "data": {
      "text/plain": [
       "(tensor([1, 2, 3], device='cuda:0'), device(type='cuda', index=0))"
      ]
     },
     "execution_count": 150,
     "metadata": {},
     "output_type": "execute_result"
    }
   ],
   "source": [
    "# moving tensor to GPU (if available)\n",
    "tensor_on_gpu = tensor_on_cpu.to(device)\n",
    "tensor_on_gpu, tensor_to_gpu.device"
   ]
  },
  {
   "cell_type": "code",
   "execution_count": 155,
   "metadata": {},
   "outputs": [
    {
     "name": "stdout",
     "output_type": "stream",
     "text": [
      "Fri Aug 25 13:48:44 2023       \n",
      "+---------------------------------------------------------------------------------------+\n",
      "| NVIDIA-SMI 537.13                 Driver Version: 537.13       CUDA Version: 12.2     |\n",
      "|-----------------------------------------+----------------------+----------------------+\n",
      "| GPU  Name                     TCC/WDDM  | Bus-Id        Disp.A | Volatile Uncorr. ECC |\n",
      "| Fan  Temp   Perf          Pwr:Usage/Cap |         Memory-Usage | GPU-Util  Compute M. |\n",
      "|                                         |                      |               MIG M. |\n",
      "|=========================================+======================+======================|\n",
      "|   0  NVIDIA GeForce RTX 3060 ...  WDDM  | 00000000:01:00.0 Off |                  N/A |\n",
      "| N/A   41C    P8               8W /  30W |    108MiB /  6144MiB |      0%      Default |\n",
      "|                                         |                      |                  N/A |\n",
      "+-----------------------------------------+----------------------+----------------------+\n",
      "                                                                                         \n",
      "+---------------------------------------------------------------------------------------+\n",
      "| Processes:                                                                            |\n",
      "|  GPU   GI   CI        PID   Type   Process name                            GPU Memory |\n",
      "|        ID   ID                                                             Usage      |\n",
      "|=======================================================================================|\n",
      "|    0   N/A  N/A      5076      C   C:\\Users\\User\\anaconda3\\python.exe        N/A      |\n",
      "+---------------------------------------------------------------------------------------+\n"
     ]
    }
   ],
   "source": [
    "!nvidia-smi"
   ]
  },
  {
   "cell_type": "markdown",
   "metadata": {},
   "source": [
    "### Numpy doesnot work on GPU"
   ]
  },
  {
   "cell_type": "code",
   "execution_count": 152,
   "metadata": {},
   "outputs": [
    {
     "ename": "TypeError",
     "evalue": "can't convert cuda:0 device type tensor to numpy. Use Tensor.cpu() to copy the tensor to host memory first.",
     "output_type": "error",
     "traceback": [
      "\u001b[1;31m---------------------------------------------------------------------------\u001b[0m",
      "\u001b[1;31mTypeError\u001b[0m                                 Traceback (most recent call last)",
      "Cell \u001b[1;32mIn[152], line 1\u001b[0m\n\u001b[1;32m----> 1\u001b[0m tensor_on_gpu\u001b[38;5;241m.\u001b[39mnumpy()\n",
      "\u001b[1;31mTypeError\u001b[0m: can't convert cuda:0 device type tensor to numpy. Use Tensor.cpu() to copy the tensor to host memory first."
     ]
    }
   ],
   "source": [
    "# tensor_on_gpu is currently working on GPU, which is not supported by Numpy\n",
    "\n",
    "tensor_on_gpu.numpy()"
   ]
  },
  {
   "cell_type": "code",
   "execution_count": 154,
   "metadata": {},
   "outputs": [
    {
     "data": {
      "text/plain": [
       "array([1, 2, 3], dtype=int64)"
      ]
     },
     "execution_count": 154,
     "metadata": {},
     "output_type": "execute_result"
    }
   ],
   "source": [
    "# Moving tensor back to cpu\n",
    "tensor_on_gpu.to('cpu').numpy()\n"
   ]
  },
  {
   "cell_type": "code",
   "execution_count": null,
   "metadata": {},
   "outputs": [],
   "source": []
  }
 ],
 "metadata": {
  "colab": {
   "provenance": []
  },
  "kernelspec": {
   "display_name": "Python 3 (ipykernel)",
   "language": "python",
   "name": "python3"
  },
  "language_info": {
   "codemirror_mode": {
    "name": "ipython",
    "version": 3
   },
   "file_extension": ".py",
   "mimetype": "text/x-python",
   "name": "python",
   "nbconvert_exporter": "python",
   "pygments_lexer": "ipython3",
   "version": "3.11.4"
  }
 },
 "nbformat": 4,
 "nbformat_minor": 1
}

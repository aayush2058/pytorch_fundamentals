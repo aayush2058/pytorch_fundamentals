{
 "cells": [
  {
   "cell_type": "markdown",
   "id": "1f6e3103",
   "metadata": {},
   "source": [
    "### Computer vision libraries in PyTorch\n",
    "\n",
    "* [torchvision](https://pytorch.org/vision/stable/index.html) - base domain library for PyTorch compyter vision\n",
    "* `torchvision.datasets` - get datasets and dataloading functins for computer vision\n",
    "* `torchvision.models` - get pretrained computer vision models\n",
    "* `torchvision.transforms` - function for manipulating vision data (images)\n",
    "* `torch.utils.data.Dataset` - Base dataset class for PyTorch\n",
    "* `torch.utils.data.DataLoader` - Creates a Python iterable over a dataset"
   ]
  },
  {
   "cell_type": "code",
   "execution_count": 1,
   "id": "bb7bc3fa",
   "metadata": {},
   "outputs": [
    {
     "name": "stdout",
     "output_type": "stream",
     "text": [
      "2.0.1\n",
      "0.15.2+cu118\n"
     ]
    }
   ],
   "source": [
    "import torch\n",
    "from torch import nn\n",
    "\n",
    "import torchvision\n",
    "from torchvision import datasets\n",
    "from torchvision import transforms\n",
    "from torchvision.transforms import ToTensor\n",
    "\n",
    "import matplotlib.pyplot as plt\n",
    "\n",
    "print(torch.__version__)\n",
    "print(torchvision.__version__)"
   ]
  },
  {
   "cell_type": "markdown",
   "id": "90655a00",
   "metadata": {},
   "source": [
    "### Getting a dataset \n",
    "\n",
    "The dataset we'll be using is FashionMNIST from torchvision.datasets -\n",
    "https://pytorch.org/vision/stable/generated/torchvision.datasets.FashionMNIST.html#torchvision.datasets.FashionMNIST"
   ]
  },
  {
   "cell_type": "code",
   "execution_count": 2,
   "id": "57fa97d5",
   "metadata": {},
   "outputs": [],
   "source": [
    "# Setup training data\n",
    "\n",
    "from torchvision import datasets\n",
    "train_data = datasets.FashionMNIST(root = \"data\", # where to download data to?\n",
    "                                  train = True, # do we want the training dataset?\n",
    "                                  download = True, # do we want to download?\n",
    "                                  transform = torchvision.transforms.ToTensor(), # how do we want to transform the data?\n",
    "                                  target_transform = None # how do we want to transform the labels/targets?\n",
    "                                  )\n",
    "\n",
    "test_data = datasets.FashionMNIST(root = \"data\",\n",
    "                                  train = False,\n",
    "                                  download = True,\n",
    "                                  transform = ToTensor(),\n",
    "                                  target_transform = None\n",
    "                                 )"
   ]
  },
  {
   "cell_type": "code",
   "execution_count": 3,
   "id": "f0f2045d",
   "metadata": {},
   "outputs": [
    {
     "data": {
      "text/plain": [
       "(60000, 10000)"
      ]
     },
     "execution_count": 3,
     "metadata": {},
     "output_type": "execute_result"
    }
   ],
   "source": [
    "len(train_data), len(test_data)"
   ]
  },
  {
   "cell_type": "code",
   "execution_count": 4,
   "id": "0bfa904e",
   "metadata": {},
   "outputs": [],
   "source": [
    "images = []\n",
    "labels = []\n",
    "for image,label in train_data:\n",
    "    images.append(image)\n",
    "    labels.append(label)"
   ]
  },
  {
   "cell_type": "code",
   "execution_count": 5,
   "id": "9dcf144e",
   "metadata": {},
   "outputs": [
    {
     "data": {
      "text/plain": [
       "tensor([9, 0, 0,  ..., 3, 0, 5])"
      ]
     },
     "execution_count": 5,
     "metadata": {},
     "output_type": "execute_result"
    }
   ],
   "source": [
    "train_data.targets"
   ]
  },
  {
   "cell_type": "code",
   "execution_count": 6,
   "id": "bbb03bed",
   "metadata": {},
   "outputs": [
    {
     "data": {
      "text/plain": [
       "['T-shirt/top',\n",
       " 'Trouser',\n",
       " 'Pullover',\n",
       " 'Dress',\n",
       " 'Coat',\n",
       " 'Sandal',\n",
       " 'Shirt',\n",
       " 'Sneaker',\n",
       " 'Bag',\n",
       " 'Ankle boot']"
      ]
     },
     "execution_count": 6,
     "metadata": {},
     "output_type": "execute_result"
    }
   ],
   "source": [
    "class_name = train_data.classes\n",
    "class_name"
   ]
  },
  {
   "cell_type": "markdown",
   "id": "374b9b37",
   "metadata": {},
   "source": [
    "### Visualizing image"
   ]
  },
  {
   "cell_type": "code",
   "execution_count": 7,
   "id": "24916844",
   "metadata": {},
   "outputs": [
    {
     "data": {
      "text/plain": [
       "Text(0.5, 1.0, '5')"
      ]
     },
     "execution_count": 7,
     "metadata": {},
     "output_type": "execute_result"
    },
    {
     "data": {
      "image/png": "[encoded data removed]",
      "text/plain": [
       "<Figure size 640x480 with 1 Axes>"
      ]
     },
     "metadata": {},
     "output_type": "display_data"
    }
   ],
   "source": [
    "plt.imshow(images[0].squeeze())\n",
    "plt.title(label)"
   ]
  },
  {
   "cell_type": "code",
   "execution_count": 8,
   "id": "c84a39fe",
   "metadata": {},
   "outputs": [
    {
     "data": {
      "image/png": "[encoded data removed]",
      "text/plain": [
       "<Figure size 640x480 with 1 Axes>"
      ]
     },
     "metadata": {},
     "output_type": "display_data"
    }
   ],
   "source": [
    "plt.imshow(images[0].squeeze(), cmap = \"gray\")\n",
    "plt.title(class_name[labels[0]])\n",
    "plt.axis(False);"
   ]
  },
  {
   "cell_type": "code",
   "execution_count": 9,
   "id": "bbd4a80f",
   "metadata": {},
   "outputs": [
    {
     "data": {
      "image/png": "[encoded data removed]",
      "text/plain": [
       "<Figure size 900x900 with 16 Axes>"
      ]
     },
     "metadata": {},
     "output_type": "display_data"
    }
   ],
   "source": [
    "## Plot more images\n",
    "\n",
    "# torch.manual_seed(42)\n",
    "\n",
    "fig = plt.figure(figsize = (9, 9))\n",
    "rows, cols = 4, 4\n",
    "for i in range(1, rows*cols + 1):\n",
    "    random_index = torch.randint(0, len(train_data), size = [1]).item()\n",
    "    img, label = train_data[random_index]\n",
    "    fig.add_subplot(rows, cols, i)\n",
    "    plt.imshow(img.squeeze(), cmap = \"gray\")\n",
    "    plt.title(class_name[label])\n",
    "    plt.axis(False);"
   ]
  },
  {
   "cell_type": "markdown",
   "id": "e77bacef",
   "metadata": {},
   "source": [
    "## Preparing DataLoader\n",
    "\n",
    "Right now, we have our data in the form of PyTorch Datasets\n",
    "**DataLoader** turns our dataset into a Python iterable\n",
    "\n",
    "we want to divide our data into batches when training for efficient computing(in low memory) and avoid 60000 images in one hit.\n",
    "**Batches** means the amount of image (32 images = 32 batch size)\n",
    "\n",
    "It gives neural network more chances to update its gradients per epoch."
   ]
  },
  {
   "cell_type": "code",
   "execution_count": 10,
   "id": "f0a4e640",
   "metadata": {},
   "outputs": [
    {
     "data": {
      "text/plain": [
       "(<torch.utils.data.dataloader.DataLoader at 0x22abe2a2bd0>,\n",
       " <torch.utils.data.dataloader.DataLoader at 0x22ac03615d0>)"
      ]
     },
     "execution_count": 10,
     "metadata": {},
     "output_type": "execute_result"
    }
   ],
   "source": [
    "from torch.utils.data import DataLoader\n",
    "\n",
    "# Setup the batch size hyperparameter\n",
    "BATCH_SIZE = 32\n",
    "\n",
    "# Turn datasets into iterables (batches)\n",
    "train_dataloader = DataLoader(dataset = train_data,\n",
    "                             batch_size = BATCH_SIZE,\n",
    "                             shuffle = True)\n",
    "\n",
    "test_dataloader = DataLoader(dataset = test_data,\n",
    "                            batch_size = BATCH_SIZE,\n",
    "                            shuffle = False)\n",
    "\n",
    "train_dataloader, test_dataloader"
   ]
  },
  {
   "cell_type": "code",
   "execution_count": 11,
   "id": "6209f917",
   "metadata": {},
   "outputs": [
    {
     "name": "stdout",
     "output_type": "stream",
     "text": [
      "DataLoaders ; (<torch.utils.data.dataloader.DataLoader object at 0x0000022ABE2A2BD0>, <torch.utils.data.dataloader.DataLoader object at 0x0000022AC03615D0>)\n",
      "Length of train dataloader : 1875 Batches of 32\n",
      "Length of test dataloader : 313 Batches of 32\n"
     ]
    }
   ],
   "source": [
    "print(f\"DataLoaders ; {train_dataloader, test_dataloader}\")\n",
    "print(f\"Length of train dataloader : {len(train_dataloader)} Batches of {BATCH_SIZE}\")\n",
    "print(f\"Length of test dataloader : {len(test_dataloader)} Batches of {BATCH_SIZE}\")"
   ]
  },
  {
   "cell_type": "code",
   "execution_count": 12,
   "id": "d56aa7a7",
   "metadata": {},
   "outputs": [
    {
     "data": {
      "text/plain": [
       "(torch.Size([32, 1, 28, 28]), torch.Size([32]))"
      ]
     },
     "execution_count": 12,
     "metadata": {},
     "output_type": "execute_result"
    }
   ],
   "source": [
    "# Checking out what's insider the training dataloader\n",
    "train_features_batch, train_labels_batch =  next(iter(train_dataloader))\n",
    "train_features_batch.shape, train_labels_batch.shape"
   ]
  },
  {
   "cell_type": "code",
   "execution_count": 13,
   "id": "b87425c8",
   "metadata": {},
   "outputs": [
    {
     "name": "stdout",
     "output_type": "stream",
     "text": [
      "Image size : torch.Size([1, 28, 28])\n",
      "Label : 7, label size : torch.Size([])\n"
     ]
    },
    {
     "data": {
      "image/png": "[encoded data removed]",
      "text/plain": [
       "<Figure size 640x480 with 1 Axes>"
      ]
     },
     "metadata": {},
     "output_type": "display_data"
    }
   ],
   "source": [
    "# torch.manual_seed(42)\n",
    "random_index = torch.randint(0, len(train_features_batch), size = [1]).item()\n",
    "img, label = train_features_batch[random_index], train_labels_batch[random_index]\n",
    "plt.imshow(img.squeeze(), cmap = \"gray\")\n",
    "plt.title(class_name[label])\n",
    "plt.axis(False)\n",
    "print(f\"Image size : {img.shape}\")\n",
    "print(f\"Label : {label}, label size : {label.shape}\")\n"
   ]
  },
  {
   "cell_type": "markdown",
   "id": "39908af4",
   "metadata": {},
   "source": [
    "## Modeling\n",
    "\n",
    "Best is if we start with a baseline model and add complexity as required.\n",
    "\n",
    "If something can be done in a simple way, it should be done in simple way"
   ]
  },
  {
   "cell_type": "code",
   "execution_count": 14,
   "id": "b689f85a",
   "metadata": {},
   "outputs": [
    {
     "data": {
      "text/plain": [
       "'cpu'"
      ]
     },
     "execution_count": 14,
     "metadata": {},
     "output_type": "execute_result"
    }
   ],
   "source": [
    "device = 'cuda' if torch.cuda.is_available() else 'cpu'\n",
    "device"
   ]
  },
  {
   "cell_type": "code",
   "execution_count": 15,
   "id": "c4ca196e",
   "metadata": {},
   "outputs": [
    {
     "data": {
      "text/plain": [
       "torch.Size([1, 28, 28])"
      ]
     },
     "execution_count": 15,
     "metadata": {},
     "output_type": "execute_result"
    }
   ],
   "source": [
    "# Creating a flatten layer\n",
    "flatten_model = nn.Flatten()\n",
    "\n",
    "# Getting a simple sample\n",
    "x = train_features_batch[0]\n",
    "x.shape"
   ]
  },
  {
   "cell_type": "code",
   "execution_count": 16,
   "id": "7bd34ff5",
   "metadata": {},
   "outputs": [
    {
     "data": {
      "text/plain": [
       "torch.Size([1, 784])"
      ]
     },
     "execution_count": 16,
     "metadata": {},
     "output_type": "execute_result"
    }
   ],
   "source": [
    "#Example\n",
    "\n",
    "# Flatten the sample\n",
    "output = flatten_model(x)\n",
    "\n",
    "output.shape\n",
    "\n",
    "# As seen, nn.Flatten() takes the data with multidimension and combines it all into a vector space(flat data).\n",
    "# Example - Tesla's 8 cameras record all of the data around the surrounding and flattens it into 3d vector space that allows 360 view in the screen"
   ]
  },
  {
   "cell_type": "code",
   "execution_count": 17,
   "id": "9014ed95",
   "metadata": {
    "scrolled": true
   },
   "outputs": [
    {
     "data": {
      "text/plain": [
       "tensor([0.0000, 0.0000, 0.0000, 0.0000, 0.0000, 0.0000, 0.0000, 0.0078, 0.0000,\n",
       "        0.0000, 0.4471, 0.6431, 0.3216, 0.0000, 0.0000, 0.0000, 0.5804, 0.4863,\n",
       "        0.1373, 0.0000, 0.0000, 0.0039, 0.0000, 0.0000, 0.0000, 0.0000, 0.0000,\n",
       "        0.0000, 0.0000, 0.0000, 0.0000, 0.0000, 0.0000, 0.0000, 0.0000, 0.0235,\n",
       "        0.0000, 0.2863, 0.9882, 0.9490, 0.9961, 0.0000, 0.0000, 0.4157, 0.9216,\n",
       "        0.8471, 0.8000, 0.0157, 0.0000, 0.0078, 0.0000, 0.0000, 0.0000, 0.0000,\n",
       "        0.0000, 0.0000, 0.0000, 0.0000, 0.0000, 0.0000, 0.0000, 0.0000, 0.0000,\n",
       "        0.0235, 0.0000, 0.1922, 0.9373, 0.8392, 0.9490, 0.5176, 0.0000, 1.0000,\n",
       "        0.8510, 0.8353, 0.7843, 0.0000, 0.0000, 0.0118, 0.0000, 0.0000, 0.0000,\n",
       "        0.0000, 0.0000, 0.0000, 0.0000, 0.0000, 0.0000, 0.0000, 0.0000, 0.0000,\n",
       "        0.0000, 0.0235, 0.0000, 0.2196, 0.9569, 0.8706, 0.8863, 0.9098, 0.8000,\n",
       "        0.9804, 0.8549, 0.8431, 0.7882, 0.0118, 0.0000, 0.0118, 0.0000, 0.0000,\n",
       "        0.0000, 0.0000, 0.0000, 0.0000, 0.0000, 0.0000, 0.0000, 0.0000, 0.0000,\n",
       "        0.0000, 0.0000, 0.0314, 0.0000, 0.3490, 0.9647, 0.8784, 0.8745, 0.8745,\n",
       "        0.8980, 0.8863, 0.8667, 0.8157, 0.7922, 0.0118, 0.0000, 0.0157, 0.0000,\n",
       "        0.0000, 0.0000, 0.0000, 0.0000, 0.0000, 0.0000, 0.0000, 0.0000, 0.0000,\n",
       "        0.0000, 0.0000, 0.0000, 0.0353, 0.0000, 0.4588, 0.9725, 0.8706, 0.8902,\n",
       "        0.8745, 0.8510, 0.8980, 0.8667, 0.8353, 0.8078, 0.0980, 0.0000, 0.0157,\n",
       "        0.0000, 0.0000, 0.0000, 0.0000, 0.0000, 0.0000, 0.0000, 0.0000, 0.0000,\n",
       "        0.0000, 0.0000, 0.0000, 0.0000, 0.0314, 0.0000, 0.4196, 0.9647, 0.8824,\n",
       "        0.8863, 0.8980, 0.8667, 0.8745, 0.8706, 0.8510, 0.8196, 0.0392, 0.0000,\n",
       "        0.0118, 0.0000, 0.0000, 0.0000, 0.0000, 0.0000, 0.0000, 0.0000, 0.0000,\n",
       "        0.0000, 0.0000, 0.0000, 0.0000, 0.0000, 0.0196, 0.0000, 0.1569, 0.9451,\n",
       "        0.9059, 0.8902, 0.8824, 0.8784, 0.8588, 0.8549, 0.8784, 0.9020, 0.0000,\n",
       "        0.0000, 0.0039, 0.0000, 0.0000, 0.0000, 0.0000, 0.0000, 0.0000, 0.0000,\n",
       "        0.0000, 0.0000, 0.0000, 0.0000, 0.0000, 0.0000, 0.0118, 0.0000, 0.0000,\n",
       "        0.8745, 0.9176, 0.8824, 0.8706, 0.8784, 0.8745, 0.8392, 0.8941, 0.6157,\n",
       "        0.0000, 0.0196, 0.0000, 0.0000, 0.0000, 0.0000, 0.0000, 0.0000, 0.0000,\n",
       "        0.0000, 0.0000, 0.0000, 0.0000, 0.0000, 0.0000, 0.0000, 0.0039, 0.0000,\n",
       "        0.0000, 0.9255, 0.9412, 0.8784, 0.8824, 0.8667, 0.8745, 0.8392, 0.8863,\n",
       "        0.4275, 0.0000, 0.0275, 0.0000, 0.0000, 0.0000, 0.0000, 0.0000, 0.0000,\n",
       "        0.0000, 0.0000, 0.0000, 0.0000, 0.0000, 0.0000, 0.0000, 0.0000, 0.0000,\n",
       "        0.0000, 0.0000, 0.8784, 0.9490, 0.8824, 0.8745, 0.8627, 0.8706, 0.8392,\n",
       "        0.8863, 0.4588, 0.0000, 0.0235, 0.0000, 0.0000, 0.0000, 0.0000, 0.0000,\n",
       "        0.0000, 0.0000, 0.0000, 0.0000, 0.0000, 0.0000, 0.0000, 0.0000, 0.0000,\n",
       "        0.0000, 0.0000, 0.0000, 0.7804, 0.9529, 0.8902, 0.8667, 0.8588, 0.8667,\n",
       "        0.8157, 0.8902, 0.5608, 0.0000, 0.0000, 0.0000, 0.0000, 0.0000, 0.0000,\n",
       "        0.0000, 0.0000, 0.0000, 0.0000, 0.0000, 0.0000, 0.0000, 0.0000, 0.0000,\n",
       "        0.0000, 0.0157, 0.0000, 0.0431, 0.9176, 0.9059, 0.9255, 0.8549, 0.8471,\n",
       "        0.8745, 0.8431, 0.8588, 0.9608, 0.0000, 0.0000, 0.0078, 0.0000, 0.0000,\n",
       "        0.0000, 0.0000, 0.0000, 0.0000, 0.0000, 0.0000, 0.0000, 0.0000, 0.0000,\n",
       "        0.0000, 0.0000, 0.0039, 0.0000, 0.5176, 0.9843, 0.8863, 0.9373, 0.8549,\n",
       "        0.8431, 0.8824, 0.8549, 0.8510, 0.8980, 0.2431, 0.0000, 0.0235, 0.0000,\n",
       "        0.0000, 0.0000, 0.0000, 0.0000, 0.0000, 0.0000, 0.0000, 0.0000, 0.0000,\n",
       "        0.0000, 0.0000, 0.0000, 0.0000, 0.0000, 0.9294, 0.9412, 0.8980, 0.9294,\n",
       "        0.8549, 0.8510, 0.8863, 0.8706, 0.8549, 0.9020, 0.5922, 0.0000, 0.0000,\n",
       "        0.0000, 0.0000, 0.0000, 0.0000, 0.0000, 0.0000, 0.0000, 0.0000, 0.0000,\n",
       "        0.0000, 0.0000, 0.0000, 0.0000, 0.0000, 0.0588, 0.9373, 0.9137, 0.9098,\n",
       "        0.9294, 0.8510, 0.8471, 0.8863, 0.8824, 0.8784, 0.8745, 0.8941, 0.0000,\n",
       "        0.0000, 0.0000, 0.0000, 0.0000, 0.0000, 0.0000, 0.0000, 0.0000, 0.0000,\n",
       "        0.0000, 0.0000, 0.0000, 0.0000, 0.0000, 0.0000, 0.3059, 0.9843, 0.8941,\n",
       "        0.9176, 0.9255, 0.8392, 0.8431, 0.8980, 0.8824, 0.8902, 0.8392, 0.8745,\n",
       "        0.0118, 0.0000, 0.0000, 0.0000, 0.0000, 0.0000, 0.0000, 0.0000, 0.0000,\n",
       "        0.0000, 0.0000, 0.0000, 0.0000, 0.0000, 0.0000, 0.0000, 0.5490, 0.9843,\n",
       "        0.8863, 0.9176, 0.9176, 0.8392, 0.8549, 0.9137, 0.8902, 0.8980, 0.8275,\n",
       "        0.9373, 0.2863, 0.0000, 0.0000, 0.0000, 0.0000, 0.0000, 0.0000, 0.0000,\n",
       "        0.0000, 0.0000, 0.0000, 0.0000, 0.0000, 0.0000, 0.0000, 0.0000, 0.6941,\n",
       "        0.9686, 0.8941, 0.9216, 0.9137, 0.8353, 0.8510, 0.9255, 0.8863, 0.9137,\n",
       "        0.8275, 0.9294, 0.5529, 0.0000, 0.0000, 0.0000, 0.0000, 0.0000, 0.0000,\n",
       "        0.0000, 0.0000, 0.0000, 0.0000, 0.0000, 0.0000, 0.0000, 0.0000, 0.0000,\n",
       "        0.8863, 0.9529, 0.8941, 0.9294, 0.9176, 0.8353, 0.8510, 0.9294, 0.8824,\n",
       "        0.9137, 0.8314, 0.9098, 0.7412, 0.0000, 0.0000, 0.0000, 0.0000, 0.0000,\n",
       "        0.0000, 0.0000, 0.0000, 0.0000, 0.0000, 0.0000, 0.0000, 0.0000, 0.0000,\n",
       "        0.0000, 1.0000, 0.9294, 0.8784, 0.9255, 0.9176, 0.8353, 0.8667, 0.9333,\n",
       "        0.8784, 0.9216, 0.8118, 0.8941, 0.8627, 0.0000, 0.0000, 0.0000, 0.0000,\n",
       "        0.0000, 0.0000, 0.0000, 0.0000, 0.0000, 0.0000, 0.0000, 0.0000, 0.0000,\n",
       "        0.0000, 0.0000, 1.0000, 0.9176, 0.8902, 0.9294, 0.9137, 0.8314, 0.8706,\n",
       "        0.9373, 0.8745, 0.9255, 0.8196, 0.8784, 0.9765, 0.0000, 0.0000, 0.0000,\n",
       "        0.0000, 0.0000, 0.0000, 0.0000, 0.0000, 0.0000, 0.0000, 0.0000, 0.0000,\n",
       "        0.0000, 0.0000, 0.1216, 1.0000, 0.9137, 0.8941, 0.9333, 0.9059, 0.8275,\n",
       "        0.8706, 0.9373, 0.8706, 0.9255, 0.8314, 0.8667, 1.0000, 0.0000, 0.0000,\n",
       "        0.0000, 0.0000, 0.0000, 0.0000, 0.0000, 0.0000, 0.0000, 0.0000, 0.0000,\n",
       "        0.0000, 0.0000, 0.0000, 0.2667, 0.9451, 0.9020, 0.8941, 0.9373, 0.9098,\n",
       "        0.8314, 0.8824, 0.9412, 0.8745, 0.9294, 0.8392, 0.8588, 1.0000, 0.1686,\n",
       "        0.0000, 0.0000, 0.0000, 0.0000, 0.0000, 0.0000, 0.0000, 0.0000, 0.0000,\n",
       "        0.0000, 0.0000, 0.0000, 0.0000, 0.3882, 0.9451, 0.9020, 0.8941, 0.9137,\n",
       "        0.8980, 0.8196, 0.8784, 0.9412, 0.8667, 0.9098, 0.8510, 0.8549, 0.9216,\n",
       "        0.3451, 0.0000, 0.0000, 0.0000, 0.0000, 0.0000, 0.0000, 0.0000, 0.0000,\n",
       "        0.0000, 0.0000, 0.0000, 0.0000, 0.0000, 0.6627, 0.9843, 0.9333, 0.9020,\n",
       "        0.9529, 0.9137, 0.8706, 0.9098, 0.9216, 0.8745, 0.9490, 0.8863, 0.8667,\n",
       "        0.9451, 0.5765, 0.0000, 0.0000, 0.0000, 0.0000, 0.0000, 0.0000, 0.0000,\n",
       "        0.0000, 0.0000, 0.0000, 0.0000, 0.0000, 0.0000, 0.1725, 0.7569, 0.7882,\n",
       "        0.8667, 0.8706, 0.8863, 0.7490, 0.6078, 1.0000, 0.9765, 0.6275, 0.7451,\n",
       "        0.8941, 0.9569, 0.4980, 0.0000, 0.0000, 0.0000, 0.0000, 0.0000, 0.0000,\n",
       "        0.0000, 0.0000, 0.0000, 0.0000, 0.0000, 0.0000, 0.0000, 0.0000, 0.0000,\n",
       "        0.0000, 0.1255, 0.0000, 0.0000, 0.0000, 0.0000, 0.3686, 0.4627, 0.2706,\n",
       "        0.2824, 0.1176, 0.0000, 0.0000, 0.0000, 0.0000, 0.0000, 0.0000, 0.0000,\n",
       "        0.0000])"
      ]
     },
     "execution_count": 17,
     "metadata": {},
     "output_type": "execute_result"
    }
   ],
   "source": [
    "output.squeeze()"
   ]
  },
  {
   "cell_type": "markdown",
   "id": "2a48c3c9",
   "metadata": {},
   "source": [
    "## Only linear layers with nn.flatten()"
   ]
  },
  {
   "cell_type": "code",
   "execution_count": 18,
   "id": "b35ec6c9",
   "metadata": {},
   "outputs": [],
   "source": [
    "from torch import nn\n",
    "\n",
    "class FashionMNISTModelv1(nn.Module):\n",
    "    def __init__(self,\n",
    "                input_shape : int,\n",
    "                hidden_units : int,\n",
    "                output_shape : int):\n",
    "        super().__init__()\n",
    "        \n",
    "        self.layer_stack = nn.Sequential(\n",
    "            nn.Flatten(),\n",
    "            nn.Linear(in_features = input_shape,\n",
    "                     out_features = hidden_units),\n",
    "            nn.Linear(in_features = hidden_units,\n",
    "                     out_features = output_shape)\n",
    "        )\n",
    "        \n",
    "    def forward(self, x):\n",
    "        return self.layer_stack(x)"
   ]
  },
  {
   "cell_type": "code",
   "execution_count": 19,
   "id": "4c1d764d",
   "metadata": {},
   "outputs": [
    {
     "data": {
      "text/plain": [
       "FashionMNISTModelv1(\n",
       "  (layer_stack): Sequential(\n",
       "    (0): Flatten(start_dim=1, end_dim=-1)\n",
       "    (1): Linear(in_features=784, out_features=10, bias=True)\n",
       "    (2): Linear(in_features=10, out_features=10, bias=True)\n",
       "  )\n",
       ")"
      ]
     },
     "execution_count": 19,
     "metadata": {},
     "output_type": "execute_result"
    }
   ],
   "source": [
    "torch.manual_seed(42)\n",
    "\n",
    "model0 = FashionMNISTModelv1(\n",
    "    input_shape = 784, # input shape is [1, 28, 28]. Flatten is used so the input shape becomes 784. 28*28*1 can be used as well\n",
    "    hidden_units = 10,\n",
    "    output_shape = len(class_name)\n",
    ")\n",
    "\n",
    "model0.to(device)"
   ]
  },
  {
   "cell_type": "code",
   "execution_count": 20,
   "id": "2eff89b1",
   "metadata": {},
   "outputs": [
    {
     "data": {
      "text/plain": [
       "tensor([[-0.0315,  0.3171,  0.0531, -0.2525,  0.5959,  0.2112,  0.3233,  0.2694,\n",
       "         -0.1004,  0.0157]], grad_fn=<AddmmBackward0>)"
      ]
     },
     "execution_count": 20,
     "metadata": {},
     "output_type": "execute_result"
    }
   ],
   "source": [
    "dummy_x = torch.rand([1, 28, 28])\n",
    "model0(dummy_x.to(device))"
   ]
  },
  {
   "cell_type": "markdown",
   "id": "44746299",
   "metadata": {},
   "source": [
    "### Setting Loss, Optimizer and evaluation metrics"
   ]
  },
  {
   "cell_type": "code",
   "execution_count": 21,
   "id": "9854d7ca",
   "metadata": {},
   "outputs": [
    {
     "name": "stdout",
     "output_type": "stream",
     "text": [
      "helper_functions.py already exists, skipping download...\n"
     ]
    }
   ],
   "source": [
    "import requests\n",
    "from pathlib import Path\n",
    "\n",
    "# Download helper functions from Learn PyTorch repo\n",
    "if Path(\"helper_functions.py\").is_file():\n",
    "    print(\"helper_functions.py already exists, skipping download...\")\n",
    "else:\n",
    "    print(\"Downloading helper_functions.py\")\n",
    "    request = request.get(\"https://raw.githubusercontent.com/aayush2058/python_files/master/helper_functions.py\")\n",
    "    with open(\"helper_functions.py\", 'wb') as file:\n",
    "        f.write(request.content)\n",
    "        "
   ]
  },
  {
   "cell_type": "code",
   "execution_count": 22,
   "id": "3e146a30",
   "metadata": {},
   "outputs": [],
   "source": [
    "from helper_functions import accuracy_fn"
   ]
  },
  {
   "cell_type": "code",
   "execution_count": 23,
   "id": "55523ba3",
   "metadata": {},
   "outputs": [],
   "source": [
    "loss_fn = nn.CrossEntropyLoss()\n",
    "\n",
    "optimizer = torch.optim.SGD(params = model0.parameters(),\n",
    "                           lr = 0.01)"
   ]
  },
  {
   "cell_type": "code",
   "execution_count": 24,
   "id": "aa961861",
   "metadata": {},
   "outputs": [],
   "source": [
    "from timeit import default_timer as timer \n",
    "def print_train_time(start : float,\n",
    "                     end : float,\n",
    "                     device : torch.device = None):\n",
    "    \"\"\"\n",
    "    Prints difference between start and end time\n",
    "    \"\"\"\n",
    "    total_time = end - start\n",
    "    print(f\"Train time on {device} : {total_time : .3f} seconds\")\n",
    "    return total_time\n",
    "    "
   ]
  },
  {
   "cell_type": "code",
   "execution_count": 25,
   "id": "9e66e2e5",
   "metadata": {},
   "outputs": [
    {
     "name": "stdout",
     "output_type": "stream",
     "text": [
      "Train time on cpu :  0.000 seconds\n"
     ]
    },
    {
     "data": {
      "text/plain": [
       "2.2799998987466097e-05"
      ]
     },
     "execution_count": 25,
     "metadata": {},
     "output_type": "execute_result"
    }
   ],
   "source": [
    "start_time = timer()\n",
    "#some code...\n",
    "end_time = timer()\n",
    "print_train_time(start = start_time, end = end_time, device = 'cpu')"
   ]
  },
  {
   "cell_type": "markdown",
   "id": "1d3f61b8",
   "metadata": {},
   "source": [
    "### Loops\n",
    "1. Loop through the epochs\n",
    "2. Loop through training batches, perform training steps, calculate the train loss *per batch*\n",
    "3. Loop through testing batches, perform testing steps, calculate the test loss per batch\n",
    "4. Print out what's happening\n",
    "5. Time it all (for fun)"
   ]
  },
  {
   "cell_type": "code",
   "execution_count": 26,
   "id": "946e522e",
   "metadata": {},
   "outputs": [
    {
     "data": {
      "application/vnd.jupyter.widget-view+json": {
       "model_id": "be2f7f65194d48fb88238594026d3051",
       "version_major": 2,
       "version_minor": 0
      },
      "text/plain": [
       "  0%|          | 0/3 [00:00<?, ?it/s]"
      ]
     },
     "metadata": {},
     "output_type": "display_data"
    },
    {
     "name": "stdout",
     "output_type": "stream",
     "text": [
      "Epoch : 0\n",
      "-----------\n",
      "Looked at 0/60000 samples.\n",
      "Looked at 16000/60000 samples.\n",
      "Looked at 32000/60000 samples.\n",
      "Looked at 48000/60000 samples.\n",
      "\n",
      "Train loss : 0.9096 | Test loss :  0.6290 | Test accuracy : 78.63418530351437\n",
      "Epoch : 1\n",
      "-----------\n",
      "Looked at 0/60000 samples.\n",
      "Looked at 16000/60000 samples.\n",
      "Looked at 32000/60000 samples.\n",
      "Looked at 48000/60000 samples.\n",
      "\n",
      "Train loss : 0.5573 | Test loss :  0.5441 | Test accuracy : 81.13019169329074\n",
      "Epoch : 2\n",
      "-----------\n",
      "Looked at 0/60000 samples.\n",
      "Looked at 16000/60000 samples.\n",
      "Looked at 32000/60000 samples.\n",
      "Looked at 48000/60000 samples.\n",
      "\n",
      "Train loss : 0.5027 | Test loss :  0.5137 | Test accuracy : 81.9988019169329\n",
      "Train time on cpu :  26.725 seconds\n"
     ]
    }
   ],
   "source": [
    "# Import tqdm for prograss bar\n",
    "from tqdm.notebook import tqdm\n",
    "# from tqdm.auto import tqdm\n",
    "\n",
    "# Setting timer and seed\n",
    "torch.manual_seed(42)\n",
    "train_time_start_on_cpu = timer()\n",
    "\n",
    "# Set the number of epochs (keeping it small at the beginning)\n",
    "epochs = 3\n",
    "\n",
    "# Creating training and testing loops\n",
    "for epoch in tqdm(range(epochs)):\n",
    "    print(f\"Epoch : {epoch}\\n-----------\")\n",
    "    \n",
    "    ## Training\n",
    "    train_loss = 0\n",
    "    # Add a loop through training batches\n",
    "    for batch, (X, y) in enumerate(train_dataloader):\n",
    "        X = X.to(device)\n",
    "        y = y.to(device)\n",
    "        \n",
    "        model0.train()\n",
    "\n",
    "        # forward pass\n",
    "        train_preds = model0(X)  \n",
    "\n",
    "        #Calculate loss (per batch)\n",
    "        loss = loss_fn(train_preds, y)\n",
    "        train_loss += loss # accumulates the loss separaterly per loop\n",
    "\n",
    "        # Optimizer zero grad\n",
    "        optimizer.zero_grad()\n",
    "\n",
    "        # Loss backward\n",
    "        loss.backward()\n",
    "\n",
    "        optimizer.step()\n",
    "\n",
    "        if batch % 500 == 0:\n",
    "            print(f\"Looked at {batch * len(X)}/{len(train_dataloader.dataset)} samples.\")\n",
    "\n",
    "    # Divide total train loss by length of train dataloader\n",
    "    train_loss /= len(train_dataloader)\n",
    "\n",
    "\n",
    "                \n",
    "#----------------------------- Testing----------------------------\n",
    "                  \n",
    "    test_loss, test_acc = 0, 0\n",
    "    model0.eval()\n",
    "    with torch.inference_mode():\n",
    "        for X_test, y_test in test_dataloader:\n",
    "            X_test = X_test.to(device)\n",
    "            y_test = y_test.to(device)\n",
    "            \n",
    "            \n",
    "            # forward pass\n",
    "            test_preds = model0(X_test)\n",
    "\n",
    "            # Calculate loss (accumulatively)\n",
    "            test_loss += loss_fn(test_preds, y_test)\n",
    "\n",
    "            # Calculate accuracy\n",
    "            test_acc += accuracy_fn(y_true = y_test, y_pred = test_preds.argmax(dim = 1))\n",
    "\n",
    "        # Calculate the test loss average per batch\n",
    "        test_loss /= len(test_dataloader)\n",
    "\n",
    "        #Calculate the test acc average per batch \n",
    "        test_acc /= len(test_dataloader)\n",
    "    \n",
    "    # Print what's happening\n",
    "    print(f\"\\nTrain loss : {train_loss:.4f} | Test loss : {test_loss: .4f} | Test accuracy : {test_acc}\")\n",
    "\n",
    "# Calculate the training time\n",
    "train_time_end_on_cpu = timer()\n",
    "total_train_time_model_0 = print_train_time(start = train_time_start_on_cpu,\n",
    "                                           end = train_time_end_on_cpu,\n",
    "                                           device = str(next(model0.parameters()).device)\n",
    "                                           )"
   ]
  },
  {
   "cell_type": "code",
   "execution_count": 27,
   "id": "00649ebd",
   "metadata": {},
   "outputs": [
    {
     "data": {
      "text/plain": [
       "'cpu'"
      ]
     },
     "execution_count": 27,
     "metadata": {},
     "output_type": "execute_result"
    }
   ],
   "source": [
    "str(next(model0.parameters()).device)"
   ]
  },
  {
   "cell_type": "markdown",
   "id": "3bdfc9e6",
   "metadata": {},
   "source": [
    "### Make predictions and get model results"
   ]
  },
  {
   "cell_type": "code",
   "execution_count": 28,
   "id": "91ca2543",
   "metadata": {},
   "outputs": [],
   "source": [
    "torch.manual_seed(42)\n",
    "def eval_model(model : torch.nn.Module,\n",
    "             data_loader : torch.utils.data.DataLoader,\n",
    "             loss_fn : torch.nn.Module,\n",
    "             accuracy_fn,\n",
    "              device = device):\n",
    "    \"\"\"\n",
    "    Returns a dictionary containing the results of model predicting on data loader\n",
    "    \"\"\"\n",
    "    loss, acc = 0, 0\n",
    "    model.eval()\n",
    "    with torch.inference_mode():\n",
    "        for X, y in tqdm(data_loader):\n",
    "            X = X.to(device)\n",
    "            y = y.to(device)\n",
    "            # Make predictions\n",
    "            y_pred = model(X)\n",
    "            \n",
    "            # Accuracy the loss and acc values per batch\n",
    "            loss += loss_fn(y_pred, y)\n",
    "            acc += accuracy_fn(y_true = y,\n",
    "                              y_pred = y_pred.argmax(dim = 1))\n",
    "             \n",
    "        # Scale loss and acc to find average loss/acc per batch\n",
    "        loss /= len(data_loader)\n",
    "        acc /= len(data_loader)\n",
    "        \n",
    "    return {\"model_name\" : model.__class__.__name__ , # This only works when model was created with a class\n",
    "           \"model_loss\" : loss.item(),\n",
    "           \"model_acc\" : acc}\n",
    "\n"
   ]
  },
  {
   "cell_type": "code",
   "execution_count": 29,
   "id": "5be0db26",
   "metadata": {},
   "outputs": [
    {
     "data": {
      "application/vnd.jupyter.widget-view+json": {
       "model_id": "c18fd3000b5540c8a3bae608a5bb036d",
       "version_major": 2,
       "version_minor": 0
      },
      "text/plain": [
       "  0%|          | 0/313 [00:00<?, ?it/s]"
      ]
     },
     "metadata": {},
     "output_type": "display_data"
    },
    {
     "data": {
      "text/plain": [
       "{'model_name': 'FashionMNISTModelv1',\n",
       " 'model_loss': 0.5136752128601074,\n",
       " 'model_acc': 81.9988019169329}"
      ]
     },
     "execution_count": 29,
     "metadata": {},
     "output_type": "execute_result"
    }
   ],
   "source": [
    "# Calculate model result on test dataset\n",
    "\n",
    "model0_results = eval_model(model = model0,\n",
    "                          data_loader = test_dataloader,\n",
    "                          loss_fn = loss_fn,\n",
    "                          accuracy_fn = accuracy_fn)\n",
    "\n",
    "model0_results"
   ]
  },
  {
   "cell_type": "markdown",
   "id": "46766d64",
   "metadata": {},
   "source": [
    "## Non-linear layers with ReLU() and Flatten()"
   ]
  },
  {
   "cell_type": "code",
   "execution_count": 30,
   "id": "d647944c",
   "metadata": {},
   "outputs": [],
   "source": [
    "class FashionMNISTModelV2(nn.Module):\n",
    "    def __init__(self,\n",
    "                input_shape : int,\n",
    "                hidden_units : int,\n",
    "                output_shape : int):\n",
    "        super(). __init__()\n",
    "        \n",
    "        self.layer_stack = nn.Sequential(\n",
    "            nn.Flatten(),\n",
    "            nn.Linear(in_features = input_shape,\n",
    "                     out_features = hidden_units),\n",
    "            nn.ReLU(),\n",
    "            nn.Linear(in_features = hidden_units,\n",
    "                     out_features =  hidden_units),\n",
    "            nn.ReLU(),\n",
    "            nn.Linear(in_features= hidden_units,\n",
    "                     out_features = output_shape),\n",
    "            nn.ReLU()\n",
    "            )\n",
    "    def forward(self, x):\n",
    "            return self.layer_stack(x)\n",
    "        "
   ]
  },
  {
   "cell_type": "code",
   "execution_count": 31,
   "id": "b686c8ea",
   "metadata": {},
   "outputs": [
    {
     "data": {
      "text/plain": [
       "torch.Size([1, 28, 28])"
      ]
     },
     "execution_count": 31,
     "metadata": {},
     "output_type": "execute_result"
    }
   ],
   "source": [
    "X[0].shape"
   ]
  },
  {
   "cell_type": "code",
   "execution_count": 32,
   "id": "fdb3c7f1",
   "metadata": {},
   "outputs": [
    {
     "data": {
      "text/plain": [
       "FashionMNISTModelV2(\n",
       "  (layer_stack): Sequential(\n",
       "    (0): Flatten(start_dim=1, end_dim=-1)\n",
       "    (1): Linear(in_features=784, out_features=10, bias=True)\n",
       "    (2): ReLU()\n",
       "    (3): Linear(in_features=10, out_features=10, bias=True)\n",
       "    (4): ReLU()\n",
       "    (5): Linear(in_features=10, out_features=10, bias=True)\n",
       "    (6): ReLU()\n",
       "  )\n",
       ")"
      ]
     },
     "execution_count": 32,
     "metadata": {},
     "output_type": "execute_result"
    }
   ],
   "source": [
    "model1 = FashionMNISTModelV2(input_shape = (1*28*28),\n",
    "                            hidden_units = 10,\n",
    "                            output_shape = len(class_name))\n",
    "model1.to(device)"
   ]
  },
  {
   "cell_type": "code",
   "execution_count": 33,
   "id": "0afd1ddf",
   "metadata": {},
   "outputs": [],
   "source": [
    "loss_fn = nn.CrossEntropyLoss()\n",
    "optimizer = torch.optim.SGD(model1.parameters(),\n",
    "                           lr = 0.1)\n",
    "from helper_functions import accuracy_fn\n",
    "from tqdm.notebook import tqdm"
   ]
  },
  {
   "cell_type": "markdown",
   "id": "70af206a",
   "metadata": {},
   "source": [
    "## Functioning training and evaluation/ testing loops\n",
    "\n",
    "Let's create a function for:\n",
    "* training loop - `train_loop()`\n",
    "* testing loop - `test_loop()`"
   ]
  },
  {
   "cell_type": "code",
   "execution_count": 34,
   "id": "655b9f9e",
   "metadata": {},
   "outputs": [],
   "source": [
    " def train_step(model : torch.nn.Module,\n",
    "               data_loader : torch.utils.data.DataLoader,\n",
    "               loss_fn : torch.nn.Module,\n",
    "               optimizer : torch.optim.Optimizer,\n",
    "               accuracy_fn,\n",
    "               device : torch.device = device):\n",
    "    '''\n",
    "    performs trainig with model trying to learn on a data_loader.\n",
    "    '''    \n",
    "    \n",
    "    ## Training\n",
    "    train_loss, train_acc = 0, 0\n",
    "    \n",
    "    # Put model into training mode \n",
    "    model.train()\n",
    "    \n",
    "    # Add a loop through training batches\n",
    "    for batch, (X, y) in enumerate(data_loader):\n",
    "        X = X.to(device)\n",
    "        y = y.to(device)\n",
    "        \n",
    "        # forward pass\n",
    "        train_preds = model(X)  \n",
    "\n",
    "        #Calculate loss (per batch)\n",
    "        loss = loss_fn(train_preds, y)\n",
    "        train_loss += loss # accumulates the loss separaterly per loop\n",
    "        train_acc += accuracy_fn(y_true = y,\n",
    "                                y_pred = train_preds.argmax(dim = 1))\n",
    "        # argmax() is used because raw predictions are logits\n",
    "        # dim = 1 is used to set where to apply argmax\n",
    "\n",
    "        # Optimizer zero grad\n",
    "        optimizer.zero_grad()\n",
    "\n",
    "        # Loss backward\n",
    "        loss.backward()\n",
    "\n",
    "        optimizer.step()\n",
    "\n",
    "        \n",
    "    # Divide total train loss and accuracy by length of train dataloader\n",
    "    train_loss /= len(data_loader)\n",
    "    train_acc /= len(data_loader)\n",
    "    print(f\"Train_loss: {train_loss:.4f} | Train_acc:{train_acc:.2f}\")\n"
   ]
  },
  {
   "cell_type": "code",
   "execution_count": 35,
   "id": "aa124e70",
   "metadata": {},
   "outputs": [],
   "source": [
    "def test_step(model : torch.nn.Module,\n",
    "              data_loader : torch.utils.data.DataLoader,\n",
    "              loss_fn : torch.nn.Module,\n",
    "              accuracy_fn,\n",
    "              device : torch.device = device):\n",
    "    \n",
    "    test_loss, test_acc = 0, 0\n",
    "\n",
    "    model.eval()\n",
    "    with torch.inference_mode():\n",
    "        for X_test, y_test in data_loader:\n",
    "            X_test = X_test.to(device)\n",
    "            y_test = y_test.to(device)\n",
    "\n",
    "\n",
    "            # forward pass\n",
    "            test_preds = model(X_test) \n",
    "\n",
    "            # Calculate loss (accumulatively)\n",
    "            test_loss += loss_fn(test_preds, y_test)\n",
    "\n",
    "            # Calculate accuracy\n",
    "            test_acc += accuracy_fn(y_true = y_test, y_pred = test_preds.argmax(dim = 1))\n",
    "\n",
    "        # Calculate the test loss average per batch\n",
    "        test_loss /= len(data_loader)\n",
    "\n",
    "        #Calculate the test acc average per batch \n",
    "        test_acc /= len(data_loader)\n",
    "\n",
    "        # Print what's happening\n",
    "        print(f\"Test loss : {test_loss: .4f} | Test accuracy : {test_acc:.2f}\\n\")"
   ]
  },
  {
   "cell_type": "code",
   "execution_count": 36,
   "id": "98583c4c",
   "metadata": {},
   "outputs": [],
   "source": [
    "def print_train_time(start : float,\n",
    "                     end : float,\n",
    "                     device : torch.device = None):\n",
    "    \"\"\"\n",
    "    Prints difference between start and end time\n",
    "    \"\"\"\n",
    "    total_time = end - start\n",
    "    print(f\"Train time on {device} : {total_time : .3f} seconds\")\n",
    "    return total_time"
   ]
  },
  {
   "cell_type": "code",
   "execution_count": 37,
   "id": "f33095e2",
   "metadata": {},
   "outputs": [
    {
     "data": {
      "application/vnd.jupyter.widget-view+json": {
       "model_id": "c3c2680d63a44b7798b9ea06757355e4",
       "version_major": 2,
       "version_minor": 0
      },
      "text/plain": [
       "  0%|          | 0/3 [00:00<?, ?it/s]"
      ]
     },
     "metadata": {},
     "output_type": "display_data"
    },
    {
     "name": "stdout",
     "output_type": "stream",
     "text": [
      "Epoch: 0\n",
      "------\n",
      "Train_loss: 0.9413 | Train_acc:65.19\n",
      "Test loss :  0.5886 | Test accuracy : 79.05\n",
      "\n",
      "Epoch: 1\n",
      "------\n",
      "Train_loss: 0.5082 | Train_acc:81.98\n",
      "Test loss :  0.5838 | Test accuracy : 79.06\n",
      "\n",
      "Epoch: 2\n",
      "------\n",
      "Train_loss: 0.4603 | Train_acc:83.61\n",
      "Test loss :  0.5305 | Test accuracy : 82.00\n",
      "\n",
      "Train time on cpu :  26.456 seconds\n"
     ]
    }
   ],
   "source": [
    "torch.manual_seed(42)\n",
    "\n",
    "# Measure time\n",
    "from timeit import default_timer as timer\n",
    "train_time_start_on_gpu = timer()\n",
    "\n",
    "# Set epochs\n",
    "epochs = 3\n",
    "\n",
    "# Create a optimization and evaluation loop using train_step() and test_step()\n",
    "for epoch in tqdm(range(epochs)):\n",
    "    print(f\"Epoch: {epoch}\\n------\")\n",
    "    train_step(model = model1,\n",
    "              data_loader = train_dataloader,\n",
    "              loss_fn = loss_fn,\n",
    "              accuracy_fn = accuracy_fn,\n",
    "              optimizer = optimizer,\n",
    "              device = device)\n",
    "    test_step(model = model1,\n",
    "             data_loader = test_dataloader,\n",
    "             loss_fn = loss_fn,\n",
    "             accuracy_fn = accuracy_fn,\n",
    "             device = device) # test doesnot need optimizer as we are evaluating not improving\n",
    "    \n",
    "train_time_end_on_gpu = timer()\n",
    "total_train_time_for_model = print_train_time(start = train_time_start_on_gpu,\n",
    "                                            end = train_time_end_on_gpu,\n",
    "                                            device = device)"
   ]
  },
  {
   "cell_type": "markdown",
   "id": "5d74dcc2",
   "metadata": {},
   "source": [
    "## CPU can be faster sometimes\n",
    "\n",
    "* By default, data is stored in CPU. When GPU is used, data needs to be passed first from CPU which can take time accordingly. But, Processing and computing is faster on GPU"
   ]
  },
  {
   "cell_type": "code",
   "execution_count": 38,
   "id": "4730e1b6",
   "metadata": {},
   "outputs": [
    {
     "data": {
      "application/vnd.jupyter.widget-view+json": {
       "model_id": "3cd378eb761441e59fc704a4d602c2bd",
       "version_major": 2,
       "version_minor": 0
      },
      "text/plain": [
       "  0%|          | 0/313 [00:00<?, ?it/s]"
      ]
     },
     "metadata": {},
     "output_type": "display_data"
    },
    {
     "data": {
      "text/plain": [
       "{'model_name': 'FashionMNISTModelV2',\n",
       " 'model_loss': 0.5305227637290955,\n",
       " 'model_acc': 81.9988019169329}"
      ]
     },
     "execution_count": 38,
     "metadata": {},
     "output_type": "execute_result"
    }
   ],
   "source": [
    "model1_results = eval_model(model = model1,\n",
    "                           data_loader = test_dataloader,\n",
    "                           loss_fn = loss_fn,\n",
    "                           accuracy_fn = accuracy_fn,\n",
    "                           device = device)\n",
    "\n",
    "model1_results"
   ]
  },
  {
   "cell_type": "code",
   "execution_count": 39,
   "id": "f4ac77ca",
   "metadata": {},
   "outputs": [
    {
     "data": {
      "text/plain": [
       "{'model_name': 'FashionMNISTModelv1',\n",
       " 'model_loss': 0.5136752128601074,\n",
       " 'model_acc': 81.9988019169329}"
      ]
     },
     "execution_count": 39,
     "metadata": {},
     "output_type": "execute_result"
    }
   ],
   "source": [
    "model0_results"
   ]
  },
  {
   "cell_type": "markdown",
   "id": "7cfb6c6c",
   "metadata": {},
   "source": [
    "# Convolutional Neural Network"
   ]
  },
  {
   "cell_type": "code",
   "execution_count": 40,
   "id": "52971877",
   "metadata": {},
   "outputs": [],
   "source": [
    "class FashionMNISTV3(nn.Module):\n",
    "    \"\"\"\n",
    "    Model architecture that replicates the TinyVCG\n",
    "    model from CNN explainer website.\n",
    "    \"\"\"\n",
    "    def __init__(self, input_shape : int, hidden_units : int, output_shape : int):\n",
    "        super().__init__()\n",
    "        self.conv_block_1 = nn.Sequential(\n",
    "            nn.Conv2d(in_channels = input_shape,\n",
    "                     out_channels = hidden_units,\n",
    "                     kernel_size = 3,\n",
    "                     stride = 1,\n",
    "                     padding = 1), # these are the hyperparameters for 2d data\n",
    "            nn.ReLU(),\n",
    "            nn.Conv2d(in_channels = hidden_units,\n",
    "                     out_channels = hidden_units,\n",
    "                     kernel_size = 3,\n",
    "                     stride = 1,\n",
    "                     padding = 1),\n",
    "            nn.ReLU(),\n",
    "            nn.MaxPool2d(kernel_size = 2)\n",
    "        )\n",
    "        \n",
    "        self.conv_block_2 = nn.Sequential(\n",
    "            nn.Conv2d(in_channels = hidden_units,\n",
    "                     out_channels = hidden_units,\n",
    "                     kernel_size = 3,\n",
    "                     stride = 1,\n",
    "                     padding = 1),\n",
    "            nn.ReLU(),\n",
    "            nn.Conv2d(in_channels = hidden_units,\n",
    "                     out_channels = hidden_units,\n",
    "                     kernel_size = 3,\n",
    "                     stride = 1,\n",
    "                     padding = 1),\n",
    "            nn.ReLU(),\n",
    "            nn.MaxPool2d(kernel_size = 2)\n",
    "         )\n",
    "        self.classifier = nn.Sequential(\n",
    "             nn.Flatten(),\n",
    "             nn.Linear(in_features = hidden_units*7*7,\n",
    "                      out_features = output_shape)\n",
    "         )\n",
    "            \n",
    "    def forward(self, x):\n",
    "        x = self.conv_block_1(x)\n",
    "#         print(x.shape)\n",
    "        x = self.conv_block_2(x)\n",
    "#         print(x.shape)\n",
    "        x = self.classifier(x)\n",
    "#         print(x.shape)\n",
    "        return x"
   ]
  },
  {
   "cell_type": "code",
   "execution_count": 41,
   "id": "31e77d26",
   "metadata": {
    "scrolled": true
   },
   "outputs": [
    {
     "data": {
      "text/plain": [
       "FashionMNISTV3(\n",
       "  (conv_block_1): Sequential(\n",
       "    (0): Conv2d(1, 5, kernel_size=(3, 3), stride=(1, 1), padding=(1, 1))\n",
       "    (1): ReLU()\n",
       "    (2): Conv2d(5, 5, kernel_size=(3, 3), stride=(1, 1), padding=(1, 1))\n",
       "    (3): ReLU()\n",
       "    (4): MaxPool2d(kernel_size=2, stride=2, padding=0, dilation=1, ceil_mode=False)\n",
       "  )\n",
       "  (conv_block_2): Sequential(\n",
       "    (0): Conv2d(5, 5, kernel_size=(3, 3), stride=(1, 1), padding=(1, 1))\n",
       "    (1): ReLU()\n",
       "    (2): Conv2d(5, 5, kernel_size=(3, 3), stride=(1, 1), padding=(1, 1))\n",
       "    (3): ReLU()\n",
       "    (4): MaxPool2d(kernel_size=2, stride=2, padding=0, dilation=1, ceil_mode=False)\n",
       "  )\n",
       "  (classifier): Sequential(\n",
       "    (0): Flatten(start_dim=1, end_dim=-1)\n",
       "    (1): Linear(in_features=245, out_features=10, bias=True)\n",
       "  )\n",
       ")"
      ]
     },
     "execution_count": 41,
     "metadata": {},
     "output_type": "execute_result"
    }
   ],
   "source": [
    "torch.manual_seed(42)\n",
    "\n",
    "conv_model = FashionMNISTV3(input_shape = 1, # only one colour channel in our image\n",
    "                            hidden_units = 5,\n",
    "                            output_shape = len(class_name))\n",
    "conv_model.to(device)"
   ]
  },
  {
   "cell_type": "code",
   "execution_count": 42,
   "id": "b5cec3ad",
   "metadata": {},
   "outputs": [
    {
     "data": {
      "text/plain": [
       "torch.Size([1, 28, 28])"
      ]
     },
     "execution_count": 42,
     "metadata": {},
     "output_type": "execute_result"
    }
   ],
   "source": [
    "image.shape"
   ]
  },
  {
   "cell_type": "code",
   "execution_count": 43,
   "id": "0ba21753",
   "metadata": {},
   "outputs": [
    {
     "data": {
      "text/plain": [
       "<matplotlib.image.AxesImage at 0x22ac077f990>"
      ]
     },
     "execution_count": 43,
     "metadata": {},
     "output_type": "execute_result"
    },
    {
     "data": {
      "image/png": "[encoded data removed]",
      "text/plain": [
       "<Figure size 640x480 with 1 Axes>"
      ]
     },
     "metadata": {},
     "output_type": "display_data"
    }
   ],
   "source": [
    "plt.imshow(image.squeeze(), cmap = 'gray')"
   ]
  },
  {
   "cell_type": "code",
   "execution_count": 44,
   "id": "d7fa9c13",
   "metadata": {},
   "outputs": [
    {
     "data": {
      "text/plain": [
       "tensor([[-0.0997, -0.0005, -0.0518,  0.1228, -0.0197,  0.0370, -0.0103, -0.1073,\n",
       "          0.1377, -0.0212]], grad_fn=<AddmmBackward0>)"
      ]
     },
     "execution_count": 44,
     "metadata": {},
     "output_type": "execute_result"
    }
   ],
   "source": [
    "# Pass image through image\n",
    "conv_model(image.unsqueeze(0).to(device))\n"
   ]
  },
  {
   "cell_type": "markdown",
   "id": "2e9d83d0",
   "metadata": {},
   "source": [
    "# Stepping through nn.Conv2d()"
   ]
  },
  {
   "cell_type": "code",
   "execution_count": 45,
   "id": "3e092429",
   "metadata": {
    "scrolled": false
   },
   "outputs": [
    {
     "name": "stdout",
     "output_type": "stream",
     "text": [
      "image batch shape: torch.Size([32, 3, 64, 64])\n",
      "Single image shape: torch.Size([3, 64, 64])\n",
      "Test image: \n",
      " tensor([[[ 1.9269,  1.4873,  0.9007,  ...,  1.8446, -1.1845,  1.3835],\n",
      "         [ 1.4451,  0.8564,  2.2181,  ...,  0.3399,  0.7200,  0.4114],\n",
      "         [ 1.9312,  1.0119, -1.4364,  ..., -0.5558,  0.7043,  0.7099],\n",
      "         ...,\n",
      "         [-0.5610, -0.4830,  0.4770,  ..., -0.2713, -0.9537, -0.6737],\n",
      "         [ 0.3076, -0.1277,  0.0366,  ..., -2.0060,  0.2824, -0.8111],\n",
      "         [-1.5486,  0.0485, -0.7712,  ..., -0.1403,  0.9416, -0.0118]],\n",
      "\n",
      "        [[-0.5197,  1.8524,  1.8365,  ...,  0.8935, -1.5114, -0.8515],\n",
      "         [ 2.0818,  1.0677, -1.4277,  ...,  1.6612, -2.6223, -0.4319],\n",
      "         [-0.1010, -0.4388, -1.9775,  ...,  0.2106,  0.2536, -0.7318],\n",
      "         ...,\n",
      "         [ 0.2779,  0.7342, -0.3736,  ..., -0.4601,  0.1815,  0.1850],\n",
      "         [ 0.7205, -0.2833,  0.0937,  ..., -0.1002, -2.3609,  2.2465],\n",
      "         [-1.3242, -0.1973,  0.2920,  ...,  0.5409,  0.6940,  1.8563]],\n",
      "\n",
      "        [[-0.7978,  1.0261,  1.1465,  ...,  1.2134,  0.9354, -0.0780],\n",
      "         [-1.4647, -1.9571,  0.1017,  ..., -1.9986, -0.7409,  0.7011],\n",
      "         [-1.3938,  0.8466, -1.7191,  ..., -1.1867,  0.1320,  0.3407],\n",
      "         ...,\n",
      "         [ 0.8206, -0.3745,  1.2499,  ..., -0.0676,  0.0385,  0.6335],\n",
      "         [-0.5589, -0.3393,  0.2347,  ...,  2.1181,  2.4569,  1.3083],\n",
      "         [-0.4092,  1.5199,  0.2401,  ..., -0.2558,  0.7870,  0.9924]]])\n"
     ]
    }
   ],
   "source": [
    "torch.manual_seed(42)\n",
    "\n",
    "#Create a batch of image\n",
    "images = torch.randn(size = (32, 3, 64, 64))\n",
    "test_image = images[0]\n",
    "\n",
    "print(f\"image batch shape: {images.shape}\")\n",
    "print(f\"Single image shape: {test_image.shape}\")\n",
    "print(f\"Test image: \\n {test_image}\")"
   ]
  },
  {
   "cell_type": "code",
   "execution_count": 46,
   "id": "1570f487",
   "metadata": {},
   "outputs": [
    {
     "data": {
      "text/plain": [
       "torch.Size([10, 62, 62])"
      ]
     },
     "execution_count": 46,
     "metadata": {},
     "output_type": "execute_result"
    }
   ],
   "source": [
    "# Create a single 2d layer\n",
    "conv_layer = nn.Conv2d(in_channels = 3,\n",
    "                     out_channels = 10,\n",
    "                     kernel_size = 3,\n",
    "                     stride = 1,\n",
    "                     padding = 0)\n",
    "\n",
    "# Pass the data through the convolutional layer\n",
    "conv_output = conv_layer(test_image)\n",
    "conv_output.shape"
   ]
  },
  {
   "cell_type": "code",
   "execution_count": 47,
   "id": "bd6f9c27",
   "metadata": {},
   "outputs": [
    {
     "data": {
      "text/plain": [
       "torch.Size([1, 3, 64, 64])"
      ]
     },
     "execution_count": 47,
     "metadata": {},
     "output_type": "execute_result"
    }
   ],
   "source": [
    "test_image.unsqueeze(0).shape"
   ]
  },
  {
   "cell_type": "markdown",
   "id": "1c76708c",
   "metadata": {},
   "source": [
    "# Stepping through nn.MaxPool2d()"
   ]
  },
  {
   "cell_type": "code",
   "execution_count": 48,
   "id": "28fbcc74",
   "metadata": {},
   "outputs": [
    {
     "data": {
      "text/plain": [
       "torch.Size([3, 64, 64])"
      ]
     },
     "execution_count": 48,
     "metadata": {},
     "output_type": "execute_result"
    }
   ],
   "source": [
    " test_image.shape"
   ]
  },
  {
   "cell_type": "code",
   "execution_count": 49,
   "id": "8cc541d9",
   "metadata": {},
   "outputs": [
    {
     "name": "stdout",
     "output_type": "stream",
     "text": [
      "Test image original shape: torch.Size([3, 64, 64])\n",
      "Test image with unsqueezed dimension: torch.Size([1, 3, 64, 64])\n",
      "Shape after going through conv_layer(): torch.Size([1, 10, 62, 62])\n",
      "Shape after going through conv and maxpool layer: torch.Size([1, 10, 31, 31])\n"
     ]
    }
   ],
   "source": [
    "# Print out original image shape without unsqueezed dimension\n",
    "print(f\"Test image original shape: {test_image.shape}\")\n",
    "print(f\"Test image with unsqueezed dimension: {test_image.unsqueeze(0).shape}\")\n",
    "\n",
    "# Create a sample nn.MaxPool2d layer\n",
    "max_pool_layer = nn.MaxPool2d(kernel_size = 2)\n",
    "\n",
    "# Pass data through just the conv layer\n",
    "test_image_through_conv = conv_layer(test_image.unsqueeze(dim = 0))\n",
    "print(f\"Shape after going through conv_layer(): {test_image_through_conv.shape}\")\n",
    "\n",
    "# Pass data through the max pool layer\n",
    "test_image_through_conv_and_max_pool = max_pool_layer(test_image_through_conv)\n",
    "print(f\"Shape after going through conv and maxpool layer: {test_image_through_conv_and_max_pool.shape}\")\n"
   ]
  },
  {
   "cell_type": "code",
   "execution_count": 50,
   "id": "d2afec3b",
   "metadata": {},
   "outputs": [
    {
     "name": "stdout",
     "output_type": "stream",
     "text": [
      "original tensor : \n",
      "tensor([[[[0.3367, 0.1288],\n",
      "          [0.2345, 0.2303]]]])\n",
      "original tensor shape : torch.Size([1, 1, 2, 2])\n",
      "\n",
      "max_pool_tensor : tensor([[[[0.3367]]]])\n",
      "max_pool_tensor shape : torch.Size([1, 1, 1, 1])\n"
     ]
    }
   ],
   "source": [
    "torch.manual_seed(42)\n",
    "\n",
    "# Create a random tensor with a similar numner of dimensions to out image\n",
    "random_tensor = torch.randn(size = (1, 1, 2, 2))\n",
    "random_tensor\n",
    "\n",
    "# Create a max_pool_layer\n",
    "max_pool_layer = nn.MaxPool2d(kernel_size = 2)\n",
    "\n",
    "# Pass the random tensor through the max pool layer\n",
    "max_pool_tensor = max_pool_layer(random_tensor)\n",
    "print(f\"original tensor : \\n{random_tensor}\")\n",
    "print(f\"original tensor shape : {random_tensor.shape}\\n\")\n",
    "print(f\"max_pool_tensor : {max_pool_tensor}\")\n",
    "print(f\"max_pool_tensor shape : {max_pool_tensor.shape}\")"
   ]
  },
  {
   "cell_type": "markdown",
   "id": "fac9edc7",
   "metadata": {},
   "source": [
    "## Train Test"
   ]
  },
  {
   "cell_type": "code",
   "execution_count": 51,
   "id": "ca672edf",
   "metadata": {},
   "outputs": [],
   "source": [
    "# Setup loss function/ eval metrics/optimizer\n",
    "from helper_functions import accuracy_fn\n",
    "\n",
    "loss_fn = nn.CrossEntropyLoss()\n",
    "optimizer = torch.optim.SGD(params = conv_model.parameters(),\n",
    "                           lr = 0.1)\n"
   ]
  },
  {
   "cell_type": "code",
   "execution_count": 52,
   "id": "3f577934",
   "metadata": {},
   "outputs": [
    {
     "data": {
      "application/vnd.jupyter.widget-view+json": {
       "model_id": "b289c4a1e83847c7b4a08c042c1f7f4c",
       "version_major": 2,
       "version_minor": 0
      },
      "text/plain": [
       "  0%|          | 0/3 [00:00<?, ?it/s]"
      ]
     },
     "metadata": {},
     "output_type": "display_data"
    },
    {
     "name": "stdout",
     "output_type": "stream",
     "text": [
      "Epoch: 0\n",
      "-------\n",
      "Train_loss: 0.6465 | Train_acc:76.22\n",
      "Test loss :  0.4385 | Test accuracy : 83.93\n",
      "\n",
      "Train time on cpu :  15.399 seconds\n",
      "Epoch: 1\n",
      "-------\n",
      "Train_loss: 0.4024 | Train_acc:85.59\n",
      "Test loss :  0.3916 | Test accuracy : 85.76\n",
      "\n",
      "Train time on cpu :  30.878 seconds\n",
      "Epoch: 2\n",
      "-------\n",
      "Train_loss: 0.3665 | Train_acc:86.70\n",
      "Test loss :  0.3602 | Test accuracy : 86.79\n",
      "\n",
      "Train time on cpu :  46.077 seconds\n"
     ]
    }
   ],
   "source": [
    "torch.manual_seed(42)\n",
    "torch.cuda.manual_seed(42)\n",
    "\n",
    "# Measure time\n",
    "from timeit import default_timer as timer\n",
    "train_time_start_conv_model = timer()\n",
    "\n",
    "# Train and test model\n",
    "epochs = 3\n",
    "for epoch in tqdm(range(epochs)):\n",
    "    print(f\"Epoch: {epoch}\\n-------\")\n",
    "    \n",
    "    train_step(model = conv_model,\n",
    "              data_loader = train_dataloader,\n",
    "              loss_fn = loss_fn,\n",
    "              optimizer = optimizer,\n",
    "              accuracy_fn = accuracy_fn,\n",
    "              device = device)\n",
    "    \n",
    "    test_step(model = conv_model,\n",
    "             data_loader = test_dataloader,\n",
    "             loss_fn = loss_fn,\n",
    "             accuracy_fn = accuracy_fn,\n",
    "             device = device)\n",
    "    \n",
    "    train_time_end_conv_model = timer()\n",
    "    total_train_time_conv_model = print_train_time(start = train_time_start_conv_model,\n",
    "                                                  end = train_time_end_conv_model,\n",
    "                                                  device = device)\n",
    "    "
   ]
  },
  {
   "cell_type": "code",
   "execution_count": 53,
   "id": "6955b03e",
   "metadata": {},
   "outputs": [
    {
     "data": {
      "application/vnd.jupyter.widget-view+json": {
       "model_id": "3f6d3a69ad6449d1b76857077786ec51",
       "version_major": 2,
       "version_minor": 0
      },
      "text/plain": [
       "  0%|          | 0/313 [00:00<?, ?it/s]"
      ]
     },
     "metadata": {},
     "output_type": "display_data"
    },
    {
     "data": {
      "text/plain": [
       "{'model_name': 'FashionMNISTV3',\n",
       " 'model_loss': 0.36024197936058044,\n",
       " 'model_acc': 86.79113418530352}"
      ]
     },
     "execution_count": 53,
     "metadata": {},
     "output_type": "execute_result"
    }
   ],
   "source": [
    "# Get conv_model results\n",
    "conv_model_results = eval_model(model = conv_model,\n",
    "                                   data_loader = test_dataloader,\n",
    "                                   loss_fn = loss_fn,\n",
    "                                   accuracy_fn = accuracy_fn,\n",
    "                                   device = device)\n",
    "conv_model_results"
   ]
  },
  {
   "cell_type": "markdown",
   "id": "92badd5f",
   "metadata": {},
   "source": [
    "### Compare model results and training time"
   ]
  },
  {
   "cell_type": "code",
   "execution_count": 54,
   "id": "0c8adbc5",
   "metadata": {},
   "outputs": [
    {
     "data": {
      "text/html": [
       "<div>\n",
       "<style scoped>\n",
       "    .dataframe tbody tr th:only-of-type {\n",
       "        vertical-align: middle;\n",
       "    }\n",
       "\n",
       "    .dataframe tbody tr th {\n",
       "        vertical-align: top;\n",
       "    }\n",
       "\n",
       "    .dataframe thead th {\n",
       "        text-align: right;\n",
       "    }\n",
       "</style>\n",
       "<table border=\"1\" class=\"dataframe\">\n",
       "  <thead>\n",
       "    <tr style=\"text-align: right;\">\n",
       "      <th></th>\n",
       "      <th>model_name</th>\n",
       "      <th>model_loss</th>\n",
       "      <th>model_acc</th>\n",
       "    </tr>\n",
       "  </thead>\n",
       "  <tbody>\n",
       "    <tr>\n",
       "      <th>0</th>\n",
       "      <td>FashionMNISTModelv1</td>\n",
       "      <td>0.513675</td>\n",
       "      <td>81.998802</td>\n",
       "    </tr>\n",
       "    <tr>\n",
       "      <th>1</th>\n",
       "      <td>FashionMNISTModelV2</td>\n",
       "      <td>0.530523</td>\n",
       "      <td>81.998802</td>\n",
       "    </tr>\n",
       "    <tr>\n",
       "      <th>2</th>\n",
       "      <td>FashionMNISTV3</td>\n",
       "      <td>0.360242</td>\n",
       "      <td>86.791134</td>\n",
       "    </tr>\n",
       "  </tbody>\n",
       "</table>\n",
       "</div>"
      ],
      "text/plain": [
       "            model_name  model_loss  model_acc\n",
       "0  FashionMNISTModelv1    0.513675  81.998802\n",
       "1  FashionMNISTModelV2    0.530523  81.998802\n",
       "2       FashionMNISTV3    0.360242  86.791134"
      ]
     },
     "execution_count": 54,
     "metadata": {},
     "output_type": "execute_result"
    }
   ],
   "source": [
    "import pandas as pd\n",
    "compare_results = pd.DataFrame([model0_results,\n",
    "                              model1_results,\n",
    "                              conv_model_results])\n",
    "compare_results"
   ]
  },
  {
   "cell_type": "code",
   "execution_count": 55,
   "id": "f7e474eb",
   "metadata": {},
   "outputs": [
    {
     "data": {
      "text/html": [
       "<div>\n",
       "<style scoped>\n",
       "    .dataframe tbody tr th:only-of-type {\n",
       "        vertical-align: middle;\n",
       "    }\n",
       "\n",
       "    .dataframe tbody tr th {\n",
       "        vertical-align: top;\n",
       "    }\n",
       "\n",
       "    .dataframe thead th {\n",
       "        text-align: right;\n",
       "    }\n",
       "</style>\n",
       "<table border=\"1\" class=\"dataframe\">\n",
       "  <thead>\n",
       "    <tr style=\"text-align: right;\">\n",
       "      <th></th>\n",
       "      <th>model_name</th>\n",
       "      <th>model_loss</th>\n",
       "      <th>model_acc</th>\n",
       "      <th>training_time</th>\n",
       "    </tr>\n",
       "  </thead>\n",
       "  <tbody>\n",
       "    <tr>\n",
       "      <th>0</th>\n",
       "      <td>FashionMNISTModelv1</td>\n",
       "      <td>0.513675</td>\n",
       "      <td>81.998802</td>\n",
       "      <td>26.724598</td>\n",
       "    </tr>\n",
       "    <tr>\n",
       "      <th>1</th>\n",
       "      <td>FashionMNISTModelV2</td>\n",
       "      <td>0.530523</td>\n",
       "      <td>81.998802</td>\n",
       "      <td>26.455529</td>\n",
       "    </tr>\n",
       "    <tr>\n",
       "      <th>2</th>\n",
       "      <td>FashionMNISTV3</td>\n",
       "      <td>0.360242</td>\n",
       "      <td>86.791134</td>\n",
       "      <td>46.076948</td>\n",
       "    </tr>\n",
       "  </tbody>\n",
       "</table>\n",
       "</div>"
      ],
      "text/plain": [
       "            model_name  model_loss  model_acc  training_time\n",
       "0  FashionMNISTModelv1    0.513675  81.998802      26.724598\n",
       "1  FashionMNISTModelV2    0.530523  81.998802      26.455529\n",
       "2       FashionMNISTV3    0.360242  86.791134      46.076948"
      ]
     },
     "execution_count": 55,
     "metadata": {},
     "output_type": "execute_result"
    }
   ],
   "source": [
    "# Add training time to results comparision\n",
    "compare_results[\"training_time\"] = [total_train_time_model_0,\n",
    "                                    total_train_time_for_model,\n",
    "                                    total_train_time_conv_model]\n",
    "compare_results"
   ]
  },
  {
   "cell_type": "markdown",
   "id": "a842f422",
   "metadata": {},
   "source": [
    "### Visualize our model results\n"
   ]
  },
  {
   "cell_type": "code",
   "execution_count": 56,
   "id": "82303ffb",
   "metadata": {},
   "outputs": [
    {
     "data": {
      "image/png": "[encoded data removed]",
      "text/plain": [
       "<Figure size 640x480 with 1 Axes>"
      ]
     },
     "metadata": {},
     "output_type": "display_data"
    }
   ],
   "source": [
    "compare_results.set_index(\"model_name\")[\"model_acc\"].plot(kind = \"barh\")\n",
    "plt.xlabel(\"accuracy %\")\n",
    "plt.ylabel(\"model\");\n"
   ]
  },
  {
   "cell_type": "markdown",
   "id": "9b329c8a",
   "metadata": {},
   "source": [
    "### Make and evaluate random predictions with best model"
   ]
  },
  {
   "cell_type": "code",
   "execution_count": 57,
   "id": "cc3ccb09",
   "metadata": {},
   "outputs": [],
   "source": [
    "def make_predictions(model: torch.nn.Module,\n",
    "                    data: list,\n",
    "                    device: torch.device = device):\n",
    "    pred_probs = []\n",
    "    model.eval\n",
    "    with torch.inference_mode():\n",
    "        for sample in data:\n",
    "            # Prepare the sample\n",
    "            sample = torch.unsqueeze(sample, dim = 0).to(device)\n",
    "            \n",
    "            # Fordward pass (model outputs raw logits)\n",
    "            pred_logit = model(sample)\n",
    "            \n",
    "            # Get prediction probability (logit -> prediction probability)\n",
    "            pred_prob = torch.softmax(pred_logit.squeeze(), dim = 0)\n",
    "            \n",
    "            # Get pred_prob off the GPU for further calculations\n",
    "            pred_probs.append(pred_prob.cpu())\n",
    "            \n",
    "    # Stack the pred_probs to turn list into a tensor\n",
    "    return torch.stack(pred_probs)"
   ]
  },
  {
   "cell_type": "code",
   "execution_count": 58,
   "id": "7ed39138",
   "metadata": {},
   "outputs": [
    {
     "data": {
      "text/plain": [
       "torch.Size([1, 28, 28])"
      ]
     },
     "execution_count": 58,
     "metadata": {},
     "output_type": "execute_result"
    }
   ],
   "source": [
    "import random\n",
    "# random.seed(42)\n",
    "test_samples = []\n",
    "test_labels = []\n",
    "\n",
    "for sample, label in random.sample(list(test_data), k = 9 ): # k is the number of samples\n",
    "    test_samples.append(sample)\n",
    "    test_labels.append(label)\n",
    "    \n",
    "# View the first sample shape\n",
    "test_samples[0].shape "
   ]
  },
  {
   "cell_type": "code",
   "execution_count": 59,
   "id": "9e0cc2ab",
   "metadata": {},
   "outputs": [
    {
     "data": {
      "text/plain": [
       "tensor([[3.5578e-04, 1.6764e-05, 3.0122e-02, 6.8358e-05, 9.0144e-01, 7.1131e-06,\n",
       "         6.7594e-02, 1.1095e-06, 3.4710e-04, 4.4173e-05],\n",
       "        [9.3382e-02, 2.9201e-02, 2.2396e-02, 5.6487e-01, 2.7105e-01, 5.0003e-05,\n",
       "         1.7888e-02, 6.5360e-06, 1.1473e-03, 1.0441e-05]])"
      ]
     },
     "execution_count": 59,
     "metadata": {},
     "output_type": "execute_result"
    }
   ],
   "source": [
    "## Make predictions\n",
    "pred_probs = make_predictions(model = conv_model,\n",
    "                             data = test_samples)\n",
    "\n",
    "# View first two precition probabilities\n",
    "pred_probs[0:2]"
   ]
  },
  {
   "cell_type": "code",
   "execution_count": 60,
   "id": "562b3730",
   "metadata": {},
   "outputs": [
    {
     "data": {
      "text/plain": [
       "tensor([4, 3, 2, 5, 9, 7, 7, 3, 2])"
      ]
     },
     "execution_count": 60,
     "metadata": {},
     "output_type": "execute_result"
    }
   ],
   "source": [
    "pred_probs.argmax(dim = 1)"
   ]
  },
  {
   "cell_type": "code",
   "execution_count": 61,
   "id": "de869aad",
   "metadata": {},
   "outputs": [
    {
     "data": {
      "text/plain": [
       "tensor([4, 3, 2, 5, 9, 7, 7, 3, 2])"
      ]
     },
     "execution_count": 61,
     "metadata": {},
     "output_type": "execute_result"
    }
   ],
   "source": [
    "pred_classes = pred_probs.argmax(dim = 1)\n",
    "pred_classes"
   ]
  },
  {
   "cell_type": "code",
   "execution_count": 62,
   "id": "cb234d0e",
   "metadata": {},
   "outputs": [
    {
     "data": {
      "image/png": "[encoded data removed]",
      "text/plain": [
       "<Figure size 900x900 with 9 Axes>"
      ]
     },
     "metadata": {},
     "output_type": "display_data"
    }
   ],
   "source": [
    "# Plot predictions\n",
    "plt.figure(figsize = (9, 9))\n",
    "nrows = 3\n",
    "ncols = 3\n",
    "for i, sample in enumerate(test_samples):\n",
    "    # Create subplot\n",
    "    plt.subplot(nrows, ncols, i+1)\n",
    "    \n",
    "    # Plot the target image\n",
    "    plt.imshow(sample.squeeze(), cmap = \"gray\")\n",
    "    \n",
    "    # Find the prediction (in test form, eg \"Sandal\")\n",
    "    pred_label = class_name[pred_classes[i]]\n",
    "    \n",
    "    # Get the truth label (in text form)\n",
    "    truth_label = class_name[test_labels[i]]\n",
    "    \n",
    "    # Create a title for the plot\n",
    "    title_text = f\"Pred: {pred_label} | Truth: {truth_label}\"\n",
    "    \n",
    "    # Check for equality between pred and truth and change color of title text\n",
    "    if pred_label == truth_label:\n",
    "        plt.title(title_text, fontsize = 10, c = \"g\") # green text if prediction same as truth\n",
    "    else:\n",
    "        plt.title(title_text, fontsize = 10, c = \"r\")\n",
    "        \n",
    "    plt.axis(False);"
   ]
  },
  {
   "cell_type": "markdown",
   "id": "9dcf559d",
   "metadata": {},
   "source": [
    "## Confusion matrix\n",
    "Also, plotting confusion matrix using `mlxtend.plotting.plot_confusion_matrix()`"
   ]
  },
  {
   "cell_type": "code",
   "execution_count": 63,
   "id": "28e29f43",
   "metadata": {},
   "outputs": [
    {
     "data": {
      "application/vnd.jupyter.widget-view+json": {
       "model_id": "352a9489e43c41f5833afa049733b275",
       "version_major": 2,
       "version_minor": 0
      },
      "text/plain": [
       "Making predictions..:   0%|          | 0/313 [00:00<?, ?it/s]"
      ]
     },
     "metadata": {},
     "output_type": "display_data"
    },
    {
     "data": {
      "text/plain": [
       "0"
      ]
     },
     "execution_count": 63,
     "metadata": {},
     "output_type": "execute_result"
    }
   ],
   "source": [
    "from tqdm.auto import tqdm\n",
    "import numpy as np\n",
    "\n",
    "# Make prediction with trained model\n",
    "y_preds = []\n",
    "conv_model.eval()\n",
    "with torch.inference_mode():\n",
    "    for X, y in tqdm(test_dataloader, desc = \"Making predictions..\"):\n",
    "        # Send the data and targets to target device\n",
    "        X, y = X.to(device), y.to(device)\n",
    "        # Do the forward pass\n",
    "        y_logit = conv_model(X)\n",
    "        # Turn predictions from logits -> prediction probabilities -> prediction labels\n",
    "        y_pred = torch.softmax(y_logit.squeeze(), dim = 0).argmax(dim = 1)\n",
    "        # Put prediction on CPU for evaluation\n",
    "        y_preds.append(y_pred.cpu())\n",
    "        \n",
    "# concatenate lost of predictions into a tensor\n",
    "# print(y_preds) \n",
    "y_pred_tensor = torch.cat(y_preds)\n",
    "y_pred_tensor[:50]\n",
    "0"
   ]
  },
  {
   "cell_type": "code",
   "execution_count": 68,
   "id": "19fba81a",
   "metadata": {},
   "outputs": [
    {
     "name": "stdout",
     "output_type": "stream",
     "text": [
      "mixed version: 0.22.0\n"
     ]
    }
   ],
   "source": [
    "# See if required packages are installed and if not, install them\n",
    "try:\n",
    "    import mlxtend, torchmetrics\n",
    "    print(f\"mixed version: {mlxtend.__version__}\")\n",
    "    assert int(mlxtend.__version__.split(\".\")[1]) >= 19, \"mlxtend version should be 0.19.0 or higher\" \n",
    "except:\n",
    "    !pip install torchmetrics -U mlxtend\n",
    "    print(f\"mlxtend_version: {mlxtend.__version__}\")  "
   ]
  },
  {
   "cell_type": "code",
   "execution_count": 83,
   "id": "b5d46e8d",
   "metadata": {},
   "outputs": [
    {
     "name": "stdout",
     "output_type": "stream",
     "text": [
      "tensor([[760,   3,  17,  45,   7,   3, 156,   1,   8,   0],\n",
      "        [ 11, 858,   2,  88,  20,   1,  17,   0,   3,   0],\n",
      "        [ 17,   3, 677,  13, 116,   0, 165,   0,   8,   1],\n",
      "        [ 58,   8,  21, 808,  38,   0,  57,   0,  10,   0],\n",
      "        [  5,   4, 118,  45, 640,   0, 183,   0,   5,   0],\n",
      "        [ 10,   4,   2,  10,   0, 812,  14,  55,  86,   7],\n",
      "        [136,   4,  84,  48,  61,   1, 654,   0,  12,   0],\n",
      "        [  1,   0,   0,   0,   0,  28,   0, 916,   5,  50],\n",
      "        [ 32,   2,  15,  24,   8,  10,  48,   8, 852,   1],\n",
      "        [  3,   0,   0,   1,   1,  25,  16, 140,   9, 805]])\n"
     ]
    },
    {
     "data": {
      "image/png": "[encoded data removed]",
      "text/plain": [
       "<Figure size 1000x700 with 1 Axes>"
      ]
     },
     "metadata": {},
     "output_type": "display_data"
    }
   ],
   "source": [
    "from torchmetrics import ConfusionMatrix\n",
    "from mlxtend.plotting import plot_confusion_matrix\n",
    "\n",
    "# Setup confusion instance and compare predictions to targets\n",
    "confmat = ConfusionMatrix(num_classes = len(class_name),\n",
    "                          task = \"multiclass\"\n",
    "                          )\n",
    "confmat_tensor = confmat(preds = y_pred_tensor,\n",
    "                           target = test_data.targets,\n",
    "                         )\n",
    "print(confmat_tensor)\n",
    "\n",
    "# plotting confusion matrix\n",
    "fog, ax = plot_confusion_matrix(figsize = (10, 7),\n",
    "                                conf_mat = confmat_tensor.numpy(), # matplotlib kiles working with numpy\n",
    "                                class_names = class_name\n",
    "                               )\n"
   ]
  },
  {
   "cell_type": "markdown",
   "id": "1ef0396a",
   "metadata": {},
   "source": [
    "## Save and load best performing model"
   ]
  },
  {
   "cell_type": "code",
   "execution_count": 87,
   "id": "daa0c113",
   "metadata": {},
   "outputs": [
    {
     "name": "stdout",
     "output_type": "stream",
     "text": [
      "Saving model to: models\\pytorch_CNN_FASHIONMNIST(dict).pth\n"
     ]
    }
   ],
   "source": [
    "from pathlib import Path\n",
    "\n",
    "# Create model dictory path\n",
    "MODEL_PATH = Path(\"models\")\n",
    "MODEL_PATH.mkdir(parents = True, # makes path\n",
    "                exist_ok = True) # no error if exists\n",
    "\n",
    "# Create model save\n",
    "MODEL_NAME = \"pytorch_CNN_FASHIONMNIST(dict).pth\"\n",
    "MODEL_SAVE_PATH = MODEL_PATH / MODEL_NAME\n",
    "                  \n",
    "MODEL_SAVE_PATH\n",
    "\n",
    "# Save the model state dict\n",
    "print(f\"Saving model to: {MODEL_SAVE_PATH}\")\n",
    "torch.save(obj = conv_model.state_dict(),\n",
    "          f = MODEL_SAVE_PATH)"
   ]
  },
  {
   "cell_type": "code",
   "execution_count": 94,
   "id": "81e5e2b0",
   "metadata": {},
   "outputs": [
    {
     "data": {
      "text/plain": [
       "FashionMNISTV3(\n",
       "  (conv_block_1): Sequential(\n",
       "    (0): Conv2d(1, 5, kernel_size=(3, 3), stride=(1, 1), padding=(1, 1))\n",
       "    (1): ReLU()\n",
       "    (2): Conv2d(5, 5, kernel_size=(3, 3), stride=(1, 1), padding=(1, 1))\n",
       "    (3): ReLU()\n",
       "    (4): MaxPool2d(kernel_size=2, stride=2, padding=0, dilation=1, ceil_mode=False)\n",
       "  )\n",
       "  (conv_block_2): Sequential(\n",
       "    (0): Conv2d(5, 5, kernel_size=(3, 3), stride=(1, 1), padding=(1, 1))\n",
       "    (1): ReLU()\n",
       "    (2): Conv2d(5, 5, kernel_size=(3, 3), stride=(1, 1), padding=(1, 1))\n",
       "    (3): ReLU()\n",
       "    (4): MaxPool2d(kernel_size=2, stride=2, padding=0, dilation=1, ceil_mode=False)\n",
       "  )\n",
       "  (classifier): Sequential(\n",
       "    (0): Flatten(start_dim=1, end_dim=-1)\n",
       "    (1): Linear(in_features=245, out_features=10, bias=True)\n",
       "  )\n",
       ")"
      ]
     },
     "execution_count": 94,
     "metadata": {},
     "output_type": "execute_result"
    }
   ],
   "source": [
    "# Create a new instance\n",
    "torch.manual_seed(42)\n",
    "\n",
    "new_model = FashionMNISTV3(input_shape = 1,\n",
    "                          hidden_units = 5,\n",
    "                          output_shape = len(class_name)\n",
    "                          )\n",
    "\n",
    "# Load the saved state_dict())\n",
    "new_model.load_state_dict(torch.load(f = MODEL_SAVE_PATH))\n",
    "\n",
    "# Send the model to the target device\n",
    "new_model"
   ]
  },
  {
   "cell_type": "code",
   "execution_count": 97,
   "id": "d3e46f39",
   "metadata": {},
   "outputs": [
    {
     "data": {
      "text/plain": [
       "{'model_name': 'FashionMNISTV3',\n",
       " 'model_loss': 0.36024197936058044,\n",
       " 'model_acc': 86.79113418530352}"
      ]
     },
     "execution_count": 97,
     "metadata": {},
     "output_type": "execute_result"
    }
   ],
   "source": [
    "conv_model_results"
   ]
  },
  {
   "cell_type": "code",
   "execution_count": 100,
   "id": "e1df2324",
   "metadata": {},
   "outputs": [
    {
     "data": {
      "application/vnd.jupyter.widget-view+json": {
       "model_id": "b86f46276eda4d79bca27be138edb719",
       "version_major": 2,
       "version_minor": 0
      },
      "text/plain": [
       "  0%|          | 0/313 [00:00<?, ?it/s]"
      ]
     },
     "metadata": {},
     "output_type": "display_data"
    }
   ],
   "source": [
    "## Evaluate loaded model\n",
    "torch.manual_seed(42)\n",
    "\n",
    "new_model_results = eval_model(\n",
    "                        model = new_model,\n",
    "                        loss_fn = loss_fn,\n",
    "                        accuracy_fn = accuracy_fn,\n",
    "                        data_loader = test_dataloader)"
   ]
  },
  {
   "cell_type": "code",
   "execution_count": 102,
   "id": "7e93ebc7",
   "metadata": {},
   "outputs": [
    {
     "data": {
      "text/plain": [
       "{'model_name': 'FashionMNISTV3',\n",
       " 'model_loss': 0.36024197936058044,\n",
       " 'model_acc': 86.79113418530352}"
      ]
     },
     "execution_count": 102,
     "metadata": {},
     "output_type": "execute_result"
    }
   ],
   "source": [
    "new_model_results"
   ]
  },
  {
   "cell_type": "code",
   "execution_count": 103,
   "id": "dab34eeb",
   "metadata": {},
   "outputs": [
    {
     "data": {
      "text/plain": [
       "tensor(True)"
      ]
     },
     "execution_count": 103,
     "metadata": {},
     "output_type": "execute_result"
    }
   ],
   "source": [
    "torch.isclose(torch.tensor(conv_model_results[\"model_loss\"]),\n",
    "             torch.tensor(new_model_results[\"model_loss\"]),\n",
    "             atol = 1e-02)"
   ]
  },
  {
   "cell_type": "code",
   "execution_count": null,
   "id": "c96748da",
   "metadata": {},
   "outputs": [],
   "source": []
  }
 ],
 "metadata": {
  "kernelspec": {
   "display_name": "Python 3 (ipykernel)",
   "language": "python",
   "name": "python3"
  },
  "language_info": {
   "codemirror_mode": {
    "name": "ipython",
    "version": 3
   },
   "file_extension": ".py",
   "mimetype": "text/x-python",
   "name": "python",
   "nbconvert_exporter": "python",
   "pygments_lexer": "ipython3",
   "version": "3.11.4"
  }
 },
 "nbformat": 4,
 "nbformat_minor": 5
}

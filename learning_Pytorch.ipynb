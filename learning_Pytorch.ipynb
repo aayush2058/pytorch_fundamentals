{
 "cells": [
  {
   "cell_type": "code",
   "execution_count": 1,
   "id": "df11be0b",
   "metadata": {},
   "outputs": [
    {
     "data": {
      "text/plain": [
       "'2.0.1+cu118'"
      ]
     },
     "execution_count": 1,
     "metadata": {},
     "output_type": "execute_result"
    }
   ],
   "source": [
    "import torch\n",
    "from torch import nn # nn contains all PyTorch's building blocks for neural networks\n",
    "import matplotlib.pyplot as plt\n",
    "\n",
    "# Check PyTorch version\n",
    "torch.__version__"
   ]
  },
  {
   "cell_type": "markdown",
   "id": "dd0c2f55",
   "metadata": {},
   "source": [
    "## Data Preparation\n",
    "\n",
    "Data can be anything :\n",
    "* CSV\n",
    "* Images of any kind\n",
    "* Videos (Youtube has lots of data...)\n",
    "* Audio\n",
    "* DNA\n",
    "* Text\n",
    "\n",
    "Machine learning is a game of two parts :\n",
    "\n",
    "    1. Data to numeric\n",
    "    2. Build a model to learn pattern of that data"
   ]
  },
  {
   "cell_type": "markdown",
   "id": "22e5623a",
   "metadata": {},
   "source": [
    "##### Creating data(straingt line) using linear regression formula\n",
    "\n",
    "`y = a + bX` (a is bias , b is weight)"
   ]
  },
  {
   "cell_type": "code",
   "execution_count": 53,
   "id": "4b037630",
   "metadata": {},
   "outputs": [
    {
     "data": {
      "text/plain": [
       "(tensor([[0.0000],\n",
       "         [0.0200],\n",
       "         [0.0400],\n",
       "         [0.0600],\n",
       "         [0.0800],\n",
       "         [0.1000],\n",
       "         [0.1200],\n",
       "         [0.1400],\n",
       "         [0.1600],\n",
       "         [0.1800]]),\n",
       " tensor([[0.5000],\n",
       "         [0.5120],\n",
       "         [0.5240],\n",
       "         [0.5360],\n",
       "         [0.5480],\n",
       "         [0.5600],\n",
       "         [0.5720],\n",
       "         [0.5840],\n",
       "         [0.5960],\n",
       "         [0.6080]]))"
      ]
     },
     "execution_count": 53,
     "metadata": {},
     "output_type": "execute_result"
    }
   ],
   "source": [
    "# Creating *know* parameter\n",
    "weight = 0.6\n",
    "bias = 0.5\n",
    "\n",
    "# Create\n",
    "\n",
    "start = 0\n",
    "stop = 1\n",
    "step = 0.02\n",
    "X = torch.arange(start, stop, step).unsqueeze(dim = 1)\n",
    "y = weight * X + bias\n",
    "\n",
    "X[:10], y[:10]"
   ]
  },
  {
   "cell_type": "code",
   "execution_count": 54,
   "id": "09a3bcb6",
   "metadata": {},
   "outputs": [],
   "source": [
    "# Splitting data into training and test set\n",
    "\n",
    "train_split = int(80 * len(X) / 100)\n",
    "\n",
    "X_train, y_train = X[:train_split], y[:train_split]\n",
    "X_test, y_test = X[train_split:], y[train_split:]"
   ]
  },
  {
   "cell_type": "markdown",
   "id": "619636bf",
   "metadata": {},
   "source": [
    "#### Visualizing"
   ]
  },
  {
   "cell_type": "code",
   "execution_count": 55,
   "id": "91469f39",
   "metadata": {},
   "outputs": [
    {
     "data": {
      "image/png": "[encoded data removed]",
      "text/plain": [
       "<Figure size 640x480 with 1 Axes>"
      ]
     },
     "metadata": {},
     "output_type": "display_data"
    }
   ],
   "source": [
    "plt.scatter(X_train, y_train, c = 'red', s = 4, label = \"Training data\")\n",
    "plt.scatter(X_test, y_test, c = 'green', s = 4, label = \"Testing data\")\n",
    "plt.legend(prop = {\"size\" : 14})\n",
    "plt.show()"
   ]
  },
  {
   "cell_type": "markdown",
   "id": "511a48b3",
   "metadata": {},
   "source": [
    "### Building a model\n",
    "\n",
    "* Logistic regression"
   ]
  },
  {
   "cell_type": "code",
   "execution_count": null,
   "id": "e1bb14bb",
   "metadata": {},
   "outputs": [],
   "source": [
    "class logisticRegressionModel(nn.Module):\n",
    "    self.__init__(self):\n",
    "        super().__init__()\n",
    "        self.weight = nn.Parameter(torch.randn(1,\n",
    "                                              requires_grad = True,\n",
    "                                              dtype = float32))\n",
    "\n",
    "        self.bias = nn.Parameter(torch.randn(1,\n",
    "                                            requires_grad = True,\n",
    "                                            dtype = floar32))\n",
    "        \n",
    "        # Forward method to define the computation in the model\n",
    "        def forward(self, x: torch.Tensor) -> torch.Tensor: # x is the input data\n",
    "            return self.weight * x + self.bias # this is the linear regression formula"
   ]
  }
 ],
 "metadata": {
  "kernelspec": {
   "display_name": "Python 3 (ipykernel)",
   "language": "python",
   "name": "python3"
  },
  "language_info": {
   "codemirror_mode": {
    "name": "ipython",
    "version": 3
   },
   "file_extension": ".py",
   "mimetype": "text/x-python",
   "name": "python",
   "nbconvert_exporter": "python",
   "pygments_lexer": "ipython3",
   "version": "3.11.4"
  }
 },
 "nbformat": 4,
 "nbformat_minor": 5
}
